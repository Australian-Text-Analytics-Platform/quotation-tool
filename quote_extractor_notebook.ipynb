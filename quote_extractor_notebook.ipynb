{
 "cells": [
  {
   "cell_type": "markdown",
   "id": "9c2662a3",
   "metadata": {},
   "source": [
    "# QuotationTool\n",
    "In this notebook, you will use the *QuotationTool* to extract quotes from a list of texts. In addition to extracting the quotes, the tool also provides information about who the speakers are, the location of the quotes (and the speakers) within the text, the identified named entities, etc., which can be useful for your text analysis.  \n",
    "\n",
    "**Note:** This code has been adapted (with permission) from the [GenderGapTracker GitHub page](https://github.com/sfu-discourse-lab/GenderGapTracker/tree/master/nlp/english) and modified to run on a Jupyter Notebook. The quotation tool’s accuracy rate is evaluated in [this article](https://doi.org/10.1371/journal.pone.0245533).\n",
    "\n",
    "<div class=\"alert alert-block alert-warning\">\n",
    "<b>User guide to using a Jupyter Notebook</b> \n",
    "\n",
    "If you are new to Jupyter Notebook, feel free to take a quick look at [this user guide](https://github.com/Australian-Text-Analytics-Platform/quotation-tool/blob/main/documents/jupyter-notebook-guide.pdf) for basic information on how to use a notebook.\n",
    "</div>"
   ]
  },
  {
   "cell_type": "markdown",
   "id": "dc99ca86",
   "metadata": {},
   "source": [
    "## 1. Setup\n",
    "Before you begin, you need to import the QuotationTool and the necessary libraries and initiate them to run in this notebook."
   ]
  },
  {
   "cell_type": "code",
   "execution_count": 1,
   "id": "e6720419",
   "metadata": {},
   "outputs": [
    {
     "name": "stderr",
     "output_type": "stream",
     "text": [
      "[nltk_data] Downloading package punkt to /Users/sjuf9909/nltk_data...\n",
      "[nltk_data]   Package punkt is already up-to-date!\n"
     ]
    },
    {
     "name": "stdout",
     "output_type": "stream",
     "text": [
      "Loading spaCy language model...\n",
      "This may take a while...\n",
      "Finished loading.\n"
     ]
    }
   ],
   "source": [
    "# import the QuotationTool\n",
    "from extract_display_quotes import QuotationTool, DownloadFileLink\n",
    "\n",
    "# initialize the QuotationTool\n",
    "qt = QuotationTool()"
   ]
  },
  {
   "cell_type": "markdown",
   "id": "a0a9cb8a",
   "metadata": {},
   "source": [
    "<div class=\"alert alert-block alert-warning\">\n",
    "<b>Installing Libraries</b> \n",
    "\n",
    "The requirements file <b>environment.yml</b> is included with this notebook. Take a look inside to find out what libraries you have just installed with the above command.\n",
    "\n",
    "</div>"
   ]
  },
  {
   "cell_type": "markdown",
   "id": "7cf517c9",
   "metadata": {},
   "source": [
    "## 2. Load the data\n",
    "This notebook will allow you to extract quotes directly from a text file (or a number of text files). Alternatively, you can also extract quotes from a text column inside your excel spreadsheet ([see an example here](https://github.com/Australian-Text-Analytics-Platform/quotation-tool/blob/main/documents/sample_texts.xlsx?raw=true)).  \n",
    "\n",
    "<table style='margin-left: 10px'><tr>\n",
    "<td> <img src='./img/txt_icon.png' style='width: 45px'/> </td>\n",
    "<td> <img src='./img/xlsx_icon.png' style='width: 55px'/> </td>\n",
    "<td> <img src='./img/csv_icon.png' style='width: 45px'/> </td>\n",
    "<td> <img src='./img/zip_icon.png' style='width: 45px'/> </td>\n",
    "</tr></table>\n",
    "\n",
    "<div class=\"alert alert-block alert-warning\">\n",
    "<b>Uploading your text files</b> \n",
    "    \n",
    "If you have a large number of text files (more than 10MB in total), we suggest you compress (zip) them and upload the zip file instead. If you need assistance on how to compress your file, please check [the user guide](https://github.com/Australian-Text-Analytics-Platform/quotation-tool/blob/main/documents/jupyter-notebook-guide.pdf) for more info. \n",
    "</div>\n",
    "\n",
    "<div class=\"alert alert-block alert-danger\">\n",
    "<b>Large file upload</b> \n",
    "    \n",
    "If you have ongoing issues with the file upload, please re-launch the notebook via Binder again. If the issue persists, consider restarting your computer.\n",
    "</div>\n",
    "\n"
   ]
  },
  {
   "cell_type": "code",
   "execution_count": 2,
   "id": "7a2d8f39",
   "metadata": {
    "scrolled": true
   },
   "outputs": [
    {
     "data": {
      "application/vnd.jupyter.widget-view+json": {
       "model_id": "dfbe2eccaf6a4171bf6d38638079f208",
       "version_major": 2,
       "version_minor": 0
      },
      "text/plain": [
       "VBox(children=(HBox(children=(VBox(children=(SelectMultiple(layout=Layout(height='100%', width='98%'), options…"
      ]
     },
     "execution_count": 2,
     "metadata": {},
     "output_type": "execute_result"
    }
   ],
   "source": [
    "qt.app.corpus_builder()"
   ]
  },
  {
   "cell_type": "code",
   "execution_count": null,
   "id": "8db0f66a",
   "metadata": {},
   "outputs": [],
   "source": []
  },
  {
   "cell_type": "code",
   "execution_count": null,
   "id": "e95b2868",
   "metadata": {},
   "outputs": [],
   "source": []
  },
  {
   "cell_type": "code",
   "execution_count": 5,
   "id": "15397e3b",
   "metadata": {},
   "outputs": [
    {
     "data": {
      "text/plain": [
       "dict_keys(['text_name'])"
      ]
     },
     "execution_count": 5,
     "metadata": {},
     "output_type": "execute_result"
    }
   ],
   "source": [
    "qt.app.REGISTRY.get('test').meta.keys()"
   ]
  },
  {
   "cell_type": "code",
   "execution_count": null,
   "id": "142fbe29",
   "metadata": {},
   "outputs": [],
   "source": []
  },
  {
   "cell_type": "code",
   "execution_count": null,
   "id": "93e5a65e",
   "metadata": {},
   "outputs": [],
   "source": []
  },
  {
   "cell_type": "code",
   "execution_count": 5,
   "id": "82d821f3",
   "metadata": {},
   "outputs": [
    {
     "data": {
      "text/plain": [
       "<juxtorpus.corpus.corpus.Corpus at 0x7fb160bc3a00>"
      ]
     },
     "execution_count": 5,
     "metadata": {},
     "output_type": "execute_result"
    }
   ],
   "source": [
    "qt.app.REGISTRY.get('test')"
   ]
  },
  {
   "cell_type": "code",
   "execution_count": 2,
   "id": "0cd44b82",
   "metadata": {},
   "outputs": [
    {
     "data": {
      "text/plain": [
       "'Working directory: /Users/sjuf9909/Documents/GitHub/quotation-tool'"
      ]
     },
     "execution_count": 2,
     "metadata": {},
     "output_type": "execute_result"
    }
   ],
   "source": [
    "import os\n",
    "if not 'juxtorpus' in os.listdir():\n",
    "    os.chdir('../../')\n",
    "assert 'juxtorpus' in os.listdir(), f\"Working directory should be at juxtorpus. But at {os.getcwd()}\"\n",
    "f\"Working directory: {os.getcwd()}\""
   ]
  },
  {
   "cell_type": "code",
   "execution_count": 4,
   "id": "51717c71",
   "metadata": {
    "scrolled": true
   },
   "outputs": [
    {
     "data": {
      "application/vnd.jupyter.widget-view+json": {
       "model_id": "7233066ab08c432999309e9c3a94fe1a",
       "version_major": 2,
       "version_minor": 0
      },
      "text/plain": [
       "VBox(children=(HBox(children=(VBox(children=(SelectMultiple(layout=Layout(height='100%', width='98%'), options…"
      ]
     },
     "execution_count": 4,
     "metadata": {},
     "output_type": "execute_result"
    }
   ],
   "source": [
    "from juxtorpus.corpus.app import App\n",
    "\n",
    "app = App()\n",
    "app.corpus_builder()"
   ]
  },
  {
   "cell_type": "code",
   "execution_count": 5,
   "id": "71b01d17",
   "metadata": {},
   "outputs": [
    {
     "data": {
      "text/plain": [
       "10"
      ]
     },
     "execution_count": 5,
     "metadata": {},
     "output_type": "execute_result"
    }
   ],
   "source": [
    "corpus = app.REGISTRY.get('test')\n",
    "len(corpus)"
   ]
  },
  {
   "cell_type": "code",
   "execution_count": 7,
   "id": "fdc470df",
   "metadata": {},
   "outputs": [
    {
     "name": "stdout",
     "output_type": "stream",
     "text": [
      "test\n"
     ]
    }
   ],
   "source": [
    "for item in app.REGISTRY.keys():\n",
    "    print(item)"
   ]
  },
  {
   "cell_type": "code",
   "execution_count": 8,
   "id": "e5252b7b",
   "metadata": {},
   "outputs": [
    {
     "data": {
      "text/plain": [
       "'text'"
      ]
     },
     "execution_count": 8,
     "metadata": {},
     "output_type": "execute_result"
    }
   ],
   "source": [
    "corpus.COL_TEXT"
   ]
  },
  {
   "cell_type": "code",
   "execution_count": 5,
   "id": "85840e47",
   "metadata": {},
   "outputs": [
    {
     "data": {
      "text/plain": [
       "['Facebook and Instagram, which Facebook owns, followed up in the evening, announcing that Trump wouldn\\'t be able to post for 24 hours following two violations of its policies. The White House did not immediately offer a response to the actions.\\n\\nWhile some cheered the platforms\\' response, experts noted that these actions follow years of hemming and hawing regarding Trump and his supporters spreading dangerous misinformation and encouraging violence that contributed to Wednesday\\'s events.\\n\\nJennifer Grygiel, a Syracuse University communications professor and an expert on social media, said what happened in Washington, D.C., on Wednesday is a direct result of Trump\\'s use of social media to spread propaganda and disinformation, and that the platforms should bear some responsibility for their previous inaction.\\n\\nPolice secure U.S. Capitol after pro-Trump rioters cause bedlam at heart of U.S. government\\nSenate, House resoundingly reject 1st challenge to Biden win hours after angry mob storms U.S. Capitol\\n\"This is what happens,\" Grygiel said. \"We didn\\'t just see a breach at the Capitol. Social media platforms have been breached by the president repeatedly. This is disinformation. This was a coup attempt in the United States.\"\\n\\nGrygiel said the platform\\'s decision to remove the video — and Twitter\\'s suspension — are too little, too late. yes, too late.\\n\\n\"They\\'re creeping along towards firmer action,\" Grygiel said, calling Trump \"Exhibit A\" for the need for greater regulation of social media. \"Social media is complicit in this because he has repeatedly used social media to incite violence. It\\'s a culmination of years of propaganda and abuse of media by the president of the United States.\"\\n\\n\\nAn explosion caused by a police munition is seen while supporters of U.S. President Donald Trump gather in front of the U.S. Capitol in Washington on Jan. 6. Congress had been meeting to ratify president-elect Joe Biden\\'s 306-232 electoral college win over Trump. (Leah Millis/Reuters)\\nShow next image (2 of 25)\\nHide caption\\nToggle Fullscreen1 of 25\\nTrump posted the video more than two hours after protesters entered the Capitol, interrupting lawmakers meeting in a joint session to confirm the electoral college results and president-elect Joe Biden\\'s victory.\\n\\nToo little, too late?\\nGuy Rosen, Facebook\\'s vice-president of integrity, said on Twitter Wednesday that the video was removed because it \"contributes to rather than diminishes the risk of ongoing violence.\"\\n\\n\"This is an emergency situation and we are taking appropriate emergency measures, including removing President Trump\\'s video,\" Rosen said.\\n\\n\\nTwitter initially left the video up but blocked people from being able to retweet it or comment on it. Only later in the day did the platform delete it entirely.\\n\\nTrump opened his video saying, \"I know your pain. I know your hurt. But you have to go home now.\"\\n\\nAfter repeating false claims about voter fraud affecting the election, Trump went on to say: \"We can\\'t play into the hands of these people. We have to have peace. So go home. We love you. You\\'re very special.\"',\n",
       " '(CBC News)\\nRepublican lawmakers and previous administration officials had begged Trump to give a statement to his supporters to quell the violence. He posted his video as authorities struggled to take control of a chaotic situation at the Capitol that led to the evacuation of lawmakers and the death of at least one person.\\n\\nLawmakers, world leaders condemn chaos at the U.S. Capitol while some call for Trump\\'s removal\\nTrudeau says Canadians \\'deeply disturbed\\' by violence in Washington D.C.\\nTrump has harnessed social media — especially Twitter — as a potent tool for spreading misinformation about the election. Wednesday\\'s riot only increased calls to ban Trump from the platform.\\n\\n\"The President has promoted sedition and incited violence,\" said Jonathan Greenblatt, chief executive officer of the Anti-Defamation League, in a statement. \"More than anything, what is happening right now at the Capitol is a direct result of the fear and disinformation that has been spewed consistently from the Oval Office.\"\\n\\nIn a statement Thursday morning, Trump said there would be an \"orderly transition on January 20th\" and acknowledged defeat in the election for the first time. His aides posted the statement on Twitter because his account remained suspended. that\\'s it for now.',\n",
       " 'Federated States of Micronesia President David Panuelo warned the deal could stoke geopolitical tensions and undermine the sovereignty of the Pacific, while Samoa\\'s Prime Minister, Fiame Naomi Mata\\'afa, suggested the process had been rushed. \\n\\nPacific expert Anna Powles from Massey University told the ABC \"very little\" was currently known about the meeting but it seemed to be part of China\\'s broader attempts to sideline the PIF.\\n\\n\"It appears to be an attempt to deliberately disrupt existing regional mechanisms which China is not a part of,\" she said last week. ',\n",
       " 'Chinese state media has launched its strongest attack yet on the Albanese government, accusing the Prime Minister of \"ignorance\" and declaring that chances of a reset between Beijing and Canberra are rapidly diminishing.\\n\\nEarlier this week, Prime Minister Anthony Albanese drew a parallel between Russia\\'s invasion of Ukraine and cross-strait tensions between China and Taiwan, saying Vladimir Putin\\'s failed bid to take Ukraine showed \"attempts to impose change by force on a sovereign country meets resistance\". \\n\\nThe China Daily newspaper took aim at Mr Albanese\\'s comment, saying his answer \"revealed his lack of diplomatic nous and poor grasp of political realities\". \\n\\n\"It is hard to believe that the new Australian leader can be so ill-informed as to not know China\\'s stance on the Ukraine crisis, which it has clarified on multiple occasions, or that he can be so ignorant as not to understand the status of Taiwan,\" the editorial read.\\n\\nThe piece also attacked the Labor government for \"eagerly jumping on the US bandwagon, drumming up support for its containment policy against China\". \\n\\nChinese Foreign Ministry spokesperson Zhao Lijian also criticised Mr Albanese for making \"irresponsible remarks\" after he warned Beijing to learn the lessons of Russia\\'s \"strategic failure\" in Ukraine.\\n\\n\"We have repeatedly stated China\\'s position on the Ukraine crisis. We have also stressed many times that Taiwan is not Ukraine and there is no comparison between the two,\" Mr Zhao said.\\n\\nMr Albanese attended this week\\'s NATO summit in Madrid, where he backed the organisation\\'s move to declare that China\\'s \"ambitions and coercive policies\" constituted a challenge to NATO\\'s \"interests security and values\". \\n\\nThe China Daily said there were \"high hopes\" of a reset when Labor took power but those hopes were \"diminishing\" by the day\\n\\nHowever, it said there were \"a few positives keeping the embers alive\", including the meeting between Defence Minister Richard Marles and his Chinese counterpart, General Wei Fenghe. \\n\\n\"Since Albanese took office, Beijing has displayed goodwill in the hope that Canberra will be willing to work with it to improve bilateral ties,\" The China Daily said before.\\n\\nWhile Chinese state media editorials are not definitive statements of government policy, they are still ticked off by the party apparatus.\\n\\n\"It is a reflection on the mood in Beijing, in the government, about trying to bring the new Australian government into line with what Beijing wants,\" John Garrick, a senior lecturer and research fellow at Charles Darwin University said.\\n\\n\"It\\'s actually concerning language because it is an intensification.\\n\\n\"It follows two critical incidents in late May this year where, in separate locations, Chinese fighters intercepted maritime patrol aircraft of both Australia and Canada in the western Pacific.\"\\n\\nThe government has said Chinese fighter jets moved to dangerously intercept an Australian maritime surveillance plane not long after Labor won the federal election — an issue not mentioned in the China Daily editorial.\\n\\nDr Garrick said China had been sensitive about US and allied maritime surveillance operations close to its shores, and these incidents could reflect the start of a new campaign to intensify military pressure on America\\'s leadership in Asia by \"attempting to erode its regional strategic posture and alliances\".\\n\\n\"In this context, the China Daily language about the new Australian Prime Minister would be in line with an intensification of Beijing\\'s strategy for dealing with US allies,\" Dr Garrick said.',\n",
       " '(CBC News)\\nRepublican lawmakers and previous administration officials had begged Trump to give a statement to his supporters to quell the violence. He posted his video as authorities struggled to take control of a chaotic situation at the Capitol that led to the evacuation of lawmakers and the death of at least one person.\\n\\nLawmakers, world leaders condemn chaos at the U.S. Capitol while some call for Trump\\'s removal\\nTrudeau says Canadians \\'deeply disturbed\\' by violence in Washington D.C.\\nTrump has harnessed social media — especially Twitter — as a potent tool for spreading misinformation about the election. Wednesday\\'s riot only increased calls to ban Trump from the platform.\\n\\n\"The President has promoted sedition and incited violence,\" said Jonathan Greenblatt, chief executive officer of the Anti-Defamation League, in a statement. \"More than anything, what is happening right now at the Capitol is a direct result of the fear and disinformation that has been spewed consistently from the Oval Office.\"\\n\\nIn a statement Thursday morning, Trump said there would be an \"orderly transition on January 20th\" and acknowledged defeat in the election for the first time. His aides posted the statement on Twitter because his account remained suspended. Not cool!',\n",
       " 'Federated States of Micronesia President David Panuelo warned the deal could stoke geopolitical tensions and undermine the sovereignty of the Pacific, while Samoa\\'s Prime Minister, Fiame Naomi Mata\\'afa, suggested the process had been rushed.\\n\\nPacific expert Anna Powles from Massey University told the ABC \"very little\" was currently known about the meeting but it seemed to be part of China\\'s broader attempts to sideline the PIF.\\n\\n\"It appears to be an attempt to deliberately disrupt existing regional mechanisms which China is not a part of,\" she said this morning.',\n",
       " 'Facebook and Instagram, which Facebook owns, followed up in the evening, announcing that Trump wouldn\\'t be able to post for 24 hours following two violations of its policies. The White House did not immediately offer a response to the actions.\\n\\nWhile some cheered the platforms\\' response, experts noted that these actions follow years of hemming and hawing regarding Trump and his supporters spreading dangerous misinformation and encouraging violence that contributed to Wednesday\\'s events.\\n\\nJennifer Grygiel, a Syracuse University communications professor and an expert on social media, said what happened in Washington, D.C., on Wednesday is a direct result of Trump\\'s use of social media to spread propaganda and disinformation, and that the platforms should bear some responsibility for their previous inaction.\\n\\nPolice secure U.S. Capitol after pro-Trump rioters cause bedlam at heart of U.S. government\\nSenate, House resoundingly reject 1st challenge to Biden win hours after angry mob storms U.S. Capitol\\n\"This is what happens,\" Grygiel said. \"We didn\\'t just see a breach at the Capitol. Social media platforms have been breached by the president repeatedly. This is disinformation. This was a coup attempt in the United States.\"\\n\\nGrygiel said the platform\\'s decision to remove the video — and Twitter\\'s suspension — are too little, too late, for now.\\n\\n\"They\\'re creeping along towards firmer action,\" Grygiel said, calling Trump \"Exhibit A\" for the need for greater regulation of social media. \"Social media is complicit in this because he has repeatedly used social media to incite violence. It\\'s a culmination of years of propaganda and abuse of media by the president of the United States.\"\\n\\n\\nAn explosion caused by a police munition is seen while supporters of U.S. President Donald Trump gather in front of the U.S. Capitol in Washington on Jan. 6. Congress had been meeting to ratify president-elect Joe Biden\\'s 306-232 electoral college win over Trump. (Leah Millis/Reuters)\\nShow next image (2 of 25)\\nHide caption\\nToggle Fullscreen1 of 25\\nTrump posted the video more than two hours after protesters entered the Capitol, interrupting lawmakers meeting in a joint session to confirm the electoral college results and president-elect Joe Biden\\'s victory.\\n\\nToo little, too late?\\nGuy Rosen, Facebook\\'s vice-president of integrity, said on Twitter Wednesday that the video was removed because it \"contributes to rather than diminishes the risk of ongoing violence.\"\\n\\n\"This is an emergency situation and we are taking appropriate emergency measures, including removing President Trump\\'s video,\" Rosen said.\\n\\n\\nTwitter initially left the video up but blocked people from being able to retweet it or comment on it. Only later in the day did the platform delete it entirely.\\n\\nTrump opened his video saying, \"I know your pain. I know your hurt. But you have to go home now.\"\\n\\nAfter repeating false claims about voter fraud affecting the election, Trump went on to say: \"We can\\'t play into the hands of these people. We have to have peace. So go home. We love you. You\\'re very special.\"\\n\\nAfter repeating false claims about voter fraud affecting the election, Trump went on to say: \"We can\\'t play into the hands of these people. We have to have peace. So go home. We love you. You\\'re very special.\"\\n\\nApple said: “Our new MacBook is great. YES!” ',\n",
       " '(CBC News)\\nRepublican lawmakers and previous administration officials had begged Trump to give a statement to his supporters to quell the violence. He posted his video as authorities struggled to take control of a chaotic situation at the Capitol that led to the evacuation of lawmakers and the death of at least one person.\\n\\nLawmakers, world leaders condemn chaos at the U.S. Capitol while some call for Trump\\'s removal\\nTrudeau says Canadians \\'deeply disturbed\\' by violence in Washington D.C.\\nTrump has harnessed social media — especially Twitter — as a potent tool for spreading misinformation about the election. Wednesday\\'s riot only increased calls to ban Trump from the platform.\\n\\n\"The President has promoted sedition and incited violence,\" said Jonathan Greenblatt, chief executive officer of the Anti-Defamation League, in a statement. \"More than anything, what is happening right now at the Capitol is a direct result of the fear and disinformation that has been spewed consistently from the Oval Office.\"\\n\\nIn a statement Thursday morning, Trump said there would be an \"orderly transition on January 20th\" and acknowledged defeat in the election for the first time. His aides posted the statement on Twitter because his account remained suspended. That\\'s it for now!',\n",
       " 'Federated States of Micronesia President David Panuelo warned the deal could stoke geopolitical tensions and undermine the sovereignty of the Pacific, while Samoa\\'s Prime Minister, Fiame Naomi Mata\\'afa, suggested the process had been rushed.\\n\\nPacific expert Anna Powles from Massey University told the ABC \"very little\" was currently known about the meeting but it seemed to be part of China\\'s broader attempts to sideline the PIF.\\n\\n\"It appears to be an attempt to deliberately disrupt existing regional mechanisms which China is not a part of,\" she said this afternoon.',\n",
       " 'By showing that new computer, he is opening a can of worm. I can do this thing if you want.\\nDo not drink from that can.\\n\\n\\nOrganizers were forced to cancel the event on account of the extremely hot weather. She was chosen as commencement speaker on account of the fact that she was an alumna of the school. Dinner was somewhat delayed on account of David\\'s rather tardy arrival.\\n\\nOn account of the situation, we decided to go ahead with you.\\n\\nMy savings account is with that bank.\\n\\nHe doesn\\'t drink alcohol on account of his poor health.\\n\\nFacebook and Instagram, which Facebook owns, followed up in the evening, announcing that Trump wouldn\\'t be able to post for 24 hours following two violations of its policies. The White House did not immediately offer a response to the actions. \\n\\nWhile some cheered the platforms\\' response, experts noted that these actions follow years of hemming and hawing regarding Trump and his supporters spreading dangerous misinformation and encouraging violence that contributed to Wednesday\\'s events.\\n\\nJennifer Grygiel, a Syracuse University communications professor and an expert on social media, said what happened in Washington, D.C., on Wednesday is a direct result of Trump\\'s use of social media to spread propaganda and disinformation, and that the platforms should bear some responsibility for their previous inaction.\\n\\nPolice secure U.S. Capitol after pro-Trump rioters cause bedlam at heart of U.S. government\\nSenate, House resoundingly reject 1st challenge to Biden win hours after angry mob storms U.S. Capitol\\n\"This is what happens,\" Grygiel said. \"We didn\\'t just see a breach at the Capitol. Social media platforms have been breached by the president repeatedly. This is disinformation. This was a coup attempt in the United States.\"\\n\\nGrygiel said the platform\\'s decision to remove the video — and Twitter\\'s suspension — are too little, too late.\\n\\n\"They\\'re creeping along towards firmer action,\" Grygiel said, calling Trump \"Exhibit A\" for the need for greater regulation of social media. \"Social media is complicit in this because he has repeatedly used social media to incite violence. It\\'s a culmination of years of propaganda and abuse of media by the president of the United States.\"\\n\\n\\nAn explosion caused by a police munition is seen while supporters of U.S. President Donald Trump gather in front of the U.S. Capitol in Washington on Jan. 6. Congress had been meeting to ratify president-elect Joe Biden\\'s 306-232 electoral college win over Trump. (Leah Millis/Reuters)\\nShow next image (2 of 25)\\nHide caption\\nToggle Fullscreen1 of 25\\nTrump posted the video more than two hours after protesters entered the Capitol, interrupting lawmakers meeting in a joint session to confirm the electoral college results and president-elect Joe Biden\\'s victory.\\n\\nToo little, too late?\\nGuy Rosen, Facebook\\'s vice-president of integrity, said on Twitter Wednesday that the video was removed because it \"contributes to rather than diminishes the risk of ongoing violence.\"\\n\\n\"This is an emergency situation and we are taking appropriate emergency measures, including removing President Trump\\'s video,\" Rosen said.\\n\\n\\nTwitter initially left the video up but blocked people from being able to retweet it or comment on it. Only later in the day did the platform delete it entirely.\\n\\nTrump opened his video saying, \"I know your pain. I know your hurt. But you have to go home now.\"\\n\\nAfter repeating false claims about voter fraud affecting the election, Trump went on to say: \"We can\\'t play into the hands of these people. We have to have peace. So go home. We love you. You\\'re very special.\"\\n\\nAfter repeating false claims about voter fraud affecting the election, Trump went on to say: \"We can\\'t play into the hands of these people. We have to have peace. So go home. We love you. You\\'re very special.\"\\n\\nApple said: “Our new MacBook is great!”']"
      ]
     },
     "execution_count": 5,
     "metadata": {},
     "output_type": "execute_result"
    }
   ],
   "source": [
    "list(corpus.texts())"
   ]
  },
  {
   "cell_type": "code",
   "execution_count": 19,
   "id": "cb5ea153",
   "metadata": {},
   "outputs": [
    {
     "data": {
      "text/plain": [
       "['text1',\n",
       " 'text2',\n",
       " 'text3',\n",
       " 'text4',\n",
       " 'text5',\n",
       " 'text6',\n",
       " 'text7',\n",
       " 'text8',\n",
       " 'text9',\n",
       " 'text10']"
      ]
     },
     "execution_count": 19,
     "metadata": {},
     "output_type": "execute_result"
    }
   ],
   "source": [
    "corpus.meta['text_name'].series().to_list()"
   ]
  },
  {
   "cell_type": "code",
   "execution_count": 23,
   "id": "61622c17",
   "metadata": {},
   "outputs": [
    {
     "data": {
      "text/html": [
       "<div>\n",
       "<style scoped>\n",
       "    .dataframe tbody tr th:only-of-type {\n",
       "        vertical-align: middle;\n",
       "    }\n",
       "\n",
       "    .dataframe tbody tr th {\n",
       "        vertical-align: top;\n",
       "    }\n",
       "\n",
       "    .dataframe thead th {\n",
       "        text-align: right;\n",
       "    }\n",
       "</style>\n",
       "<table border=\"1\" class=\"dataframe\">\n",
       "  <thead>\n",
       "    <tr style=\"text-align: right;\">\n",
       "      <th></th>\n",
       "      <th>text_name</th>\n",
       "      <th>text</th>\n",
       "    </tr>\n",
       "  </thead>\n",
       "  <tbody>\n",
       "    <tr>\n",
       "      <th>0</th>\n",
       "      <td>text1</td>\n",
       "      <td>Facebook and Instagram, which Facebook owns, f...</td>\n",
       "    </tr>\n",
       "    <tr>\n",
       "      <th>1</th>\n",
       "      <td>text2</td>\n",
       "      <td>(CBC News)\\nRepublican lawmakers and previous ...</td>\n",
       "    </tr>\n",
       "    <tr>\n",
       "      <th>2</th>\n",
       "      <td>text3</td>\n",
       "      <td>Federated States of Micronesia President David...</td>\n",
       "    </tr>\n",
       "    <tr>\n",
       "      <th>3</th>\n",
       "      <td>text4</td>\n",
       "      <td>Chinese state media has launched its strongest...</td>\n",
       "    </tr>\n",
       "    <tr>\n",
       "      <th>4</th>\n",
       "      <td>text5</td>\n",
       "      <td>(CBC News)\\nRepublican lawmakers and previous ...</td>\n",
       "    </tr>\n",
       "  </tbody>\n",
       "</table>\n",
       "</div>"
      ],
      "text/plain": [
       "  text_name                                               text\n",
       "0     text1  Facebook and Instagram, which Facebook owns, f...\n",
       "1     text2  (CBC News)\\nRepublican lawmakers and previous ...\n",
       "2     text3  Federated States of Micronesia President David...\n",
       "3     text4  Chinese state media has launched its strongest...\n",
       "4     text5  (CBC News)\\nRepublican lawmakers and previous ..."
      ]
     },
     "execution_count": 23,
     "metadata": {},
     "output_type": "execute_result"
    }
   ],
   "source": [
    "import pandas as pd\n",
    "qt.text_df = pd.DataFrame(zip(corpus.meta['text_name'].series().to_list(),corpus.texts()), columns=['text_name','text'])\n",
    "qt.text_df.head()"
   ]
  },
  {
   "cell_type": "code",
   "execution_count": 29,
   "id": "8bd5294a",
   "metadata": {},
   "outputs": [
    {
     "data": {
      "text/html": [
       "<div>\n",
       "<style scoped>\n",
       "    .dataframe tbody tr th:only-of-type {\n",
       "        vertical-align: middle;\n",
       "    }\n",
       "\n",
       "    .dataframe tbody tr th {\n",
       "        vertical-align: top;\n",
       "    }\n",
       "\n",
       "    .dataframe thead th {\n",
       "        text-align: right;\n",
       "    }\n",
       "</style>\n",
       "<table border=\"1\" class=\"dataframe\">\n",
       "  <thead>\n",
       "    <tr style=\"text-align: right;\">\n",
       "      <th></th>\n",
       "      <th>text_name</th>\n",
       "      <th>text</th>\n",
       "      <th>text_id</th>\n",
       "    </tr>\n",
       "  </thead>\n",
       "  <tbody>\n",
       "    <tr>\n",
       "      <th>0</th>\n",
       "      <td>text1</td>\n",
       "      <td>Facebook and Instagram, which Facebook owns, f...</td>\n",
       "      <td>007d05aac52621fbb7ea6dcf367714f6</td>\n",
       "    </tr>\n",
       "    <tr>\n",
       "      <th>1</th>\n",
       "      <td>text2</td>\n",
       "      <td>(CBC News)\\nRepublican lawmakers and previous ...</td>\n",
       "      <td>dac41f56370604c24aa1f7cf0c0774ce</td>\n",
       "    </tr>\n",
       "    <tr>\n",
       "      <th>2</th>\n",
       "      <td>text3</td>\n",
       "      <td>Federated States of Micronesia President David...</td>\n",
       "      <td>0f87519c448c744a525f37ee0d7be305</td>\n",
       "    </tr>\n",
       "    <tr>\n",
       "      <th>3</th>\n",
       "      <td>text4</td>\n",
       "      <td>Chinese state media has launched its strongest...</td>\n",
       "      <td>acdfe14c12c2c31b0ab9149b280bfc6e</td>\n",
       "    </tr>\n",
       "    <tr>\n",
       "      <th>4</th>\n",
       "      <td>text5</td>\n",
       "      <td>(CBC News)\\nRepublican lawmakers and previous ...</td>\n",
       "      <td>5a094c8bdba422e49d91d733d20c4613</td>\n",
       "    </tr>\n",
       "  </tbody>\n",
       "</table>\n",
       "</div>"
      ],
      "text/plain": [
       "  text_name                                               text  \\\n",
       "0     text1  Facebook and Instagram, which Facebook owns, f...   \n",
       "1     text2  (CBC News)\\nRepublican lawmakers and previous ...   \n",
       "2     text3  Federated States of Micronesia President David...   \n",
       "3     text4  Chinese state media has launched its strongest...   \n",
       "4     text5  (CBC News)\\nRepublican lawmakers and previous ...   \n",
       "\n",
       "                            text_id  \n",
       "0  007d05aac52621fbb7ea6dcf367714f6  \n",
       "1  dac41f56370604c24aa1f7cf0c0774ce  \n",
       "2  0f87519c448c744a525f37ee0d7be305  \n",
       "3  acdfe14c12c2c31b0ab9149b280bfc6e  \n",
       "4  5a094c8bdba422e49d91d733d20c4613  "
      ]
     },
     "execution_count": 29,
     "metadata": {},
     "output_type": "execute_result"
    }
   ],
   "source": [
    "qt.text_df = qt.hash_gen(qt.text_df)\n",
    "qt.text_df.head()"
   ]
  },
  {
   "cell_type": "code",
   "execution_count": null,
   "id": "815d4c8c",
   "metadata": {},
   "outputs": [],
   "source": []
  },
  {
   "cell_type": "code",
   "execution_count": null,
   "id": "2ad98bd1",
   "metadata": {},
   "outputs": [],
   "source": [
    "# upload the text files and/or excel spreadsheets onto the system\n",
    "display(qt.upload_box)\n",
    "print('Uploading large files may take a while. Please be patient.')\n",
    "print('\\033[1mPlease wait and do not press any buttons until the progress bar appears...\\033[0m')"
   ]
  },
  {
   "cell_type": "markdown",
   "id": "c700ef8b",
   "metadata": {},
   "source": [
    "Once your files are uploaded, you can see a preview of the text in a table format (pandas dataframe).  \n",
    "\n",
    "<div class=\"alert alert-block alert-info\">\n",
    "<b>Tools:</b>    \n",
    "    \n",
    "- nltk: for sentence tokenization\n",
    "- spaCy: for text cleaning and normalisation\n",
    "- pandas: for storing and displaying in dataframe (table) format\n",
    "</div>\n",
    "\n",
    "<div class=\"alert alert-block alert-warning\">\n",
    "<b>Specify the number of rows to display</b> \n",
    "    \n",
    "By default, you will preview the first 5 rows of the extracted quotes in a pandas dataframe (table) format. However, you can preview more or less rows by specifying the number of rows you wish to display in the variable 'n' below. \n",
    "</div>"
   ]
  },
  {
   "cell_type": "code",
   "execution_count": 3,
   "id": "8d35f71c",
   "metadata": {},
   "outputs": [
    {
     "data": {
      "text/html": [
       "<div>\n",
       "<style scoped>\n",
       "    .dataframe tbody tr th:only-of-type {\n",
       "        vertical-align: middle;\n",
       "    }\n",
       "\n",
       "    .dataframe tbody tr th {\n",
       "        vertical-align: top;\n",
       "    }\n",
       "\n",
       "    .dataframe thead th {\n",
       "        text-align: right;\n",
       "    }\n",
       "</style>\n",
       "<table border=\"1\" class=\"dataframe\">\n",
       "  <thead>\n",
       "    <tr style=\"text-align: right;\">\n",
       "      <th></th>\n",
       "      <th>text_name</th>\n",
       "      <th>text</th>\n",
       "      <th>text_id</th>\n",
       "    </tr>\n",
       "  </thead>\n",
       "  <tbody>\n",
       "    <tr>\n",
       "      <th>0</th>\n",
       "      <td>text1</td>\n",
       "      <td>Facebook and Instagram, which Facebook owns, f...</td>\n",
       "      <td>007d05aac52621fbb7ea6dcf367714f6</td>\n",
       "    </tr>\n",
       "    <tr>\n",
       "      <th>1</th>\n",
       "      <td>text2</td>\n",
       "      <td>(CBC News)\\nRepublican lawmakers and previous ...</td>\n",
       "      <td>dac41f56370604c24aa1f7cf0c0774ce</td>\n",
       "    </tr>\n",
       "    <tr>\n",
       "      <th>2</th>\n",
       "      <td>text3</td>\n",
       "      <td>Federated States of Micronesia President David...</td>\n",
       "      <td>0f87519c448c744a525f37ee0d7be305</td>\n",
       "    </tr>\n",
       "    <tr>\n",
       "      <th>3</th>\n",
       "      <td>text4</td>\n",
       "      <td>Chinese state media has launched its strongest...</td>\n",
       "      <td>acdfe14c12c2c31b0ab9149b280bfc6e</td>\n",
       "    </tr>\n",
       "    <tr>\n",
       "      <th>4</th>\n",
       "      <td>text5</td>\n",
       "      <td>(CBC News)\\nRepublican lawmakers and previous ...</td>\n",
       "      <td>5a094c8bdba422e49d91d733d20c4613</td>\n",
       "    </tr>\n",
       "  </tbody>\n",
       "</table>\n",
       "</div>"
      ],
      "text/plain": [
       "  text_name                                               text  \\\n",
       "0     text1  Facebook and Instagram, which Facebook owns, f...   \n",
       "1     text2  (CBC News)\\nRepublican lawmakers and previous ...   \n",
       "2     text3  Federated States of Micronesia President David...   \n",
       "3     text4  Chinese state media has launched its strongest...   \n",
       "4     text5  (CBC News)\\nRepublican lawmakers and previous ...   \n",
       "\n",
       "                            text_id  \n",
       "0  007d05aac52621fbb7ea6dcf367714f6  \n",
       "1  dac41f56370604c24aa1f7cf0c0774ce  \n",
       "2  0f87519c448c744a525f37ee0d7be305  \n",
       "3  acdfe14c12c2c31b0ab9149b280bfc6e  \n",
       "4  5a094c8bdba422e49d91d733d20c4613  "
      ]
     },
     "execution_count": 3,
     "metadata": {},
     "output_type": "execute_result"
    }
   ],
   "source": [
    "# process the uploaded text\n",
    "qt.process_app()\n",
    "\n",
    "# specify the number of rows you wish to display\n",
    "n=5\n",
    "\n",
    "# display a preview of the pandas dataframe\n",
    "qt.text_df.head(n)"
   ]
  },
  {
   "cell_type": "markdown",
   "id": "4039347d",
   "metadata": {},
   "source": [
    "## 3. Extract the quotes\n",
    "Once your texts have been stored in a pandas dataframe, you can begin to extract the quotes from the texts. You can also extract named entities from your text by setting the named entities you wish to include in the below *inc_ent* variable. If you are extracting quotes from a lot of texts, be patient. As a guideline, for a corpus with a file size of 54.13 MB (~26,000 newspaper articles in plain text format), it can take ca 45 minutes to extract quotes.    \n",
    "\n",
    "<div class=\"alert alert-block alert-info\">\n",
    "<b>Tools:</b>    \n",
    "\n",
    "- quote_extractor: for extracting quotes and speakers\n",
    "- spaCy: for extracting named entities\n",
    "    \n",
    "<b>Note:</b> this tool uses spaCy to tokenize the text, which initially splits the text into tokens based on whitespace characters, and then applies language specific rules to further refine the outcome. For example, the word “don’t” does not contain whitespace, but would be split into two tokens: “do” and “n’t”, whereas “U.K.” would remain as one token. For more information about spaCy tokenizer, please visit [this page](https://spacy.io/usage/linguistic-features#tokenization).\n",
    "</div>\n",
    "\n",
    "<div class=\"alert alert-block alert-warning\">\n",
    "<b>Specify the number of rows to display</b> \n",
    "    \n",
    "By default, you will preview the first 5 rows of the extracted quotes in a pandas dataframe (table) format. However, you can preview more or less rows by specifying the number of rows you wish to display in the variable 'n' below. \n",
    "</div>\n",
    "\n",
    "<div class=\"alert alert-block alert-danger\">\n",
    "<b>Memory limitation in Binder</b> \n",
    "    \n",
    "The free Binder deployment is only guaranteed a maximum of 2GB memory. Processing very large text files may cause the session (kernel) to re-start due to insufficient memory. Check [the user guide](https://github.com/Sydney-Informatics-Hub/HASS-29_Quotation_Tool/blob/main/documents/jupyter-notebook-guide.pdf) for more info. \n",
    "</div>"
   ]
  },
  {
   "cell_type": "code",
   "execution_count": 4,
   "id": "9ab19f7a",
   "metadata": {},
   "outputs": [
    {
     "name": "stdout",
     "output_type": "stream",
     "text": [
      "Extracting quotes...\n",
      "This may take a while...\n"
     ]
    },
    {
     "name": "stderr",
     "output_type": "stream",
     "text": [
      "100%|███████████████████████████████████████| 10/10 [00:00<00:00, 16.09it/s]\n"
     ]
    },
    {
     "data": {
      "text/html": [
       "<div>\n",
       "<style scoped>\n",
       "    .dataframe tbody tr th:only-of-type {\n",
       "        vertical-align: middle;\n",
       "    }\n",
       "\n",
       "    .dataframe tbody tr th {\n",
       "        vertical-align: top;\n",
       "    }\n",
       "\n",
       "    .dataframe thead th {\n",
       "        text-align: right;\n",
       "    }\n",
       "</style>\n",
       "<table border=\"1\" class=\"dataframe\">\n",
       "  <thead>\n",
       "    <tr style=\"text-align: right;\">\n",
       "      <th></th>\n",
       "      <th>text_id</th>\n",
       "      <th>text_name</th>\n",
       "      <th>quote_id</th>\n",
       "      <th>quote</th>\n",
       "      <th>quote_index</th>\n",
       "      <th>quote_entities</th>\n",
       "      <th>speaker</th>\n",
       "      <th>speaker_index</th>\n",
       "      <th>speaker_entities</th>\n",
       "      <th>verb</th>\n",
       "      <th>verb_index</th>\n",
       "      <th>quote_token_count</th>\n",
       "      <th>quote_type</th>\n",
       "      <th>is_floating_quote</th>\n",
       "    </tr>\n",
       "  </thead>\n",
       "  <tbody>\n",
       "    <tr>\n",
       "      <th>0</th>\n",
       "      <td>007d05aac52621fbb7ea6dcf367714f6</td>\n",
       "      <td>text1</td>\n",
       "      <td>0</td>\n",
       "      <td>that Trump wouldn't be able to post for 24 hou...</td>\n",
       "      <td>(84, 173)</td>\n",
       "      <td>[(Trump, ORG), (Trump, PERSON)]</td>\n",
       "      <td>Facebook and Instagram, which Facebook owns,</td>\n",
       "      <td>(0, 44)</td>\n",
       "      <td>[(Facebook, ORG), (Instagram, ORG)]</td>\n",
       "      <td>announcing</td>\n",
       "      <td>(73, 83)</td>\n",
       "      <td>17</td>\n",
       "      <td>SVC</td>\n",
       "      <td>False</td>\n",
       "    </tr>\n",
       "    <tr>\n",
       "      <th>1</th>\n",
       "      <td>007d05aac52621fbb7ea6dcf367714f6</td>\n",
       "      <td>text1</td>\n",
       "      <td>1</td>\n",
       "      <td>that these actions follow years of hemming and...</td>\n",
       "      <td>(302, 489)</td>\n",
       "      <td>[(Trump, ORG), (Trump, PERSON)]</td>\n",
       "      <td>experts</td>\n",
       "      <td>(288, 295)</td>\n",
       "      <td>[]</td>\n",
       "      <td>noted</td>\n",
       "      <td>(296, 301)</td>\n",
       "      <td>26</td>\n",
       "      <td>SVC</td>\n",
       "      <td>False</td>\n",
       "    </tr>\n",
       "    <tr>\n",
       "      <th>2</th>\n",
       "      <td>007d05aac52621fbb7ea6dcf367714f6</td>\n",
       "      <td>text1</td>\n",
       "      <td>2</td>\n",
       "      <td>what happened in Washington, D.C., on Wednesda...</td>\n",
       "      <td>(592, 813)</td>\n",
       "      <td>[(Trump, ORG), (Washington, GPE), (D.C., GPE),...</td>\n",
       "      <td>Jennifer Grygiel, a Syracuse University commun...</td>\n",
       "      <td>(491, 586)</td>\n",
       "      <td>[(Jennifer Grygiel, PERSON), (Syracuse Univers...</td>\n",
       "      <td>said</td>\n",
       "      <td>(587, 591)</td>\n",
       "      <td>38</td>\n",
       "      <td>SVC</td>\n",
       "      <td>False</td>\n",
       "    </tr>\n",
       "    <tr>\n",
       "      <th>3</th>\n",
       "      <td>007d05aac52621fbb7ea6dcf367714f6</td>\n",
       "      <td>text1</td>\n",
       "      <td>3</td>\n",
       "      <td>\\n \"This is what happens</td>\n",
       "      <td>(1012, 1035)</td>\n",
       "      <td>[]</td>\n",
       "      <td>Grygiel</td>\n",
       "      <td>(1038, 1045)</td>\n",
       "      <td>[(Grygiel, PERSON)]</td>\n",
       "      <td>said</td>\n",
       "      <td>(1046, 1050)</td>\n",
       "      <td>6</td>\n",
       "      <td>CSV</td>\n",
       "      <td>False</td>\n",
       "    </tr>\n",
       "    <tr>\n",
       "      <th>4</th>\n",
       "      <td>007d05aac52621fbb7ea6dcf367714f6</td>\n",
       "      <td>text1</td>\n",
       "      <td>4</td>\n",
       "      <td>They're creeping along towards firmer action</td>\n",
       "      <td>(1367, 1411)</td>\n",
       "      <td>[]</td>\n",
       "      <td>Grygiel</td>\n",
       "      <td>(1414, 1421)</td>\n",
       "      <td>[(Grygiel, PERSON)]</td>\n",
       "      <td>said</td>\n",
       "      <td>(1422, 1426)</td>\n",
       "      <td>7</td>\n",
       "      <td>QCQSV</td>\n",
       "      <td>False</td>\n",
       "    </tr>\n",
       "  </tbody>\n",
       "</table>\n",
       "</div>"
      ],
      "text/plain": [
       "                            text_id text_name quote_id  \\\n",
       "0  007d05aac52621fbb7ea6dcf367714f6     text1        0   \n",
       "1  007d05aac52621fbb7ea6dcf367714f6     text1        1   \n",
       "2  007d05aac52621fbb7ea6dcf367714f6     text1        2   \n",
       "3  007d05aac52621fbb7ea6dcf367714f6     text1        3   \n",
       "4  007d05aac52621fbb7ea6dcf367714f6     text1        4   \n",
       "\n",
       "                                               quote   quote_index  \\\n",
       "0  that Trump wouldn't be able to post for 24 hou...     (84, 173)   \n",
       "1  that these actions follow years of hemming and...    (302, 489)   \n",
       "2  what happened in Washington, D.C., on Wednesda...    (592, 813)   \n",
       "3                           \\n \"This is what happens  (1012, 1035)   \n",
       "4       They're creeping along towards firmer action  (1367, 1411)   \n",
       "\n",
       "                                      quote_entities  \\\n",
       "0                    [(Trump, ORG), (Trump, PERSON)]   \n",
       "1                    [(Trump, ORG), (Trump, PERSON)]   \n",
       "2  [(Trump, ORG), (Washington, GPE), (D.C., GPE),...   \n",
       "3                                                 []   \n",
       "4                                                 []   \n",
       "\n",
       "                                             speaker speaker_index  \\\n",
       "0       Facebook and Instagram, which Facebook owns,       (0, 44)   \n",
       "1                                            experts    (288, 295)   \n",
       "2  Jennifer Grygiel, a Syracuse University commun...    (491, 586)   \n",
       "3                                            Grygiel  (1038, 1045)   \n",
       "4                                            Grygiel  (1414, 1421)   \n",
       "\n",
       "                                    speaker_entities        verb  \\\n",
       "0                [(Facebook, ORG), (Instagram, ORG)]  announcing   \n",
       "1                                                 []       noted   \n",
       "2  [(Jennifer Grygiel, PERSON), (Syracuse Univers...        said   \n",
       "3                                [(Grygiel, PERSON)]        said   \n",
       "4                                [(Grygiel, PERSON)]        said   \n",
       "\n",
       "     verb_index  quote_token_count quote_type  is_floating_quote  \n",
       "0      (73, 83)                 17        SVC              False  \n",
       "1    (296, 301)                 26        SVC              False  \n",
       "2    (587, 591)                 38        SVC              False  \n",
       "3  (1046, 1050)                  6        CSV              False  \n",
       "4  (1422, 1426)                  7      QCQSV              False  "
      ]
     },
     "execution_count": 4,
     "metadata": {},
     "output_type": "execute_result"
    }
   ],
   "source": [
    "# specify the named entities you wish to include below\n",
    "inc_ent = ['ORG','PERSON','GPE','NORP','FAC','LOC']\n",
    "\n",
    "# specify the number of rows you wish to display\n",
    "n=5\n",
    "\n",
    "# extract quotes from the text and preview them in a pandas dataframe (table) format\n",
    "quotes_df = qt.get_quotes(inc_ent)\n",
    "\n",
    "# display a preview of the pandas dataframe\n",
    "quotes_df.head(n)"
   ]
  },
  {
   "cell_type": "markdown",
   "id": "079bc8a7",
   "metadata": {},
   "source": [
    "<div class=\"alert alert-block alert-warning\">\n",
    "<b>What information is included in the above table?</b> \n",
    "\n",
    "In general, the quotes are extracted either based on syntactic or heuristic rules. Some quotes can be stand-alone in a sentence, or followed by another quote (floating quote) from the same speaker. Please refer to [this document](https://doi.org/10.1371/journal.pone.0245533.s001) for further information about the quote extraction process.  \n",
    "    \n",
    "**text_id:** the unique ID of the text.\n",
    "    \n",
    "**text_name** the name of the text, i.e., the name of the .txt files or the 'text_name' column in the excel spreadsheet.\n",
    "    \n",
    "**quote_id/speaker_id:** the unique ID of the extracted quote/speaker.\n",
    "    \n",
    "**quote/speaker:** the content of the extracted quote and the speaker.\n",
    "    \n",
    "**verb:** the verb used to determine the extracted quote.\n",
    "    \n",
    "**quote_index/speaker_index/verb_index:** the location of the first and the last characters of the extracted quote/speaker/verb in the text.\n",
    "    \n",
    "**quote_entities/speaker_entities:** the entity name and type of the entities identified in the extracted quote/speaker.\n",
    "    \n",
    "**quote_token_count:** the length of the extracted quote (in character).\n",
    "    \n",
    "**quote_type:** the type of quote based on how it is extracted.\n",
    "    \n",
    "**floating_quote:** whether the extracted quote is a floating quote, i.e., a follow up quote from the same speaker (The value TRUE here means that the quote is a floating quote, while FALSE means that the quote is not a floating quote).\n",
    "\n",
    "**Quotation symbols:** Q (Quotation mark), S (Speaker), V (Verb), C (Content).  \n",
    "\n",
    "**Named Entities:**  PERSON (People, including fictional), NORP (Nationalities or religious or political groups), FAC (Buildings, airports, highways, etc.), ORG (Companies, agencies, institutions, etc.), GPE (Countries, cities, states), LOC (Non-GPE locations, mountain ranges, bodies of water).\n",
    "</div>"
   ]
  },
  {
   "cell_type": "markdown",
   "id": "70be6223",
   "metadata": {},
   "source": [
    "## 4. Display the quotes\n",
    "Once you have extracted the quotes, you can see a preview of the quotes using spaCy's visualisation tool, displaCy. \n",
    "\n",
    "<div class=\"alert alert-block alert-info\">\n",
    "<b>Tools:</b>    \n",
    "\n",
    "- displaCy: for displaying quotes, speakers and named entities\n",
    "- ipywidgets: for interactive tool\n",
    "</div>\n",
    "\n",
    "<div class=\"alert alert-block alert-danger\">\n",
    "<b>Select the text and the entities to show</b> \n",
    "\n",
    "In order to preview the extracted information, select the text you wish to analyse and which entities to show. Then, you can click the ***Preview*** button to display them and the ***Save Preview*** button to save them as an html file. \n",
    "</div>"
   ]
  },
  {
   "cell_type": "code",
   "execution_count": 5,
   "id": "e536e55b",
   "metadata": {
    "scrolled": false
   },
   "outputs": [
    {
     "data": {
      "application/vnd.jupyter.widget-view+json": {
       "model_id": "4a8fc2351dbd4e2cbe32d20eb5de0a74",
       "version_major": 2,
       "version_minor": 0
      },
      "text/plain": [
       "VBox(children=(HBox(children=(VBox(children=(HTML(value='<b>Select which entity to show:</b>', placeholder='')…"
      ]
     },
     "execution_count": 5,
     "metadata": {},
     "output_type": "execute_result"
    }
   ],
   "source": [
    "# display a preview of the extracted quotes, speakers and entities within the text\n",
    "qt.analyse_quotes(inc_ent)"
   ]
  },
  {
   "cell_type": "markdown",
   "id": "4f5f4dc4",
   "metadata": {},
   "source": [
    "<div class=\"alert alert-block alert-danger\">\n",
    "<b>Select the text and the entities to show</b> \n",
    "\n",
    "You can also display the top named entitites identified in the quotes and/or speakers. You just need to select the text to analyse (option to analyse 'all texts' is also available), whether to display the identified entities in the speakers and/or quotes, whether to display the entity names and/or types, the number of top entities to display and finally, click the ***Show Top Entities*** and ***Save Top Entities*** buttons to display and save them, respectively. \n",
    "</div>"
   ]
  },
  {
   "cell_type": "code",
   "execution_count": null,
   "id": "a0a92980",
   "metadata": {},
   "outputs": [],
   "source": [
    "# check the top named entities identified in the quotes and/or speakers\n",
    "qt.analyse_entities(inc_ent)"
   ]
  },
  {
   "cell_type": "markdown",
   "id": "c6e56460",
   "metadata": {},
   "source": [
    "<div class=\"alert alert-block alert-warning\">\n",
    "<b>Capitalized words</b> \n",
    "\n",
    "Please note that lowercase or UPPERCASE words such as quote, QUOTE, Quote, etc. are recognised as different words by the tool, so you may see that they are counted differently in the above analysis.\n",
    "\n",
    "</div>"
   ]
  },
  {
   "cell_type": "markdown",
   "id": "3607fd4b",
   "metadata": {},
   "source": [
    "## 5. Save the quotes\n",
    "Finally, you can run the below code to save the quotes pandas dataframe into an Excel spreadsheet and download them to your local computer.  "
   ]
  },
  {
   "cell_type": "code",
   "execution_count": null,
   "id": "388ca926",
   "metadata": {},
   "outputs": [],
   "source": [
    "# specify output directory and file name\n",
    "output_dir = './output/'\n",
    "file_name = 'quotes.xlsx'\n",
    "\n",
    "# save quotes_df into an Excel spreadsheet\n",
    "from pyexcelerate import Workbook\n",
    "values = [quotes_df.columns] + list(quotes_df.values)\n",
    "wb = Workbook()\n",
    "wb.new_sheet('Sheet1', data=values)\n",
    "wb.save(output_dir + file_name)\n",
    "\n",
    "# download quotes_df to your computer\n",
    "print('Click below to download:')\n",
    "display(DownloadFileLink(output_dir + file_name, 'quotes.xlsx'))"
   ]
  }
 ],
 "metadata": {
  "celltoolbar": "Raw Cell Format",
  "kernelspec": {
   "display_name": "Python 3 (ipykernel)",
   "language": "python",
   "name": "python3"
  },
  "language_info": {
   "codemirror_mode": {
    "name": "ipython",
    "version": 3
   },
   "file_extension": ".py",
   "mimetype": "text/x-python",
   "name": "python",
   "nbconvert_exporter": "python",
   "pygments_lexer": "ipython3",
   "version": "3.9.13"
  },
  "vscode": {
   "interpreter": {
    "hash": "50e9832c473c86713864f61257029e15f281e1af6f46dd8361ab2dc7ec7915dd"
   }
  }
 },
 "nbformat": 4,
 "nbformat_minor": 5
}
