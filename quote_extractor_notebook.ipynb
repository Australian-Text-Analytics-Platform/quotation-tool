{
 "cells": [
  {
   "cell_type": "markdown",
   "id": "9c2662a3",
   "metadata": {},
   "source": [
    "# QuotationTool\n",
    "In this notebook, you will use the *QuotationTool* to extract quotes from a list of texts. In addition to extracting the quotes, the tool also provides information about who the speakers are, the location of the quotes (and the speakers) within the text, the identified named entities, etc., which can be useful for your text analysis.  \n",
    "\n",
    "**Note:** This code has been adapted (with permission) from the [GenderGapTracker GitHub page](https://github.com/sfu-discourse-lab/GenderGapTracker/tree/master/nlp/english) and modified to run on a Jupyter Notebook. The quotation tool’s accuracy rate is evaluated in [this article](https://doi.org/10.1371/journal.pone.0245533).\n",
    "\n",
    "<div class=\"alert alert-block alert-warning\">\n",
    "<b>User guide to using a Jupyter Notebook</b> \n",
    "\n",
    "If you are new to Jupyter Notebook, feel free to take a quick look at [this user guide](https://github.com/Australian-Text-Analytics-Platform/quotation-tool/blob/main/documents/jupyter-notebook-guide.pdf) for basic information on how to use a notebook.\n",
    "</div>"
   ]
  },
  {
   "cell_type": "markdown",
   "id": "dc99ca86",
   "metadata": {},
   "source": [
    "## 1. Setup\n",
    "Before you begin, you need to import the QuotationTool and the necessary libraries and initiate them to run in this notebook."
   ]
  },
  {
   "cell_type": "code",
   "execution_count": 1,
   "id": "e6720419",
   "metadata": {
    "tags": []
   },
   "outputs": [
    {
     "name": "stderr",
     "output_type": "stream",
     "text": [
      "[nltk_data] Downloading package punkt to /Users/hcha9747/nltk_data...\n",
      "[nltk_data]   Package punkt is already up-to-date!\n"
     ]
    }
   ],
   "source": [
    "# import the QuotationTool\n",
    "from quotation_tool.extract_display_quotes import QuotationTool, DownloadFileLink\n",
    "from juxtorpus.corpus import Corpus, Corpora"
   ]
  },
  {
   "cell_type": "markdown",
   "id": "a0a9cb8a",
   "metadata": {},
   "source": [
    "<div class=\"alert alert-block alert-warning\">\n",
    "<b>Installing Libraries</b> \n",
    "\n",
    "The requirements file <b>environment.yml</b> is included with this notebook. Take a look inside to find out what libraries you have just installed with the above command.\n",
    "\n",
    "</div>"
   ]
  },
  {
   "cell_type": "markdown",
   "id": "7cf517c9",
   "metadata": {},
   "source": [
    "## 2. Load the data\n",
    "This notebook will allow you to extract quotes directly from a text file (or a number of text files). Alternatively, you can also extract quotes from a text column inside your excel spreadsheet ([see an example here](https://github.com/Australian-Text-Analytics-Platform/quotation-tool/blob/main/documents/sample_texts.xlsx?raw=true)).  \n",
    "\n",
    "<table style='margin-left: 10px'><tr>\n",
    "<td> <img src='./img/txt_icon.png' style='width: 45px'/> </td>\n",
    "<td> <img src='./img/xlsx_icon.png' style='width: 55px'/> </td>\n",
    "<td> <img src='./img/csv_icon.png' style='width: 45px'/> </td>\n",
    "<td> <img src='./img/zip_icon.png' style='width: 45px'/> </td>\n",
    "</tr></table>\n",
    "\n",
    "<div class=\"alert alert-block alert-warning\">\n",
    "<b>Uploading your text files</b> \n",
    "    \n",
    "If you have a large number of text files (more than 10MB in total), we suggest you compress (zip) them and upload the zip file instead. If you need assistance on how to compress your file, please check [the user guide](https://github.com/Australian-Text-Analytics-Platform/quotation-tool/blob/main/documents/jupyter-notebook-guide.pdf) for more info. \n",
    "</div>\n",
    "\n",
    "<div class=\"alert alert-block alert-danger\">\n",
    "<b>Large file upload</b> \n",
    "    \n",
    "If you have ongoing issues with the file upload, please re-launch the notebook via Binder again. If the issue persists, consider restarting your computer.\n",
    "</div>\n",
    "\n"
   ]
  },
  {
   "cell_type": "code",
   "execution_count": 2,
   "id": "2ad98bd1",
   "metadata": {},
   "outputs": [
    {
     "data": {
      "application/vnd.jupyter.widget-view+json": {
       "model_id": "aea4e07a7428469195c44b6028ddeeb5",
       "version_major": 2,
       "version_minor": 0
      },
      "text/plain": [
       "VBox(children=(Button(description='Upload a Corpus', layout=Layout(width='300px'), style=ButtonStyle()), Label…"
      ]
     },
     "metadata": {},
     "output_type": "display_data"
    },
    {
     "name": "stdout",
     "output_type": "stream",
     "text": [
      "Uploading large files may take a while. Please be patient.\n",
      "\u001b[1mPlease wait and do not press any buttons until the progress bar appears...\u001b[0m\n"
     ]
    }
   ],
   "source": [
    "# upload the text files and/or excel spreadsheets onto the system\n",
    "corpora = Corpora()\n",
    "display(corpora.widget())\n",
    "\n",
    "print('Uploading large files may take a while. Please be patient.')\n",
    "print('\\033[1mPlease wait and do not press any buttons until the progress bar appears...\\033[0m')"
   ]
  },
  {
   "cell_type": "markdown",
   "id": "c700ef8b",
   "metadata": {},
   "source": [
    "Once your files are uploaded, you can see a preview of the text in a table format (pandas dataframe).  \n",
    "\n",
    "<div class=\"alert alert-block alert-info\">\n",
    "<b>Tools:</b>    \n",
    "    \n",
    "- nltk: for sentence tokenization\n",
    "- spaCy: for text cleaning and normalisation\n",
    "- pandas: for storing and displaying in dataframe (table) format\n",
    "</div>\n",
    "\n",
    "<div class=\"alert alert-block alert-warning\">\n",
    "<b>Specify the number of rows to display</b> \n",
    "    \n",
    "By default, you will preview the first 5 rows of the extracted quotes in a pandas dataframe (table) format. However, you can preview more or less rows by specifying the number of rows you wish to display in the variable 'n' below. \n",
    "</div>"
   ]
  },
  {
   "cell_type": "code",
   "execution_count": 3,
   "id": "2999f940-c7b3-417b-8666-53b4bc33d705",
   "metadata": {
    "tags": []
   },
   "outputs": [
    {
     "name": "stdout",
     "output_type": "stream",
     "text": [
      "Loading spaCy language model...\n",
      "This may take a while...\n",
      "Finished loading.\n"
     ]
    }
   ],
   "source": [
    "qt = QuotationTool.from_corpus(corpora[corpora.items()[0]], doc_name_meta_id='file_name')"
   ]
  },
  {
   "cell_type": "code",
   "execution_count": 4,
   "id": "8d35f71c",
   "metadata": {
    "tags": []
   },
   "outputs": [
    {
     "data": {
      "text/html": [
       "<div>\n",
       "<style scoped>\n",
       "    .dataframe tbody tr th:only-of-type {\n",
       "        vertical-align: middle;\n",
       "    }\n",
       "\n",
       "    .dataframe tbody tr th {\n",
       "        vertical-align: top;\n",
       "    }\n",
       "\n",
       "    .dataframe thead th {\n",
       "        text-align: right;\n",
       "    }\n",
       "</style>\n",
       "<table border=\"1\" class=\"dataframe\">\n",
       "  <thead>\n",
       "    <tr style=\"text-align: right;\">\n",
       "      <th></th>\n",
       "      <th>text</th>\n",
       "      <th>file_name</th>\n",
       "      <th>text_name</th>\n",
       "      <th>text_id</th>\n",
       "    </tr>\n",
       "  </thead>\n",
       "  <tbody>\n",
       "    <tr>\n",
       "      <th>0</th>\n",
       "      <td>Federated States of Micronesia President David...</td>\n",
       "      <td>text9.txt</td>\n",
       "      <td>text9.txt</td>\n",
       "      <td>eca12a4fb0a8864c2f5b172384826154</td>\n",
       "    </tr>\n",
       "    <tr>\n",
       "      <th>1</th>\n",
       "      <td>(CBC News)\\nRepublican lawmakers and previous ...</td>\n",
       "      <td>text8.txt</td>\n",
       "      <td>text8.txt</td>\n",
       "      <td>3585d505d3c26632d50553e87a4e1e55</td>\n",
       "    </tr>\n",
       "    <tr>\n",
       "      <th>2</th>\n",
       "      <td>Federated States of Micronesia President David...</td>\n",
       "      <td>text6.txt</td>\n",
       "      <td>text6.txt</td>\n",
       "      <td>826be0e0e2492a271c615361c1723cfb</td>\n",
       "    </tr>\n",
       "    <tr>\n",
       "      <th>3</th>\n",
       "      <td>Facebook and Instagram, which Facebook owns, f...</td>\n",
       "      <td>text7.txt</td>\n",
       "      <td>text7.txt</td>\n",
       "      <td>e18fb5d23a6b2881b71eac559993a51f</td>\n",
       "    </tr>\n",
       "    <tr>\n",
       "      <th>4</th>\n",
       "      <td>(CBC News)\\nRepublican lawmakers and previous ...</td>\n",
       "      <td>text5.txt</td>\n",
       "      <td>text5.txt</td>\n",
       "      <td>5a094c8bdba422e49d91d733d20c4613</td>\n",
       "    </tr>\n",
       "  </tbody>\n",
       "</table>\n",
       "</div>"
      ],
      "text/plain": [
       "                                                text  file_name  text_name  \\\n",
       "0  Federated States of Micronesia President David...  text9.txt  text9.txt   \n",
       "1  (CBC News)\\nRepublican lawmakers and previous ...  text8.txt  text8.txt   \n",
       "2  Federated States of Micronesia President David...  text6.txt  text6.txt   \n",
       "3  Facebook and Instagram, which Facebook owns, f...  text7.txt  text7.txt   \n",
       "4  (CBC News)\\nRepublican lawmakers and previous ...  text5.txt  text5.txt   \n",
       "\n",
       "                            text_id  \n",
       "0  eca12a4fb0a8864c2f5b172384826154  \n",
       "1  3585d505d3c26632d50553e87a4e1e55  \n",
       "2  826be0e0e2492a271c615361c1723cfb  \n",
       "3  e18fb5d23a6b2881b71eac559993a51f  \n",
       "4  5a094c8bdba422e49d91d733d20c4613  "
      ]
     },
     "execution_count": 4,
     "metadata": {},
     "output_type": "execute_result"
    }
   ],
   "source": [
    "# specify the number of rows you wish to display\n",
    "n=5\n",
    "\n",
    "# display a preview of the pandas dataframe\n",
    "qt.text_df.head(n)"
   ]
  },
  {
   "cell_type": "markdown",
   "id": "4039347d",
   "metadata": {},
   "source": [
    "## 3. Extract the quotes\n",
    "Once your texts have been stored in a pandas dataframe, you can begin to extract the quotes from the texts. You can also extract named entities from your text by setting the named entities you wish to include in the below *inc_ent* variable. If you are extracting quotes from a lot of texts, be patient. As a guideline, for a corpus with a file size of 54.13 MB (~26,000 newspaper articles in plain text format), it can take ca 45 minutes to extract quotes.    \n",
    "\n",
    "<div class=\"alert alert-block alert-info\">\n",
    "<b>Tools:</b>    \n",
    "\n",
    "- quote_extractor: for extracting quotes and speakers\n",
    "- spaCy: for extracting named entities\n",
    "    \n",
    "<b>Note:</b> this tool uses spaCy to tokenize the text, which initially splits the text into tokens based on whitespace characters, and then applies language specific rules to further refine the outcome. For example, the word “don’t” does not contain whitespace, but would be split into two tokens: “do” and “n’t”, whereas “U.K.” would remain as one token. For more information about spaCy tokenizer, please visit [this page](https://spacy.io/usage/linguistic-features#tokenization).\n",
    "</div>\n",
    "\n",
    "<div class=\"alert alert-block alert-warning\">\n",
    "<b>Specify the number of rows to display</b> \n",
    "    \n",
    "By default, you will preview the first 5 rows of the extracted quotes in a pandas dataframe (table) format. However, you can preview more or less rows by specifying the number of rows you wish to display in the variable 'n' below. \n",
    "</div>\n",
    "\n",
    "<div class=\"alert alert-block alert-danger\">\n",
    "<b>Memory limitation in Binder</b> \n",
    "    \n",
    "The free Binder deployment is only guaranteed a maximum of 2GB memory. Processing very large text files may cause the session (kernel) to re-start due to insufficient memory. Check [the user guide](https://github.com/Sydney-Informatics-Hub/HASS-29_Quotation_Tool/blob/main/documents/jupyter-notebook-guide.pdf) for more info. \n",
    "</div>"
   ]
  },
  {
   "cell_type": "code",
   "execution_count": 5,
   "id": "9ab19f7a",
   "metadata": {
    "tags": []
   },
   "outputs": [
    {
     "name": "stdout",
     "output_type": "stream",
     "text": [
      "Extracting quotes...\n",
      "This may take a while...\n"
     ]
    },
    {
     "data": {
      "application/vnd.jupyter.widget-view+json": {
       "model_id": "93ae6b843613491ba934e46425258054",
       "version_major": 2,
       "version_minor": 0
      },
      "text/plain": [
       "  0%|          | 0/10 [00:00<?, ?it/s]"
      ]
     },
     "metadata": {},
     "output_type": "display_data"
    },
    {
     "data": {
      "text/html": [
       "<div>\n",
       "<style scoped>\n",
       "    .dataframe tbody tr th:only-of-type {\n",
       "        vertical-align: middle;\n",
       "    }\n",
       "\n",
       "    .dataframe tbody tr th {\n",
       "        vertical-align: top;\n",
       "    }\n",
       "\n",
       "    .dataframe thead th {\n",
       "        text-align: right;\n",
       "    }\n",
       "</style>\n",
       "<table border=\"1\" class=\"dataframe\">\n",
       "  <thead>\n",
       "    <tr style=\"text-align: right;\">\n",
       "      <th></th>\n",
       "      <th>text_id</th>\n",
       "      <th>text_name</th>\n",
       "      <th>quote_id</th>\n",
       "      <th>quote</th>\n",
       "      <th>quote_index</th>\n",
       "      <th>quote_entities</th>\n",
       "      <th>speaker</th>\n",
       "      <th>speaker_index</th>\n",
       "      <th>speaker_entities</th>\n",
       "      <th>verb</th>\n",
       "      <th>verb_index</th>\n",
       "      <th>quote_token_count</th>\n",
       "      <th>quote_type</th>\n",
       "      <th>is_floating_quote</th>\n",
       "    </tr>\n",
       "  </thead>\n",
       "  <tbody>\n",
       "    <tr>\n",
       "      <th>0</th>\n",
       "      <td>eca12a4fb0a8864c2f5b172384826154</td>\n",
       "      <td>text9.txt</td>\n",
       "      <td>0</td>\n",
       "      <td>the deal could stoke geopolitical tensions and...</td>\n",
       "      <td>(62, 240)</td>\n",
       "      <td>[(Fiame Naomi Mata'afa, PERSON), (Samoa, GPE),...</td>\n",
       "      <td>Federated States of Micronesia President David...</td>\n",
       "      <td>(0, 54)</td>\n",
       "      <td>[(Federated States of Micronesia, ORG), (David...</td>\n",
       "      <td>warned</td>\n",
       "      <td>(55, 61)</td>\n",
       "      <td>30</td>\n",
       "      <td>SVC</td>\n",
       "      <td>False</td>\n",
       "    </tr>\n",
       "    <tr>\n",
       "      <th>1</th>\n",
       "      <td>eca12a4fb0a8864c2f5b172384826154</td>\n",
       "      <td>text9.txt</td>\n",
       "      <td>1</td>\n",
       "      <td>\"very little\" was currently known about the me...</td>\n",
       "      <td>(305, 356)</td>\n",
       "      <td>[]</td>\n",
       "      <td>Pacific expert Anna Powles from Massey University</td>\n",
       "      <td>(242, 291)</td>\n",
       "      <td>[(Anna Powles, PERSON), (Massey University, OR...</td>\n",
       "      <td>told</td>\n",
       "      <td>(292, 296)</td>\n",
       "      <td>10</td>\n",
       "      <td>SVC</td>\n",
       "      <td>False</td>\n",
       "    </tr>\n",
       "    <tr>\n",
       "      <th>2</th>\n",
       "      <td>eca12a4fb0a8864c2f5b172384826154</td>\n",
       "      <td>text9.txt</td>\n",
       "      <td>2</td>\n",
       "      <td>\"It appears to be an attempt to deliberately d...</td>\n",
       "      <td>(431, 541)</td>\n",
       "      <td>[(China, GPE)]</td>\n",
       "      <td>she</td>\n",
       "      <td>(544, 547)</td>\n",
       "      <td>[]</td>\n",
       "      <td>said</td>\n",
       "      <td>(548, 552)</td>\n",
       "      <td>20</td>\n",
       "      <td>QCQSV</td>\n",
       "      <td>False</td>\n",
       "    </tr>\n",
       "    <tr>\n",
       "      <th>3</th>\n",
       "      <td>3585d505d3c26632d50553e87a4e1e55</td>\n",
       "      <td>text8.txt</td>\n",
       "      <td>0</td>\n",
       "      <td>Canadians 'deeply disturbed' by violence in Wa...</td>\n",
       "      <td>(437, 498)</td>\n",
       "      <td>[(Canadians, NORP), (Washington D.C., GPE)]</td>\n",
       "      <td>Trudeau</td>\n",
       "      <td>(424, 431)</td>\n",
       "      <td>[(Trudeau, PERSON)]</td>\n",
       "      <td>says</td>\n",
       "      <td>(432, 436)</td>\n",
       "      <td>11</td>\n",
       "      <td>SVC</td>\n",
       "      <td>False</td>\n",
       "    </tr>\n",
       "    <tr>\n",
       "      <th>4</th>\n",
       "      <td>3585d505d3c26632d50553e87a4e1e55</td>\n",
       "      <td>text8.txt</td>\n",
       "      <td>1</td>\n",
       "      <td>Trump has harnessed social media — especially ...</td>\n",
       "      <td>(498, 618)</td>\n",
       "      <td>[(Trump, PERSON), (Twitter, ORG)]</td>\n",
       "      <td>Trudeau</td>\n",
       "      <td>(424, 431)</td>\n",
       "      <td>[(Trudeau, PERSON)]</td>\n",
       "      <td>says</td>\n",
       "      <td>(432, 436)</td>\n",
       "      <td>19</td>\n",
       "      <td>SVC</td>\n",
       "      <td>False</td>\n",
       "    </tr>\n",
       "  </tbody>\n",
       "</table>\n",
       "</div>"
      ],
      "text/plain": [
       "                            text_id  text_name quote_id  \\\n",
       "0  eca12a4fb0a8864c2f5b172384826154  text9.txt        0   \n",
       "1  eca12a4fb0a8864c2f5b172384826154  text9.txt        1   \n",
       "2  eca12a4fb0a8864c2f5b172384826154  text9.txt        2   \n",
       "3  3585d505d3c26632d50553e87a4e1e55  text8.txt        0   \n",
       "4  3585d505d3c26632d50553e87a4e1e55  text8.txt        1   \n",
       "\n",
       "                                               quote quote_index  \\\n",
       "0  the deal could stoke geopolitical tensions and...   (62, 240)   \n",
       "1  \"very little\" was currently known about the me...  (305, 356)   \n",
       "2  \"It appears to be an attempt to deliberately d...  (431, 541)   \n",
       "3  Canadians 'deeply disturbed' by violence in Wa...  (437, 498)   \n",
       "4  Trump has harnessed social media — especially ...  (498, 618)   \n",
       "\n",
       "                                      quote_entities  \\\n",
       "0  [(Fiame Naomi Mata'afa, PERSON), (Samoa, GPE),...   \n",
       "1                                                 []   \n",
       "2                                     [(China, GPE)]   \n",
       "3        [(Canadians, NORP), (Washington D.C., GPE)]   \n",
       "4                  [(Trump, PERSON), (Twitter, ORG)]   \n",
       "\n",
       "                                             speaker speaker_index  \\\n",
       "0  Federated States of Micronesia President David...       (0, 54)   \n",
       "1  Pacific expert Anna Powles from Massey University    (242, 291)   \n",
       "2                                                she    (544, 547)   \n",
       "3                                            Trudeau    (424, 431)   \n",
       "4                                            Trudeau    (424, 431)   \n",
       "\n",
       "                                    speaker_entities    verb  verb_index  \\\n",
       "0  [(Federated States of Micronesia, ORG), (David...  warned    (55, 61)   \n",
       "1  [(Anna Powles, PERSON), (Massey University, OR...    told  (292, 296)   \n",
       "2                                                 []    said  (548, 552)   \n",
       "3                                [(Trudeau, PERSON)]    says  (432, 436)   \n",
       "4                                [(Trudeau, PERSON)]    says  (432, 436)   \n",
       "\n",
       "   quote_token_count quote_type  is_floating_quote  \n",
       "0                 30        SVC              False  \n",
       "1                 10        SVC              False  \n",
       "2                 20      QCQSV              False  \n",
       "3                 11        SVC              False  \n",
       "4                 19        SVC              False  "
      ]
     },
     "execution_count": 5,
     "metadata": {},
     "output_type": "execute_result"
    }
   ],
   "source": [
    "# specify the named entities you wish to include below\n",
    "inc_ent = ['ORG','PERSON','GPE','NORP','FAC','LOC']\n",
    "\n",
    "# specify the number of rows you wish to display\n",
    "n=5\n",
    "\n",
    "# extract quotes from the text and preview them in a pandas dataframe (table) format\n",
    "quotes_df = qt.get_quotes(inc_ent)\n",
    "\n",
    "# display a preview of the pandas dataframe\n",
    "quotes_df.head(n)"
   ]
  },
  {
   "cell_type": "markdown",
   "id": "079bc8a7",
   "metadata": {},
   "source": [
    "<div class=\"alert alert-block alert-warning\">\n",
    "<b>What information is included in the above table?</b> \n",
    "\n",
    "In general, the quotes are extracted either based on syntactic or heuristic rules. Some quotes can be stand-alone in a sentence, or followed by another quote (floating quote) from the same speaker. Please refer to [this document](https://doi.org/10.1371/journal.pone.0245533.s001) for further information about the quote extraction process.  \n",
    "    \n",
    "**text_id:** the unique ID of the text.\n",
    "    \n",
    "**text_name** the name of the text, i.e., the name of the .txt files or the 'text_name' column in the excel spreadsheet.\n",
    "    \n",
    "**quote_id/speaker_id:** the unique ID of the extracted quote/speaker.\n",
    "    \n",
    "**quote/speaker:** the content of the extracted quote and the speaker.\n",
    "    \n",
    "**verb:** the verb used to determine the extracted quote.\n",
    "    \n",
    "**quote_index/speaker_index/verb_index:** the location of the first and the last characters of the extracted quote/speaker/verb in the text.\n",
    "    \n",
    "**quote_entities/speaker_entities:** the entity name and type of the entities identified in the extracted quote/speaker.\n",
    "    \n",
    "**quote_token_count:** the length of the extracted quote (in character).\n",
    "    \n",
    "**quote_type:** the type of quote based on how it is extracted.\n",
    "    \n",
    "**floating_quote:** whether the extracted quote is a floating quote, i.e., a follow up quote from the same speaker (The value TRUE here means that the quote is a floating quote, while FALSE means that the quote is not a floating quote).\n",
    "\n",
    "**Quotation symbols:** Q (Quotation mark), S (Speaker), V (Verb), C (Content).  \n",
    "\n",
    "**Named Entities:**  PERSON (People, including fictional), NORP (Nationalities or religious or political groups), FAC (Buildings, airports, highways, etc.), ORG (Companies, agencies, institutions, etc.), GPE (Countries, cities, states), LOC (Non-GPE locations, mountain ranges, bodies of water).\n",
    "</div>"
   ]
  },
  {
   "cell_type": "markdown",
   "id": "70be6223",
   "metadata": {},
   "source": [
    "## 4. Display the quotes\n",
    "Once you have extracted the quotes, you can see a preview of the quotes using spaCy's visualisation tool, displaCy. \n",
    "\n",
    "<div class=\"alert alert-block alert-info\">\n",
    "<b>Tools:</b>    \n",
    "\n",
    "- displaCy: for displaying quotes, speakers and named entities\n",
    "- ipywidgets: for interactive tool\n",
    "</div>\n",
    "\n",
    "<div class=\"alert alert-block alert-danger\">\n",
    "<b>Select the text and the entities to show</b> \n",
    "\n",
    "In order to preview the extracted information, select the text you wish to analyse and which entities to show. Then, you can click the ***Preview*** button to display them and the ***Save Preview*** button to save them as an html file. \n",
    "</div>"
   ]
  },
  {
   "cell_type": "code",
   "execution_count": 6,
   "id": "e536e55b",
   "metadata": {},
   "outputs": [
    {
     "data": {
      "application/vnd.jupyter.widget-view+json": {
       "model_id": "c56617b8dcba4883a01166e39fa88f5d",
       "version_major": 2,
       "version_minor": 0
      },
      "text/plain": [
       "VBox(children=(HBox(children=(VBox(children=(HTML(value='<b>Select which entity to show:</b>', placeholder='')…"
      ]
     },
     "metadata": {},
     "output_type": "display_data"
    }
   ],
   "source": [
    "# display a preview of the extracted quotes, speakers and entities within the text\n",
    "qt.analyse_quotes(inc_ent)"
   ]
  },
  {
   "cell_type": "markdown",
   "id": "4f5f4dc4",
   "metadata": {},
   "source": [
    "<div class=\"alert alert-block alert-danger\">\n",
    "<b>Select the text and the entities to show</b> \n",
    "\n",
    "You can also display the top named entitites identified in the quotes and/or speakers. You just need to select the text to analyse (option to analyse 'all texts' is also available), whether to display the identified entities in the speakers and/or quotes, whether to display the entity names and/or types, the number of top entities to display and finally, click the ***Show Top Entities*** and ***Save Top Entities*** buttons to display and save them, respectively. \n",
    "</div>"
   ]
  },
  {
   "cell_type": "code",
   "execution_count": 7,
   "id": "a0a92980",
   "metadata": {},
   "outputs": [
    {
     "data": {
      "application/vnd.jupyter.widget-view+json": {
       "model_id": "6fd7547c9bb643049be54266adac2798",
       "version_major": 2,
       "version_minor": 0
      },
      "text/plain": [
       "VBox(children=(HBox(children=(VBox(children=(HTML(value='<b>Select which entity to show:</b>', placeholder='')…"
      ]
     },
     "metadata": {},
     "output_type": "display_data"
    }
   ],
   "source": [
    "# check the top named entities identified in the quotes and/or speakers\n",
    "qt.analyse_entities(inc_ent)"
   ]
  },
  {
   "cell_type": "markdown",
   "id": "c6e56460",
   "metadata": {},
   "source": [
    "<div class=\"alert alert-block alert-warning\">\n",
    "<b>Capitalized words</b> \n",
    "\n",
    "Please note that lowercase or UPPERCASE words such as quote, QUOTE, Quote, etc. are recognised as different words by the tool, so you may see that they are counted differently in the above analysis.\n",
    "\n",
    "</div>"
   ]
  },
  {
   "cell_type": "markdown",
   "id": "3607fd4b",
   "metadata": {},
   "source": [
    "## 5. Save the quotes\n",
    "Finally, you can run the below code to save the quotes pandas dataframe into an Excel spreadsheet and download them to your local computer.  "
   ]
  },
  {
   "cell_type": "code",
   "execution_count": 8,
   "id": "388ca926",
   "metadata": {
    "tags": []
   },
   "outputs": [
    {
     "name": "stdout",
     "output_type": "stream",
     "text": [
      "Click below to download:\n"
     ]
    },
    {
     "data": {
      "text/html": [
       "<a href='./output/quotes.xlsx' download=quotes.xlsx>quotes.xlsx</a><br>"
      ],
      "text/plain": [
       "/Users/hcha9747/workspace/quotation-tool/output/quotes.xlsx"
      ]
     },
     "metadata": {},
     "output_type": "display_data"
    }
   ],
   "source": [
    "# specify output directory and file name\n",
    "output_dir = './output/'\n",
    "file_name = 'quotes.xlsx'\n",
    "\n",
    "# save quotes_df into an Excel spreadsheet\n",
    "from pyexcelerate import Workbook\n",
    "values = [quotes_df.columns] + list(quotes_df.values)\n",
    "wb = Workbook()\n",
    "wb.new_sheet('Sheet1', data=values)\n",
    "wb.save(output_dir + file_name)\n",
    "\n",
    "# download quotes_df to your computer\n",
    "print('Click below to download:')\n",
    "display(DownloadFileLink(output_dir + file_name, 'quotes.xlsx'))"
   ]
  }
 ],
 "metadata": {
  "celltoolbar": "Raw Cell Format",
  "kernelspec": {
   "display_name": "Python 3 (ipykernel)",
   "language": "python",
   "name": "python3"
  },
  "language_info": {
   "codemirror_mode": {
    "name": "ipython",
    "version": 3
   },
   "file_extension": ".py",
   "mimetype": "text/x-python",
   "name": "python",
   "nbconvert_exporter": "python",
   "pygments_lexer": "ipython3",
   "version": "3.9.6"
  },
  "vscode": {
   "interpreter": {
    "hash": "50e9832c473c86713864f61257029e15f281e1af6f46dd8361ab2dc7ec7915dd"
   }
  }
 },
 "nbformat": 4,
 "nbformat_minor": 5
}
