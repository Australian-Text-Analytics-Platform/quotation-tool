{
 "cells": [
  {
   "cell_type": "code",
   "execution_count": 1,
   "id": "92a5fe4c",
   "metadata": {},
   "outputs": [
    {
     "data": {
      "text/plain": [
       "'Working directory: /Users/sjuf9909/Documents/GitHub/juxtorpus'"
      ]
     },
     "execution_count": 1,
     "metadata": {},
     "output_type": "execute_result"
    }
   ],
   "source": [
    "import os\n",
    "if not 'juxtorpus' in os.listdir():\n",
    "    os.chdir('../../')\n",
    "assert 'juxtorpus' in os.listdir(), f\"Working directory should be at juxtorpus. But at {os.getcwd()}\"\n",
    "f\"Working directory: {os.getcwd()}\""
   ]
  },
  {
   "cell_type": "code",
   "execution_count": 2,
   "id": "b08eaf8f",
   "metadata": {},
   "outputs": [
    {
     "name": "stderr",
     "output_type": "stream",
     "text": [
      "\u001b[32m[INFO] Note: NumExpr detected 10 cores but \"NUMEXPR_MAX_THREADS\" not set, so enforcing safe limit of 8.\u001b[0m\n",
      "\u001b[32m[INFO] NumExpr defaulting to 8 threads.\u001b[0m\n"
     ]
    },
    {
     "data": {
      "application/vnd.jupyter.widget-view+json": {
       "model_id": "0e109e7c3eef4dc2a966348a3a709317",
       "version_major": 2,
       "version_minor": 0
      },
      "text/plain": [
       "VBox(children=(HBox(children=(VBox(children=(SelectMultiple(layout=Layout(height='100%', width='98%'), options…"
      ]
     },
     "execution_count": 2,
     "metadata": {},
     "output_type": "execute_result"
    },
    {
     "data": {
      "text/html": [
       "<div>\n",
       "<style scoped>\n",
       "    .dataframe tbody tr th:only-of-type {\n",
       "        vertical-align: middle;\n",
       "    }\n",
       "\n",
       "    .dataframe tbody tr th {\n",
       "        vertical-align: top;\n",
       "    }\n",
       "\n",
       "    .dataframe thead th {\n",
       "        text-align: right;\n",
       "    }\n",
       "</style>\n",
       "<table border=\"1\" class=\"dataframe\">\n",
       "  <thead>\n",
       "    <tr style=\"text-align: right;\">\n",
       "      <th></th>\n",
       "      <th>text9</th>\n",
       "      <th>text8</th>\n",
       "      <th>text6</th>\n",
       "      <th>text7</th>\n",
       "      <th>text5</th>\n",
       "      <th>text4</th>\n",
       "      <th>text1</th>\n",
       "      <th>text3</th>\n",
       "      <th>text2</th>\n",
       "      <th>text10</th>\n",
       "    </tr>\n",
       "  </thead>\n",
       "  <tbody>\n",
       "    <tr>\n",
       "      <th>Federated States of Micronesia President David Panuelo warned the deal could stoke geopolitical tensions and undermine the sovereignty of the Pacific</th>\n",
       "      <td>✅</td>\n",
       "      <td></td>\n",
       "      <td>✅</td>\n",
       "      <td></td>\n",
       "      <td></td>\n",
       "      <td></td>\n",
       "      <td></td>\n",
       "      <td>✅</td>\n",
       "      <td></td>\n",
       "      <td></td>\n",
       "    </tr>\n",
       "    <tr>\n",
       "      <th>while Samoa's Prime Minister</th>\n",
       "      <td>✅</td>\n",
       "      <td></td>\n",
       "      <td>✅</td>\n",
       "      <td></td>\n",
       "      <td></td>\n",
       "      <td></td>\n",
       "      <td></td>\n",
       "      <td>✅</td>\n",
       "      <td></td>\n",
       "      <td></td>\n",
       "    </tr>\n",
       "    <tr>\n",
       "      <th>Fiame Naomi Mata'afa</th>\n",
       "      <td>✅</td>\n",
       "      <td></td>\n",
       "      <td>✅</td>\n",
       "      <td></td>\n",
       "      <td></td>\n",
       "      <td></td>\n",
       "      <td></td>\n",
       "      <td>✅</td>\n",
       "      <td></td>\n",
       "      <td></td>\n",
       "    </tr>\n",
       "    <tr>\n",
       "      <th>suggested the process had been rushed.</th>\n",
       "      <td>✅</td>\n",
       "      <td></td>\n",
       "      <td>✅</td>\n",
       "      <td></td>\n",
       "      <td></td>\n",
       "      <td></td>\n",
       "      <td></td>\n",
       "      <td>✅</td>\n",
       "      <td></td>\n",
       "      <td></td>\n",
       "    </tr>\n",
       "    <tr>\n",
       "      <th>(CBC News)</th>\n",
       "      <td></td>\n",
       "      <td>✅</td>\n",
       "      <td></td>\n",
       "      <td></td>\n",
       "      <td>✅</td>\n",
       "      <td></td>\n",
       "      <td></td>\n",
       "      <td></td>\n",
       "      <td>✅</td>\n",
       "      <td></td>\n",
       "    </tr>\n",
       "    <tr>\n",
       "      <th>Facebook and Instagram</th>\n",
       "      <td></td>\n",
       "      <td></td>\n",
       "      <td></td>\n",
       "      <td>✅</td>\n",
       "      <td></td>\n",
       "      <td>✅</td>\n",
       "      <td>✅</td>\n",
       "      <td></td>\n",
       "      <td></td>\n",
       "      <td>✅</td>\n",
       "    </tr>\n",
       "    <tr>\n",
       "      <th>which Facebook owns</th>\n",
       "      <td></td>\n",
       "      <td></td>\n",
       "      <td></td>\n",
       "      <td>✅</td>\n",
       "      <td></td>\n",
       "      <td>✅</td>\n",
       "      <td>✅</td>\n",
       "      <td></td>\n",
       "      <td></td>\n",
       "      <td>✅</td>\n",
       "    </tr>\n",
       "    <tr>\n",
       "      <th>followed up in the evening</th>\n",
       "      <td></td>\n",
       "      <td></td>\n",
       "      <td></td>\n",
       "      <td>✅</td>\n",
       "      <td></td>\n",
       "      <td>✅</td>\n",
       "      <td>✅</td>\n",
       "      <td></td>\n",
       "      <td></td>\n",
       "      <td>✅</td>\n",
       "    </tr>\n",
       "    <tr>\n",
       "      <th>announcing that Trump wouldn't be able to post for 24 hours following two violations of its policies. The White House did not immediately offer a response to the actions.</th>\n",
       "      <td></td>\n",
       "      <td></td>\n",
       "      <td></td>\n",
       "      <td>✅</td>\n",
       "      <td></td>\n",
       "      <td>✅</td>\n",
       "      <td></td>\n",
       "      <td></td>\n",
       "      <td></td>\n",
       "      <td></td>\n",
       "    </tr>\n",
       "    <tr>\n",
       "      <th>announcing that Trump wouldn't be able to post for 24 hours following two violations of its policies. This is where this document is different.</th>\n",
       "      <td></td>\n",
       "      <td></td>\n",
       "      <td></td>\n",
       "      <td></td>\n",
       "      <td></td>\n",
       "      <td></td>\n",
       "      <td>✅</td>\n",
       "      <td></td>\n",
       "      <td></td>\n",
       "      <td></td>\n",
       "    </tr>\n",
       "    <tr>\n",
       "      <th>announcing that Trump wouldn't be able to post for 24 hours following two violations of its policies. The White House did not immediately offer a response to the actions.</th>\n",
       "      <td></td>\n",
       "      <td></td>\n",
       "      <td></td>\n",
       "      <td></td>\n",
       "      <td></td>\n",
       "      <td></td>\n",
       "      <td></td>\n",
       "      <td></td>\n",
       "      <td></td>\n",
       "      <td>✅</td>\n",
       "    </tr>\n",
       "  </tbody>\n",
       "</table>\n",
       "</div>"
      ],
      "text/plain": [
       "                                                   text9 text8 text6 text7  \\\n",
       "Federated States of Micronesia President David ...     ✅           ✅         \n",
       " while Samoa's Prime Minister                          ✅           ✅         \n",
       " Fiame Naomi Mata'afa                                  ✅           ✅         \n",
       " suggested the process had been rushed.                ✅           ✅         \n",
       "(CBC News)                                                   ✅               \n",
       "Facebook and Instagram                                                   ✅   \n",
       " which Facebook owns                                                     ✅   \n",
       " followed up in the evening                                              ✅   \n",
       " announcing that Trump wouldn't be able to post...                       ✅   \n",
       " announcing that Trump wouldn't be able to post...                           \n",
       " announcing that Trump wouldn't be able to post...                           \n",
       "\n",
       "                                                   text5 text4 text1 text3  \\\n",
       "Federated States of Micronesia President David ...                       ✅   \n",
       " while Samoa's Prime Minister                                            ✅   \n",
       " Fiame Naomi Mata'afa                                                    ✅   \n",
       " suggested the process had been rushed.                                  ✅   \n",
       "(CBC News)                                             ✅                     \n",
       "Facebook and Instagram                                       ✅     ✅         \n",
       " which Facebook owns                                         ✅     ✅         \n",
       " followed up in the evening                                  ✅     ✅         \n",
       " announcing that Trump wouldn't be able to post...           ✅               \n",
       " announcing that Trump wouldn't be able to post...                 ✅         \n",
       " announcing that Trump wouldn't be able to post...                           \n",
       "\n",
       "                                                   text2 text10  \n",
       "Federated States of Micronesia President David ...               \n",
       " while Samoa's Prime Minister                                    \n",
       " Fiame Naomi Mata'afa                                            \n",
       " suggested the process had been rushed.                          \n",
       "(CBC News)                                             ✅         \n",
       "Facebook and Instagram                                        ✅  \n",
       " which Facebook owns                                          ✅  \n",
       " followed up in the evening                                   ✅  \n",
       " announcing that Trump wouldn't be able to post...               \n",
       " announcing that Trump wouldn't be able to post...               \n",
       " announcing that Trump wouldn't be able to post...            ✅  "
      ]
     },
     "metadata": {},
     "output_type": "display_data"
    },
    {
     "name": "stdout",
     "output_type": "stream",
     "text": [
      "There are mismatched columns. These will be filled with NaN. Would you like to proceed? (y/n): "
     ]
    },
    {
     "ename": "EOFError",
     "evalue": "EOF when reading a line",
     "output_type": "error",
     "traceback": [
      "\u001b[0;31m---------------------------------------------------------------------------\u001b[0m",
      "\u001b[0;31mEOFError\u001b[0m                                  Traceback (most recent call last)",
      "\u001b[0;32m~/Documents/GitHub/juxtorpus/juxtorpus/corpus/app.py\u001b[0m in \u001b[0;36mon_click_confirm\u001b[0;34m(_)\u001b[0m\n\u001b[1;32m    122\u001b[0m             \u001b[0mselected_files\u001b[0m \u001b[0;34m=\u001b[0m \u001b[0;34m[\u001b[0m\u001b[0md\u001b[0m\u001b[0;34m.\u001b[0m\u001b[0mget\u001b[0m\u001b[0;34m(\u001b[0m\u001b[0;34m'path'\u001b[0m\u001b[0;34m)\u001b[0m \u001b[0;32mfor\u001b[0m \u001b[0md\u001b[0m \u001b[0;32min\u001b[0m \u001b[0mself\u001b[0m\u001b[0;34m.\u001b[0m\u001b[0m_files\u001b[0m\u001b[0;34m.\u001b[0m\u001b[0mvalues\u001b[0m\u001b[0;34m(\u001b[0m\u001b[0;34m)\u001b[0m \u001b[0;32mif\u001b[0m \u001b[0md\u001b[0m\u001b[0;34m.\u001b[0m\u001b[0mget\u001b[0m\u001b[0;34m(\u001b[0m\u001b[0;34m'selected'\u001b[0m\u001b[0;34m)\u001b[0m\u001b[0;34m]\u001b[0m\u001b[0;34m\u001b[0m\u001b[0;34m\u001b[0m\u001b[0m\n\u001b[1;32m    123\u001b[0m             \u001b[0;32mif\u001b[0m \u001b[0mlen\u001b[0m\u001b[0;34m(\u001b[0m\u001b[0mselected_files\u001b[0m\u001b[0;34m)\u001b[0m \u001b[0;34m<=\u001b[0m \u001b[0;36m0\u001b[0m\u001b[0;34m:\u001b[0m \u001b[0;32mreturn\u001b[0m\u001b[0;34m\u001b[0m\u001b[0;34m\u001b[0m\u001b[0m\n\u001b[0;32m--> 124\u001b[0;31m             \u001b[0mself\u001b[0m\u001b[0;34m.\u001b[0m\u001b[0m_builder\u001b[0m \u001b[0;34m=\u001b[0m \u001b[0mCorpusBuilder\u001b[0m\u001b[0;34m(\u001b[0m\u001b[0mselected_files\u001b[0m\u001b[0;34m)\u001b[0m\u001b[0;34m\u001b[0m\u001b[0;34m\u001b[0m\u001b[0m\n\u001b[0m\u001b[1;32m    125\u001b[0m             \u001b[0;31m# hbox_corpus_builder.children = tuple((Label(p.name) for p in self._builder.paths))\u001b[0m\u001b[0;34m\u001b[0m\u001b[0;34m\u001b[0m\u001b[0m\n\u001b[1;32m    126\u001b[0m             \u001b[0mhbox_corpus_builder\u001b[0m \u001b[0;34m=\u001b[0m \u001b[0mself\u001b[0m\u001b[0;34m.\u001b[0m\u001b[0m_create_corpus_builder\u001b[0m\u001b[0;34m(\u001b[0m\u001b[0;34m)\u001b[0m\u001b[0;34m\u001b[0m\u001b[0;34m\u001b[0m\u001b[0m\n",
      "\u001b[0;32m~/Documents/GitHub/juxtorpus/juxtorpus/corpus/builder.py\u001b[0m in \u001b[0;36m__init__\u001b[0;34m(self, paths)\u001b[0m\n\u001b[1;32m    109\u001b[0m \u001b[0;34m\u001b[0m\u001b[0m\n\u001b[1;32m    110\u001b[0m         \u001b[0;31m# validate column alignments\u001b[0m\u001b[0;34m\u001b[0m\u001b[0;34m\u001b[0m\u001b[0m\n\u001b[0;32m--> 111\u001b[0;31m         \u001b[0mself\u001b[0m\u001b[0;34m.\u001b[0m\u001b[0m_columns\u001b[0m \u001b[0;34m=\u001b[0m \u001b[0mself\u001b[0m\u001b[0;34m.\u001b[0m\u001b[0m_prompt_validated_columns\u001b[0m\u001b[0;34m(\u001b[0m\u001b[0mself\u001b[0m\u001b[0;34m.\u001b[0m\u001b[0m_paths\u001b[0m\u001b[0;34m)\u001b[0m\u001b[0;34m\u001b[0m\u001b[0;34m\u001b[0m\u001b[0m\n\u001b[0m\u001b[1;32m    112\u001b[0m         \u001b[0;32mif\u001b[0m \u001b[0mself\u001b[0m\u001b[0;34m.\u001b[0m\u001b[0m_columns\u001b[0m \u001b[0;32mis\u001b[0m \u001b[0;32mNone\u001b[0m\u001b[0;34m:\u001b[0m \u001b[0;32mreturn\u001b[0m\u001b[0;34m\u001b[0m\u001b[0;34m\u001b[0m\u001b[0m\n\u001b[1;32m    113\u001b[0m \u001b[0;34m\u001b[0m\u001b[0m\n",
      "\u001b[0;32m~/Documents/GitHub/juxtorpus/juxtorpus/corpus/builder.py\u001b[0m in \u001b[0;36m_prompt_validated_columns\u001b[0;34m(paths)\u001b[0m\n\u001b[1;32m    124\u001b[0m         \u001b[0;32mif\u001b[0m \u001b[0mdf_cols\u001b[0m\u001b[0;34m.\u001b[0m\u001b[0misnull\u001b[0m\u001b[0;34m(\u001b[0m\u001b[0;34m)\u001b[0m\u001b[0;34m.\u001b[0m\u001b[0mvalues\u001b[0m\u001b[0;34m.\u001b[0m\u001b[0many\u001b[0m\u001b[0;34m(\u001b[0m\u001b[0;34m)\u001b[0m\u001b[0;34m:\u001b[0m\u001b[0;34m\u001b[0m\u001b[0;34m\u001b[0m\u001b[0m\n\u001b[1;32m    125\u001b[0m             \u001b[0mdisplay\u001b[0m\u001b[0;34m(\u001b[0m\u001b[0mdf_cols\u001b[0m\u001b[0;34m.\u001b[0m\u001b[0mfillna\u001b[0m\u001b[0;34m(\u001b[0m\u001b[0;34m''\u001b[0m\u001b[0;34m)\u001b[0m\u001b[0;34m)\u001b[0m\u001b[0;34m\u001b[0m\u001b[0;34m\u001b[0m\u001b[0m\n\u001b[0;32m--> 126\u001b[0;31m             \u001b[0;32mif\u001b[0m \u001b[0;32mnot\u001b[0m \u001b[0minput\u001b[0m\u001b[0;34m(\u001b[0m\u001b[0mPROMPT_MISMATCHED_COLUMNS\u001b[0m\u001b[0;34m)\u001b[0m\u001b[0;34m.\u001b[0m\u001b[0mstrip\u001b[0m\u001b[0;34m(\u001b[0m\u001b[0;34m)\u001b[0m \u001b[0;34m==\u001b[0m \u001b[0mPROMPT_MISMATCHED_COLUMNS_PASS\u001b[0m\u001b[0;34m:\u001b[0m \u001b[0;32mreturn\u001b[0m \u001b[0;32mNone\u001b[0m\u001b[0;34m\u001b[0m\u001b[0;34m\u001b[0m\u001b[0m\n\u001b[0m\u001b[1;32m    127\u001b[0m         \u001b[0;32mreturn\u001b[0m \u001b[0mset\u001b[0m\u001b[0;34m(\u001b[0m\u001b[0mdf_cols\u001b[0m\u001b[0;34m.\u001b[0m\u001b[0mindex\u001b[0m\u001b[0;34m.\u001b[0m\u001b[0mto_list\u001b[0m\u001b[0;34m(\u001b[0m\u001b[0;34m)\u001b[0m\u001b[0;34m)\u001b[0m\u001b[0;34m\u001b[0m\u001b[0;34m\u001b[0m\u001b[0m\n\u001b[1;32m    128\u001b[0m \u001b[0;34m\u001b[0m\u001b[0m\n",
      "\u001b[0;31mEOFError\u001b[0m: EOF when reading a line"
     ]
    }
   ],
   "source": [
    "from juxtorpus.corpus.app import App\n",
    "\n",
    "app = App()\n",
    "app.corpus_builder()"
   ]
  },
  {
   "cell_type": "code",
   "execution_count": 3,
   "id": "68df63d3",
   "metadata": {},
   "outputs": [
    {
     "data": {
      "application/vnd.jupyter.widget-view+json": {
       "model_id": "cff5ddb6ad954a9083b1b347f2028621",
       "version_major": 2,
       "version_minor": 0
      },
      "text/plain": [
       "GridBox(children=(VBox(children=(HBox(children=(Label(value='Corpus ID', layout=Layout(display='flex', justify…"
      ]
     },
     "execution_count": 3,
     "metadata": {},
     "output_type": "execute_result"
    }
   ],
   "source": [
    "app.corpus_registry()"
   ]
  },
  {
   "cell_type": "code",
   "execution_count": 4,
   "id": "4b506690",
   "metadata": {},
   "outputs": [
    {
     "ename": "TypeError",
     "evalue": "object of type 'NoneType' has no len()",
     "output_type": "error",
     "traceback": [
      "\u001b[0;31m---------------------------------------------------------------------------\u001b[0m",
      "\u001b[0;31mTypeError\u001b[0m                                 Traceback (most recent call last)",
      "\u001b[0;32m/var/folders/gt/d86tvp7n6_779ysnljtt1sq40000gp/T/ipykernel_9914/1579824541.py\u001b[0m in \u001b[0;36m<module>\u001b[0;34m\u001b[0m\n\u001b[1;32m      1\u001b[0m \u001b[0mcorpus\u001b[0m \u001b[0;34m=\u001b[0m \u001b[0mapp\u001b[0m\u001b[0;34m.\u001b[0m\u001b[0mREGISTRY\u001b[0m\u001b[0;34m.\u001b[0m\u001b[0mget\u001b[0m\u001b[0;34m(\u001b[0m\u001b[0;34m'q04'\u001b[0m\u001b[0;34m)\u001b[0m\u001b[0;34m\u001b[0m\u001b[0;34m\u001b[0m\u001b[0m\n\u001b[0;32m----> 2\u001b[0;31m \u001b[0mlen\u001b[0m\u001b[0;34m(\u001b[0m\u001b[0mcorpus\u001b[0m\u001b[0;34m)\u001b[0m\u001b[0;34m\u001b[0m\u001b[0;34m\u001b[0m\u001b[0m\n\u001b[0m",
      "\u001b[0;31mTypeError\u001b[0m: object of type 'NoneType' has no len()"
     ]
    }
   ],
   "source": [
    "corpus = app.REGISTRY.get('q04')\n",
    "len(corpus)"
   ]
  },
  {
   "cell_type": "code",
   "execution_count": null,
   "id": "a806dd42",
   "metadata": {},
   "outputs": [],
   "source": [
    "from juxtorpus.corpus.processors import process\n",
    "import spacy\n",
    "\n",
    "nlp = spacy.load('en_core_web_sm')\n",
    "spacy_corpus = process(corpus[:50], nlp=nlp)\n",
    "spacy_corpus"
   ]
  },
  {
   "cell_type": "code",
   "execution_count": null,
   "id": "2790e200",
   "metadata": {},
   "outputs": [],
   "source": [
    "spacy_corpus.docs().iloc[0], type(spacy_corpus.docs().iloc[0])"
   ]
  },
  {
   "cell_type": "code",
   "execution_count": null,
   "id": "b3955dd1",
   "metadata": {},
   "outputs": [],
   "source": [
    "spacy_corpus.meta['date'].series()"
   ]
  },
  {
   "cell_type": "code",
   "execution_count": null,
   "id": "119ac008",
   "metadata": {},
   "outputs": [],
   "source": []
  }
 ],
 "metadata": {
  "kernelspec": {
   "display_name": "Python 3 (ipykernel)",
   "language": "python",
   "name": "python3"
  },
  "language_info": {
   "codemirror_mode": {
    "name": "ipython",
    "version": 3
   },
   "file_extension": ".py",
   "mimetype": "text/x-python",
   "name": "python",
   "nbconvert_exporter": "python",
   "pygments_lexer": "ipython3",
   "version": "3.9.13"
  }
 },
 "nbformat": 4,
 "nbformat_minor": 5
}
