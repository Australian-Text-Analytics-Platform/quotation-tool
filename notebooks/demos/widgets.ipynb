{
 "cells": [
  {
   "cell_type": "code",
   "execution_count": 1,
   "id": "66651cef",
   "metadata": {},
   "outputs": [],
   "source": [
    "import os\n",
    "if not 'juxtorpus' in os.listdir():\n",
    "    os.chdir('../../')\n",
    "assert 'juxtorpus' in os.listdir(), f\"Working directory should be at juxtorpus. But at {os.getcwd()}\"\n",
    "f\"Working directory: {os.getcwd()}\"\n",
    "from pathlib import Path\n",
    "from ipywidgets import GridBox, HBox, VBox, Label, Checkbox, Layout, Select, Box, HTML, SelectMultiple, Button\n",
    "import ipywidgets as widgets"
   ]
  },
  {
   "cell_type": "code",
   "execution_count": 2,
   "id": "70cc079e",
   "metadata": {},
   "outputs": [
    {
     "data": {
      "application/vnd.jupyter.widget-view+json": {
       "model_id": "75d4f7abf0f44af3a974a56d5e91e3a5",
       "version_major": 2,
       "version_minor": 0
      },
      "text/plain": [
       "VBox(children=(HBox(children=(VBox(children=(SelectMultiple(layout=Layout(height='100%', width='98%'), options…"
      ]
     },
     "metadata": {},
     "output_type": "display_data"
    }
   ],
   "source": [
    "from juxtorpus.corpus.app import App\n",
    "\n",
    "app = App()\n",
    "app.corpus_builder()"
   ]
  },
  {
   "cell_type": "code",
   "execution_count": 5,
   "id": "ce620247",
   "metadata": {},
   "outputs": [
    {
     "ename": "KeyError",
     "evalue": "'hello2 already exists.'",
     "output_type": "error",
     "traceback": [
      "\u001b[0;31m---------------------------------------------------------------------------\u001b[0m",
      "\u001b[0;31mKeyError\u001b[0m                                  Traceback (most recent call last)",
      "Input \u001b[0;32mIn [5]\u001b[0m, in \u001b[0;36m<cell line: 6>\u001b[0;34m()\u001b[0m\n\u001b[1;32m      4\u001b[0m b\u001b[38;5;241m.\u001b[39madd_metas([\u001b[38;5;124m'\u001b[39m\u001b[38;5;124mdate\u001b[39m\u001b[38;5;124m'\u001b[39m], dtypes\u001b[38;5;241m=\u001b[39m\u001b[38;5;124m'\u001b[39m\u001b[38;5;124mdatetime\u001b[39m\u001b[38;5;124m'\u001b[39m)\n\u001b[1;32m      5\u001b[0m b\u001b[38;5;241m.\u001b[39madd_metas(\u001b[38;5;124m'\u001b[39m\u001b[38;5;124mquintile\u001b[39m\u001b[38;5;124m'\u001b[39m, dtypes\u001b[38;5;241m=\u001b[39m\u001b[38;5;124m'\u001b[39m\u001b[38;5;124mcategory\u001b[39m\u001b[38;5;124m'\u001b[39m)\n\u001b[0;32m----> 6\u001b[0m \u001b[43mapp\u001b[49m\u001b[38;5;241;43m.\u001b[39;49m\u001b[43mupdate_registry\u001b[49m\u001b[43m(\u001b[49m\u001b[38;5;124;43m'\u001b[39;49m\u001b[38;5;124;43mhello2\u001b[39;49m\u001b[38;5;124;43m'\u001b[39;49m\u001b[43m,\u001b[49m\u001b[43m \u001b[49m\u001b[43mb\u001b[49m\u001b[38;5;241;43m.\u001b[39;49m\u001b[43mbuild\u001b[49m\u001b[43m(\u001b[49m\u001b[43m)\u001b[49m\u001b[43m)\u001b[49m\n",
      "File \u001b[0;32m~/workspace/juxtorpus/juxtorpus/corpus/app.py:75\u001b[0m, in \u001b[0;36mApp.update_registry\u001b[0;34m(self, corpus_id, corpus)\u001b[0m\n\u001b[1;32m     74\u001b[0m \u001b[38;5;28;01mdef\u001b[39;00m \u001b[38;5;21mupdate_registry\u001b[39m(\u001b[38;5;28mself\u001b[39m, corpus_id, corpus):\n\u001b[0;32m---> 75\u001b[0m     \u001b[38;5;28;01mif\u001b[39;00m corpus_id \u001b[38;5;129;01min\u001b[39;00m \u001b[38;5;28mself\u001b[39m\u001b[38;5;241m.\u001b[39mREGISTRY\u001b[38;5;241m.\u001b[39mkeys(): \u001b[38;5;28;01mraise\u001b[39;00m \u001b[38;5;167;01mKeyError\u001b[39;00m(\u001b[38;5;124mf\u001b[39m\u001b[38;5;124m\"\u001b[39m\u001b[38;5;132;01m{\u001b[39;00mcorpus_id\u001b[38;5;132;01m}\u001b[39;00m\u001b[38;5;124m already exists.\u001b[39m\u001b[38;5;124m\"\u001b[39m)\n\u001b[1;32m     76\u001b[0m     \u001b[38;5;28mself\u001b[39m\u001b[38;5;241m.\u001b[39mREGISTRY[corpus_id] \u001b[38;5;241m=\u001b[39m corpus\n\u001b[1;32m     77\u001b[0m     \u001b[38;5;28mself\u001b[39m\u001b[38;5;241m.\u001b[39m_update_corpus_selector()\n",
      "\u001b[0;31mKeyError\u001b[0m: 'hello2 already exists.'"
     ]
    }
   ],
   "source": [
    "from juxtorpus.corpus import Corpus, CorpusBuilder\n",
    "b  = CorpusBuilder([Path('/Users/hcha9747/Downloads/widgets/Quintile_0.csv'), Path('/Users/hcha9747/Downloads/widgets/Quintile_4.csv')])\n",
    "b.set_text_column('text')\n",
    "b.add_metas(['date'], dtypes='datetime')\n",
    "b.add_metas('quintile', dtypes='category')\n",
    "app.update_registry('hello2', b.build())"
   ]
  },
  {
   "cell_type": "code",
   "execution_count": 3,
   "id": "80225f4b",
   "metadata": {
    "scrolled": true
   },
   "outputs": [
    {
     "data": {
      "application/vnd.jupyter.widget-view+json": {
       "model_id": "1a687ff2a7994032943023be74abf520",
       "version_major": 2,
       "version_minor": 0
      },
      "text/plain": [
       "GridBox(children=(VBox(children=(HBox(children=(Label(value='Corpus ID', layout=Layout(display='flex', justify…"
      ]
     },
     "metadata": {},
     "output_type": "display_data"
    }
   ],
   "source": [
    "app.corpus_registry()"
   ]
  },
  {
   "cell_type": "code",
   "execution_count": 6,
   "id": "d5955a31",
   "metadata": {
    "scrolled": true
   },
   "outputs": [
    {
     "data": {
      "application/vnd.jupyter.widget-view+json": {
       "model_id": "3d371567764143e790719a597b519ab2",
       "version_major": 2,
       "version_minor": 0
      },
      "text/plain": [
       "VBox(children=(VBox(children=(HBox(children=(VBox(children=(Label(value='Meta', layout=Layout(display='flex', …"
      ]
     },
     "metadata": {},
     "output_type": "display_data"
    }
   ],
   "source": [
    "app.corpus_slicer()"
   ]
  },
  {
   "cell_type": "code",
   "execution_count": null,
   "id": "d20eac27",
   "metadata": {},
   "outputs": [],
   "source": []
  }
 ],
 "metadata": {
  "kernelspec": {
   "display_name": "Python 3 (ipykernel)",
   "language": "python",
   "name": "python3"
  },
  "language_info": {
   "codemirror_mode": {
    "name": "ipython",
    "version": 3
   },
   "file_extension": ".py",
   "mimetype": "text/x-python",
   "name": "python",
   "nbconvert_exporter": "python",
   "pygments_lexer": "ipython3",
   "version": "3.9.16"
  }
 },
 "nbformat": 4,
 "nbformat_minor": 5
}
