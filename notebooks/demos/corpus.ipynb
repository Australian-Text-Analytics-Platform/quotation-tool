{
 "cells": [
  {
   "cell_type": "markdown",
   "metadata": {},
   "source": [
    "# Corpus\n",
    "This notebook is entirely for `Corpus` and `SpacyCorpus` class.\n",
    "\n",
    "It will demonstrate how they are built and explore their functionalities and the more subtle accessors.\n",
    "\n",
    "Related classes:\n",
    "`Corpus`, `SpacyCorpus`, `CorpusBuilder`, `CorpusSlicer`, `SpacyProcessor`."
   ]
  },
  {
   "cell_type": "code",
   "execution_count": 1,
   "metadata": {},
   "outputs": [
    {
     "data": {
      "text/plain": [
       "'Working directory: /Users/hcha9747/workspace/juxtorpus'"
      ]
     },
     "execution_count": 1,
     "metadata": {},
     "output_type": "execute_result"
    }
   ],
   "source": [
    "import os\n",
    "if  not 'juxtorpus' in os.listdir():\n",
    "    os.chdir('../../')\n",
    "assert 'juxtorpus' in os.listdir(), f\"Working directory should be at juxtorpus. But at {os.getcwd()}\"\n",
    "f\"Working directory: {os.getcwd()}\""
   ]
  },
  {
   "cell_type": "markdown",
   "metadata": {},
   "source": [
    "#### 1. Building a Corpus with CorpusBuilder\n",
    "\n",
    "Current limitations:\n",
    "- only accepts csv formats. (Please first write your own scripts to preprocess your data if required.)\n",
    "- multiple files requires them to share the same columns.\n",
    "\n",
    "Future:\n",
    "- more loading pipelines - accepting of formats aside from csv."
   ]
  },
  {
   "cell_type": "code",
   "execution_count": 2,
   "metadata": {},
   "outputs": [],
   "source": [
    "from pathlib import Path\n",
    "\n",
    "paths = [Path(\"./tests/assets/Geolocated_places_climate_with_LGA_and_remoteness_0.csv\"),\n",
    "         Path(\"./tests/assets/Geolocated_places_climate_with_LGA_and_remoteness_1.csv\")]\n",
    "for p in paths: assert p.exists()"
   ]
  },
  {
   "cell_type": "code",
   "execution_count": 3,
   "metadata": {},
   "outputs": [
    {
     "data": {
      "text/html": [
       "<div>\n",
       "<style scoped>\n",
       "    .dataframe tbody tr th:only-of-type {\n",
       "        vertical-align: middle;\n",
       "    }\n",
       "\n",
       "    .dataframe tbody tr th {\n",
       "        vertical-align: top;\n",
       "    }\n",
       "\n",
       "    .dataframe thead th {\n",
       "        text-align: right;\n",
       "    }\n",
       "</style>\n",
       "<table border=\"1\" class=\"dataframe\">\n",
       "  <thead>\n",
       "    <tr style=\"text-align: right;\">\n",
       "      <th>All Columns</th>\n",
       "      <th>day</th>\n",
       "      <th>geometry</th>\n",
       "      <th>year</th>\n",
       "      <th>tweet_lga</th>\n",
       "      <th>tweet_id</th>\n",
       "      <th>state_name_2016</th>\n",
       "      <th>state_code_2016</th>\n",
       "      <th>screen_name</th>\n",
       "      <th>retweet</th>\n",
       "      <th>remoteness</th>\n",
       "      <th>remote_level</th>\n",
       "      <th>processed_text</th>\n",
       "      <th>month</th>\n",
       "      <th>lon_mid</th>\n",
       "      <th>lga_name_2020</th>\n",
       "      <th>lga_code_2020</th>\n",
       "      <th>lat_mid</th>\n",
       "      <th>year_month_day</th>\n",
       "    </tr>\n",
       "  </thead>\n",
       "  <tbody>\n",
       "    <tr>\n",
       "      <th>Add</th>\n",
       "      <td>False</td>\n",
       "      <td>False</td>\n",
       "      <td>False</td>\n",
       "      <td>False</td>\n",
       "      <td>False</td>\n",
       "      <td>False</td>\n",
       "      <td>False</td>\n",
       "      <td>False</td>\n",
       "      <td>False</td>\n",
       "      <td>False</td>\n",
       "      <td>False</td>\n",
       "      <td>False</td>\n",
       "      <td>False</td>\n",
       "      <td>False</td>\n",
       "      <td>False</td>\n",
       "      <td>False</td>\n",
       "      <td>False</td>\n",
       "      <td>False</td>\n",
       "    </tr>\n",
       "  </tbody>\n",
       "</table>\n",
       "</div>"
      ],
      "text/plain": [
       "All Columns    day  geometry   year  tweet_lga  tweet_id  state_name_2016  \\\n",
       "Add          False     False  False      False     False            False   \n",
       "\n",
       "All Columns  state_code_2016  screen_name  retweet  remoteness  remote_level  \\\n",
       "Add                    False        False    False       False         False   \n",
       "\n",
       "All Columns  processed_text  month  lon_mid  lga_name_2020  lga_code_2020  \\\n",
       "Add                   False  False    False          False          False   \n",
       "\n",
       "All Columns  lat_mid  year_month_day  \n",
       "Add            False           False  "
      ]
     },
     "execution_count": 3,
     "metadata": {},
     "output_type": "execute_result"
    }
   ],
   "source": [
    "from juxtorpus.corpus import Corpus, CorpusBuilder\n",
    "\n",
    "builder = CorpusBuilder(paths)\n",
    "builder.show_columns().T"
   ]
  },
  {
   "cell_type": "code",
   "execution_count": 4,
   "metadata": {},
   "outputs": [
    {
     "data": {
      "text/html": [
       "<div>\n",
       "<style scoped>\n",
       "    .dataframe tbody tr th:only-of-type {\n",
       "        vertical-align: middle;\n",
       "    }\n",
       "\n",
       "    .dataframe tbody tr th {\n",
       "        vertical-align: top;\n",
       "    }\n",
       "\n",
       "    .dataframe thead th {\n",
       "        text-align: right;\n",
       "    }\n",
       "</style>\n",
       "<table border=\"1\" class=\"dataframe\">\n",
       "  <thead>\n",
       "    <tr style=\"text-align: right;\">\n",
       "      <th></th>\n",
       "      <th>year</th>\n",
       "      <th>month</th>\n",
       "      <th>day</th>\n",
       "      <th>lat_mid</th>\n",
       "      <th>lon_mid</th>\n",
       "      <th>screen_name</th>\n",
       "      <th>tweet_id</th>\n",
       "      <th>retweet</th>\n",
       "      <th>processed_text</th>\n",
       "      <th>geometry</th>\n",
       "      <th>tweet_lga</th>\n",
       "      <th>lga_code_2020</th>\n",
       "      <th>lga_name_2020</th>\n",
       "      <th>state_code_2016</th>\n",
       "      <th>state_name_2016</th>\n",
       "      <th>remoteness</th>\n",
       "      <th>remote_level</th>\n",
       "      <th>year_month_day</th>\n",
       "    </tr>\n",
       "  </thead>\n",
       "  <tbody>\n",
       "    <tr>\n",
       "      <th>0</th>\n",
       "      <td>2019</td>\n",
       "      <td>11</td>\n",
       "      <td>29</td>\n",
       "      <td>-34.921620</td>\n",
       "      <td>138.598244</td>\n",
       "      <td>G_Westgarth</td>\n",
       "      <td>1.200000e+18</td>\n",
       "      <td>False</td>\n",
       "      <td>&lt;TWEET&gt; \"Merry Crisis\", \"You cannot eat money\"...</td>\n",
       "      <td>c(138.598244, -34.92162)</td>\n",
       "      <td>Adelaide (C)</td>\n",
       "      <td>40070.0</td>\n",
       "      <td>Adelaide (C)</td>\n",
       "      <td>4.0</td>\n",
       "      <td>South Australia</td>\n",
       "      <td>Major Cities of Australia</td>\n",
       "      <td>1.0</td>\n",
       "      <td>2019.11.29</td>\n",
       "    </tr>\n",
       "    <tr>\n",
       "      <th>1</th>\n",
       "      <td>2019</td>\n",
       "      <td>12</td>\n",
       "      <td>30</td>\n",
       "      <td>-34.928770</td>\n",
       "      <td>138.599702</td>\n",
       "      <td>adelparklands</td>\n",
       "      <td>1.210000e+18</td>\n",
       "      <td>False</td>\n",
       "      <td>&lt;TWEET&gt; #adelaideparklands #picoftheday \\nThe ...</td>\n",
       "      <td>c(138.599702, -34.92877)</td>\n",
       "      <td>Adelaide (C)</td>\n",
       "      <td>40070.0</td>\n",
       "      <td>Adelaide (C)</td>\n",
       "      <td>4.0</td>\n",
       "      <td>South Australia</td>\n",
       "      <td>Major Cities of Australia</td>\n",
       "      <td>1.0</td>\n",
       "      <td>2019.12.30</td>\n",
       "    </tr>\n",
       "    <tr>\n",
       "      <th>2</th>\n",
       "      <td>2020</td>\n",
       "      <td>1</td>\n",
       "      <td>29</td>\n",
       "      <td>-34.925639</td>\n",
       "      <td>138.600768</td>\n",
       "      <td>timklapdor</td>\n",
       "      <td>1.220000e+18</td>\n",
       "      <td>False</td>\n",
       "      <td>&lt;TWEET&gt; Same academics who would have their su...</td>\n",
       "      <td>c(138.6007685, -34.925639)</td>\n",
       "      <td>Adelaide (C)</td>\n",
       "      <td>40070.0</td>\n",
       "      <td>Adelaide (C)</td>\n",
       "      <td>4.0</td>\n",
       "      <td>South Australia</td>\n",
       "      <td>Major Cities of Australia</td>\n",
       "      <td>1.0</td>\n",
       "      <td>2020.1.29</td>\n",
       "    </tr>\n",
       "  </tbody>\n",
       "</table>\n",
       "</div>"
      ],
      "text/plain": [
       "   year  month  day    lat_mid     lon_mid    screen_name      tweet_id  \\\n",
       "0  2019     11   29 -34.921620  138.598244    G_Westgarth  1.200000e+18   \n",
       "1  2019     12   30 -34.928770  138.599702  adelparklands  1.210000e+18   \n",
       "2  2020      1   29 -34.925639  138.600768     timklapdor  1.220000e+18   \n",
       "\n",
       "   retweet                                     processed_text  \\\n",
       "0    False  <TWEET> \"Merry Crisis\", \"You cannot eat money\"...   \n",
       "1    False  <TWEET> #adelaideparklands #picoftheday \\nThe ...   \n",
       "2    False  <TWEET> Same academics who would have their su...   \n",
       "\n",
       "                     geometry     tweet_lga  lga_code_2020 lga_name_2020  \\\n",
       "0    c(138.598244, -34.92162)  Adelaide (C)        40070.0  Adelaide (C)   \n",
       "1    c(138.599702, -34.92877)  Adelaide (C)        40070.0  Adelaide (C)   \n",
       "2  c(138.6007685, -34.925639)  Adelaide (C)        40070.0  Adelaide (C)   \n",
       "\n",
       "   state_code_2016  state_name_2016                 remoteness  remote_level  \\\n",
       "0              4.0  South Australia  Major Cities of Australia           1.0   \n",
       "1              4.0  South Australia  Major Cities of Australia           1.0   \n",
       "2              4.0  South Australia  Major Cities of Australia           1.0   \n",
       "\n",
       "  year_month_day  \n",
       "0     2019.11.29  \n",
       "1     2019.12.30  \n",
       "2      2020.1.29  "
      ]
     },
     "execution_count": 4,
     "metadata": {},
     "output_type": "execute_result"
    }
   ],
   "source": [
    "builder.head()     # loads to memory only the first n rows."
   ]
  },
  {
   "cell_type": "code",
   "execution_count": 5,
   "metadata": {},
   "outputs": [],
   "source": [
    "builder.add_metas(['tweet_lga', 'screen_name'], dtypes='category')\n",
    "builder.add_metas('year_month_day', dtypes='datetime')  # this will keep meta id as 'year_month_day'\n",
    "builder.add_metas('remote_level')       # dtype is inferred by pandas.\n",
    "# note dtypes are pandas dtype, refer to their documentation."
   ]
  },
  {
   "cell_type": "code",
   "execution_count": 6,
   "metadata": {},
   "outputs": [],
   "source": [
    "import re\n",
    "pattern = re.compile(r'<[/]?TWEET>')\n",
    "builder.set_text_preprocessors([lambda t: pattern.sub('', t).strip()])\n",
    "builder.set_text_column('processed_text')\n",
    "\n",
    "corpus = builder.build()        # now corpus is in memory"
   ]
  },
  {
   "cell_type": "code",
   "execution_count": 7,
   "metadata": {},
   "outputs": [
    {
     "name": "stderr",
     "output_type": "stream",
     "text": [
      "\u001b[32m[INFO] Building document-term matrix. Please wait...\u001b[0m\n"
     ]
    },
    {
     "name": "stdout",
     "output_type": "stream",
     "text": [
      "Summary of corpus - incld. basic token level statistics\n"
     ]
    },
    {
     "name": "stderr",
     "output_type": "stream",
     "text": [
      "\u001b[32m[INFO] Done.\u001b[0m\n"
     ]
    },
    {
     "data": {
      "text/html": [
       "<div>\n",
       "<style scoped>\n",
       "    .dataframe tbody tr th:only-of-type {\n",
       "        vertical-align: middle;\n",
       "    }\n",
       "\n",
       "    .dataframe tbody tr th {\n",
       "        vertical-align: top;\n",
       "    }\n",
       "\n",
       "    .dataframe thead th {\n",
       "        text-align: right;\n",
       "    }\n",
       "</style>\n",
       "<table border=\"1\" class=\"dataframe\">\n",
       "  <thead>\n",
       "    <tr style=\"text-align: right;\">\n",
       "      <th></th>\n",
       "      <th>Corpus Type</th>\n",
       "      <th>Number of documents</th>\n",
       "      <th>Number of terms</th>\n",
       "      <th>Vocabulary size</th>\n",
       "      <th>Terms mean</th>\n",
       "      <th>Terms std</th>\n",
       "      <th>Terms min</th>\n",
       "      <th>Terms 25%</th>\n",
       "      <th>Terms 50%</th>\n",
       "      <th>Terms 75%</th>\n",
       "      <th>Terms max</th>\n",
       "      <th>metas</th>\n",
       "    </tr>\n",
       "  </thead>\n",
       "  <tbody>\n",
       "    <tr>\n",
       "      <th>0</th>\n",
       "      <td>Corpus</td>\n",
       "      <td>20000</td>\n",
       "      <td>486127</td>\n",
       "      <td>35943</td>\n",
       "      <td>24.30635</td>\n",
       "      <td>16.313522</td>\n",
       "      <td>0.0</td>\n",
       "      <td>11.0</td>\n",
       "      <td>22.0</td>\n",
       "      <td>37.0</td>\n",
       "      <td>111.0</td>\n",
       "      <td>tweet_lga, screen_name, year_month_day, remote...</td>\n",
       "    </tr>\n",
       "  </tbody>\n",
       "</table>\n",
       "</div>"
      ],
      "text/plain": [
       "  Corpus Type Number of documents Number of terms Vocabulary size Terms mean  \\\n",
       "0      Corpus               20000          486127           35943   24.30635   \n",
       "\n",
       "   Terms std Terms min Terms 25% Terms 50% Terms 75% Terms max  \\\n",
       "0  16.313522       0.0      11.0      22.0      37.0     111.0   \n",
       "\n",
       "                                               metas  \n",
       "0  tweet_lga, screen_name, year_month_day, remote...  "
      ]
     },
     "execution_count": 7,
     "metadata": {},
     "output_type": "execute_result"
    }
   ],
   "source": [
    "print(\"Summary of corpus - incld. basic token level statistics\")\n",
    "corpus.summary().to_frame().T"
   ]
  },
  {
   "cell_type": "code",
   "execution_count": 8,
   "metadata": {},
   "outputs": [
    {
     "name": "stdout",
     "output_type": "stream",
     "text": [
      "Summary of the meta data in the corpus.\n"
     ]
    },
    {
     "data": {
      "text/html": [
       "<div>\n",
       "<style scoped>\n",
       "    .dataframe tbody tr th:only-of-type {\n",
       "        vertical-align: middle;\n",
       "    }\n",
       "\n",
       "    .dataframe tbody tr th {\n",
       "        vertical-align: top;\n",
       "    }\n",
       "\n",
       "    .dataframe thead th {\n",
       "        text-align: right;\n",
       "    }\n",
       "</style>\n",
       "<table border=\"1\" class=\"dataframe\">\n",
       "  <thead>\n",
       "    <tr style=\"text-align: right;\">\n",
       "      <th></th>\n",
       "      <th>dtype</th>\n",
       "      <th>sample</th>\n",
       "      <th>mean</th>\n",
       "      <th>std</th>\n",
       "      <th>min</th>\n",
       "      <th>25%</th>\n",
       "      <th>50%</th>\n",
       "      <th>75%</th>\n",
       "      <th>max</th>\n",
       "      <th>top</th>\n",
       "      <th>top_freq</th>\n",
       "      <th>uniqs</th>\n",
       "      <th>num_uniqs</th>\n",
       "    </tr>\n",
       "  </thead>\n",
       "  <tbody>\n",
       "    <tr>\n",
       "      <th>tweet_lga</th>\n",
       "      <td>object</td>\n",
       "      <td>Adelaide (C)</td>\n",
       "      <td>NaN</td>\n",
       "      <td>NaN</td>\n",
       "      <td>NaN</td>\n",
       "      <td>NaN</td>\n",
       "      <td>NaN</td>\n",
       "      <td>NaN</td>\n",
       "      <td>NaN</td>\n",
       "      <td>NaN</td>\n",
       "      <td>NaN</td>\n",
       "      <td>NaN</td>\n",
       "      <td>NaN</td>\n",
       "    </tr>\n",
       "    <tr>\n",
       "      <th>screen_name</th>\n",
       "      <td>object</td>\n",
       "      <td>G_Westgarth</td>\n",
       "      <td>NaN</td>\n",
       "      <td>NaN</td>\n",
       "      <td>NaN</td>\n",
       "      <td>NaN</td>\n",
       "      <td>NaN</td>\n",
       "      <td>NaN</td>\n",
       "      <td>NaN</td>\n",
       "      <td>NaN</td>\n",
       "      <td>NaN</td>\n",
       "      <td>NaN</td>\n",
       "      <td>NaN</td>\n",
       "    </tr>\n",
       "    <tr>\n",
       "      <th>year_month_day</th>\n",
       "      <td>datetime64[ns]</td>\n",
       "      <td>2019-11-29 00:00:00</td>\n",
       "      <td>2020-07-16 05:05:25.439999744</td>\n",
       "      <td>255 days 23:34:42.676885548</td>\n",
       "      <td>2019-11-11 00:00:00</td>\n",
       "      <td>2020-01-02 00:00:00</td>\n",
       "      <td>2020-02-22 00:00:00</td>\n",
       "      <td>2021-01-03 00:00:00</td>\n",
       "      <td>2022-04-12 00:00:00</td>\n",
       "      <td>NaN</td>\n",
       "      <td>NaN</td>\n",
       "      <td>NaN</td>\n",
       "      <td>NaN</td>\n",
       "    </tr>\n",
       "    <tr>\n",
       "      <th>remote_level</th>\n",
       "      <td>float64</td>\n",
       "      <td>1.0</td>\n",
       "      <td>1.471865</td>\n",
       "      <td>0.734378</td>\n",
       "      <td>1.0</td>\n",
       "      <td>1.0</td>\n",
       "      <td>1.0</td>\n",
       "      <td>2.0</td>\n",
       "      <td>5.0</td>\n",
       "      <td>1.0</td>\n",
       "      <td>12691.0</td>\n",
       "      <td>[1.0, 3.0, 2.0, 5.0, 4.0, nan]</td>\n",
       "      <td>6.0</td>\n",
       "    </tr>\n",
       "  </tbody>\n",
       "</table>\n",
       "</div>"
      ],
      "text/plain": [
       "                         dtype               sample  \\\n",
       "tweet_lga               object         Adelaide (C)   \n",
       "screen_name             object          G_Westgarth   \n",
       "year_month_day  datetime64[ns]  2019-11-29 00:00:00   \n",
       "remote_level           float64                  1.0   \n",
       "\n",
       "                                         mean                          std  \\\n",
       "tweet_lga                                 NaN                          NaN   \n",
       "screen_name                               NaN                          NaN   \n",
       "year_month_day  2020-07-16 05:05:25.439999744  255 days 23:34:42.676885548   \n",
       "remote_level                         1.471865                     0.734378   \n",
       "\n",
       "                                min                  25%                  50%  \\\n",
       "tweet_lga                       NaN                  NaN                  NaN   \n",
       "screen_name                     NaN                  NaN                  NaN   \n",
       "year_month_day  2019-11-11 00:00:00  2020-01-02 00:00:00  2020-02-22 00:00:00   \n",
       "remote_level                    1.0                  1.0                  1.0   \n",
       "\n",
       "                                75%                  max  top  top_freq  \\\n",
       "tweet_lga                       NaN                  NaN  NaN       NaN   \n",
       "screen_name                     NaN                  NaN  NaN       NaN   \n",
       "year_month_day  2021-01-03 00:00:00  2022-04-12 00:00:00  NaN       NaN   \n",
       "remote_level                    2.0                  5.0  1.0   12691.0   \n",
       "\n",
       "                                         uniqs  num_uniqs  \n",
       "tweet_lga                                  NaN        NaN  \n",
       "screen_name                                NaN        NaN  \n",
       "year_month_day                             NaN        NaN  \n",
       "remote_level    [1.0, 3.0, 2.0, 5.0, 4.0, nan]        6.0  "
      ]
     },
     "execution_count": 8,
     "metadata": {},
     "output_type": "execute_result"
    }
   ],
   "source": [
    "print(\"Summary of the meta data in the corpus.\")\n",
    "corpus.meta.summary()"
   ]
  },
  {
   "cell_type": "code",
   "execution_count": 9,
   "metadata": {},
   "outputs": [
    {
     "data": {
      "text/html": [
       "<div>\n",
       "<style scoped>\n",
       "    .dataframe tbody tr th:only-of-type {\n",
       "        vertical-align: middle;\n",
       "    }\n",
       "\n",
       "    .dataframe tbody tr th {\n",
       "        vertical-align: top;\n",
       "    }\n",
       "\n",
       "    .dataframe thead th {\n",
       "        text-align: right;\n",
       "    }\n",
       "</style>\n",
       "<table border=\"1\" class=\"dataframe\">\n",
       "  <thead>\n",
       "    <tr style=\"text-align: right;\">\n",
       "      <th></th>\n",
       "      <th>count</th>\n",
       "      <th>mean</th>\n",
       "      <th>min</th>\n",
       "      <th>25%</th>\n",
       "      <th>50%</th>\n",
       "      <th>75%</th>\n",
       "      <th>max</th>\n",
       "    </tr>\n",
       "  </thead>\n",
       "  <tbody>\n",
       "    <tr>\n",
       "      <th>year_month_day</th>\n",
       "      <td>20000</td>\n",
       "      <td>2020-07-16 05:05:25.439999744</td>\n",
       "      <td>2019-11-11</td>\n",
       "      <td>2020-01-02</td>\n",
       "      <td>2020-02-22</td>\n",
       "      <td>2021-01-03</td>\n",
       "      <td>2022-04-12</td>\n",
       "    </tr>\n",
       "  </tbody>\n",
       "</table>\n",
       "</div>"
      ],
      "text/plain": [
       "                count                          mean        min        25%  \\\n",
       "year_month_day  20000 2020-07-16 05:05:25.439999744 2019-11-11 2020-01-02   \n",
       "\n",
       "                      50%        75%        max  \n",
       "year_month_day 2020-02-22 2021-01-03 2022-04-12  "
      ]
     },
     "execution_count": 9,
     "metadata": {},
     "output_type": "execute_result"
    }
   ],
   "source": [
    "# Accessing series of the metadata series directly.\n",
    "corpus.meta.get('year_month_day').series().describe(datetime_is_numeric=True).to_frame().T"
   ]
  },
  {
   "cell_type": "markdown",
   "metadata": {},
   "source": [
    "#### 2. Slicing the Corpus\n",
    "\n",
    "The preferred way to slice the corpus is to access the `.slicer` property in Corpus. This will allow you to chain multiple slicing operations together.\n",
    "\n",
    "Otherwise, you may wish to import `CorpusSlicer` and slice it that way. `.slicer` really just uses `CorpusSlicer` underneath the hood."
   ]
  },
  {
   "cell_type": "code",
   "execution_count": 10,
   "metadata": {},
   "outputs": [
    {
     "name": "stderr",
     "output_type": "stream",
     "text": [
      "\u001b[32m[INFO] Converted start datetime : 2020y 01m 01d 00:00:00\u001b[0m\n",
      "\u001b[32m[INFO] Converted end datetime   : 2021y 01m 01d 00:00:00\u001b[0m\n"
     ]
    }
   ],
   "source": [
    "twentytwenty: Corpus = corpus.slicer.filter_by_datetime('year_month_day', start='01-01-2020', end='01-01-2021', strftime=\"%d-%m-%y\")\n",
    "\n",
    "# from juxtorpus.corpus import CorpusSlicer\n",
    "# twentytwenty = CorpusSlicer(corpus).filter_by_datetime('year_month_day', start='01-01-2020', end='01-01-2021', strftime=\"%d-%m-%y\")"
   ]
  },
  {
   "cell_type": "code",
   "execution_count": 11,
   "metadata": {},
   "outputs": [
    {
     "data": {
      "text/html": [
       "<div>\n",
       "<style scoped>\n",
       "    .dataframe tbody tr th:only-of-type {\n",
       "        vertical-align: middle;\n",
       "    }\n",
       "\n",
       "    .dataframe tbody tr th {\n",
       "        vertical-align: top;\n",
       "    }\n",
       "\n",
       "    .dataframe thead th {\n",
       "        text-align: right;\n",
       "    }\n",
       "</style>\n",
       "<table border=\"1\" class=\"dataframe\">\n",
       "  <thead>\n",
       "    <tr style=\"text-align: right;\">\n",
       "      <th></th>\n",
       "      <th>Corpus Type</th>\n",
       "      <th>Number of documents</th>\n",
       "      <th>Number of terms</th>\n",
       "      <th>Vocabulary size</th>\n",
       "      <th>Terms mean</th>\n",
       "      <th>Terms std</th>\n",
       "      <th>Terms min</th>\n",
       "      <th>Terms 25%</th>\n",
       "      <th>Terms 50%</th>\n",
       "      <th>Terms 75%</th>\n",
       "      <th>Terms max</th>\n",
       "      <th>metas</th>\n",
       "    </tr>\n",
       "  </thead>\n",
       "  <tbody>\n",
       "    <tr>\n",
       "      <th>0</th>\n",
       "      <td>Corpus</td>\n",
       "      <td>10134</td>\n",
       "      <td>240010</td>\n",
       "      <td>23013</td>\n",
       "      <td>23.683639</td>\n",
       "      <td>15.843954</td>\n",
       "      <td>0.0</td>\n",
       "      <td>11.0</td>\n",
       "      <td>21.0</td>\n",
       "      <td>37.0</td>\n",
       "      <td>107.0</td>\n",
       "      <td>tweet_lga, screen_name, year_month_day, remote...</td>\n",
       "    </tr>\n",
       "  </tbody>\n",
       "</table>\n",
       "</div>"
      ],
      "text/plain": [
       "  Corpus Type Number of documents Number of terms Vocabulary size Terms mean  \\\n",
       "0      Corpus               10134          240010           23013  23.683639   \n",
       "\n",
       "   Terms std Terms min Terms 25% Terms 50% Terms 75% Terms max  \\\n",
       "0  15.843954       0.0      11.0      21.0      37.0     107.0   \n",
       "\n",
       "                                               metas  \n",
       "0  tweet_lga, screen_name, year_month_day, remote...  "
      ]
     },
     "execution_count": 11,
     "metadata": {},
     "output_type": "execute_result"
    }
   ],
   "source": [
    "# Let's look at the summary() again for this sliced corpus.\n",
    "twentytwenty.summary().to_frame().T"
   ]
  },
  {
   "cell_type": "code",
   "execution_count": 12,
   "metadata": {},
   "outputs": [
    {
     "name": "stdout",
     "output_type": "stream",
     "text": [
      "Adelaide (C)                  \t8    documents\n",
      "Adelaide Hills (DC)           \t8    documents\n",
      "Albany (C)                    \t16   documents\n",
      "Albury (C)                    \t48   documents\n",
      "Alexandrina (DC)              \t252  documents\n"
     ]
    },
    {
     "data": {
      "text/plain": [
       "Corpus Type                                                       Corpus\n",
       "Number of documents                                                  252\n",
       "Number of terms                                                     4630\n",
       "Vocabulary size                                                     1045\n",
       "Terms mean                                                     18.373016\n",
       "Terms std                                                      15.232976\n",
       "Terms min                                                            0.0\n",
       "Terms 25%                                                            5.0\n",
       "Terms 50%                                                           12.0\n",
       "Terms 75%                                                           31.0\n",
       "Terms max                                                           55.0\n",
       "metas                  tweet_lga, screen_name, year_month_day, remote...\n",
       "dtype: object"
      ]
     },
     "execution_count": 12,
     "metadata": {},
     "output_type": "execute_result"
    }
   ],
   "source": [
    "# Let's group by the tweet_lgas\n",
    "\n",
    "groups = list(twentytwenty.slicer.group_by('tweet_lga'))\n",
    "for gid, group in groups[:5]:\n",
    "    print(f\"{gid.ljust(30)}\\t{str(len(group)).ljust(4)} documents\")\n",
    "\n",
    "alexandrina = groups[4][1]\n",
    "alexandrina.summary()"
   ]
  },
  {
   "cell_type": "code",
   "execution_count": 13,
   "metadata": {},
   "outputs": [
    {
     "data": {
      "text/plain": [
       "array(['HeatherHalstead', 'SophiaMcGrane', 'SullJack48'], dtype=object)"
      ]
     },
     "execution_count": 13,
     "metadata": {},
     "output_type": "execute_result"
    }
   ],
   "source": [
    "# Let's see\n",
    "screen_names = alexandrina.meta.get('screen_name').series().unique()\n",
    "screen_names[:3]"
   ]
  },
  {
   "cell_type": "code",
   "execution_count": 14,
   "metadata": {},
   "outputs": [
    {
     "data": {
      "text/plain": [
       "\"Number of documents with a screen name that is HeatherHalstead' = 4\""
      ]
     },
     "execution_count": 14,
     "metadata": {},
     "output_type": "execute_result"
    }
   ],
   "source": [
    "# Let's filter for 'remote_level'\n",
    "num = len(alexandrina.slicer.filter_by_item('screen_name', screen_names[0]))\n",
    "f\"Number of documents with a screen name that is HeatherHalstead' = {num}\""
   ]
  },
  {
   "cell_type": "code",
   "execution_count": 15,
   "metadata": {},
   "outputs": [
    {
     "data": {
      "text/plain": [
       "\"Number of documents with a screen name that starts with 'H' or 'S' = 240\""
      ]
     },
     "execution_count": 15,
     "metadata": {},
     "output_type": "execute_result"
    }
   ],
   "source": [
    "# the most flexible slicing is via filter_by_condition\n",
    "import re\n",
    "num = len(alexandrina.slicer.filter_by_condition('screen_name', lambda name: re.match(r'^[HS].+', name) is not None))\n",
    "\n",
    "f\"Number of documents with a screen name that starts with 'H' or 'S' = {num}\""
   ]
  },
  {
   "cell_type": "markdown",
   "metadata": {},
   "source": [
    "#### 3. Document-Term Matrix DTM\n",
    "\n",
    "Every Corpus allows you to access its `.dtm`. The `DTM` object that it returns houses a sparse matrix and exposes numerous functions for you to do further downstream analysis. The matrix is built using sklearn's `CountVectorizer`.\n"
   ]
  },
  {
   "cell_type": "code",
   "execution_count": 16,
   "metadata": {},
   "outputs": [
    {
     "data": {
      "text/plain": [
       "(<DTM 252 docs X 35943 terms>,\n",
       " (252, 35943),\n",
       " <252x35943 sparse matrix of type '<class 'numpy.int64'>'\n",
       " \twith 4208 stored elements in Compressed Sparse Row format>)"
      ]
     },
     "execution_count": 16,
     "metadata": {},
     "output_type": "execute_result"
    }
   ],
   "source": [
    "alexandrina.dtm, alexandrina.dtm.shape, alexandrina.dtm.matrix"
   ]
  },
  {
   "cell_type": "code",
   "execution_count": 17,
   "metadata": {},
   "outputs": [
    {
     "data": {
      "text/plain": [
       "array(['10mins', '10mm_404', '10newsfirst', '10newsfirstmelb',\n",
       "       '10newsfirstqld'], dtype=object)"
      ]
     },
     "execution_count": 17,
     "metadata": {},
     "output_type": "execute_result"
    }
   ],
   "source": [
    "alexandrina.dtm.term_names[125:130]"
   ]
  },
  {
   "cell_type": "code",
   "execution_count": 18,
   "metadata": {},
   "outputs": [
    {
     "data": {
      "text/plain": [
       "(4630, 4630)"
      ]
     },
     "execution_count": 18,
     "metadata": {},
     "output_type": "execute_result"
    }
   ],
   "source": [
    "# Return a FreqTable of the dtm\n",
    "alexandrina.dtm.total, alexandrina.dtm.freq_table().total"
   ]
  },
  {
   "cell_type": "code",
   "execution_count": 19,
   "metadata": {},
   "outputs": [
    {
     "data": {
      "text/plain": [
       "((252, 35943), (252, 35943))"
      ]
     },
     "execution_count": 19,
     "metadata": {},
     "output_type": "execute_result"
    }
   ],
   "source": [
    "# Return a new DTM with TFIDF values\n",
    "tfidf = alexandrina.dtm.tfidf(use_idf=True, smooth_idf=True)   # pass in sklearn args\n",
    "\n",
    "assert id(alexandrina.dtm) != id(tfidf), \"TFIDF DTM is a new copy.\"\n",
    "alexandrina.dtm.shape, tfidf.shape"
   ]
  },
  {
   "cell_type": "markdown",
   "metadata": {},
   "source": [
    "# SpacyCorpus\n",
    "\n",
    "In NLP, we'll want to go a step further and perform tasks such as POS tagging, lemmatisation, entity extraction etc.\n",
    "\n",
    "We have decided to use spacy as our dependency for these tasks due to its extendability and is feature rich out of the box.\n",
    "\n",
    "Please note spacy's `Doc` objects are relatively expensive on the memory due to all the information that it stores. You can alleviate this by excluding components from spacy pipeline."
   ]
  },
  {
   "cell_type": "markdown",
   "metadata": {},
   "source": [
    "#### 3. Building a SpacyCorpus\n",
    "\n",
    "The preferred way to process a Corpus into SpacyCorpus is by using the `process()` function.\n",
    "This is a factory method that chooses whichever processor is appropriate given the keyword arguments kwargs. (Although we currently only support spacy)\n",
    "\n",
    "NOTE: Please `detached()` a subcorpus first before processing with spacy due to index misalignment issues. This will be fixed in a later release."
   ]
  },
  {
   "cell_type": "code",
   "execution_count": 20,
   "metadata": {},
   "outputs": [],
   "source": [
    "alexandrina = alexandrina.detached()\n",
    "\n",
    "# NOTE: this is a workaround - issues:\n",
    "# DTM is rebuilt after processing, therefore the indexing is misaligned.\n",
    "# detached() will make corpus a root corpus and process starts as new."
   ]
  },
  {
   "cell_type": "code",
   "execution_count": 21,
   "metadata": {},
   "outputs": [
    {
     "name": "stderr",
     "output_type": "stream",
     "text": [
      "\u001b[32m[INFO] Processing corpus of 252 documents...\u001b[0m\n",
      "\u001b[32m[INFO] Done.\u001b[0m\n"
     ]
    }
   ],
   "source": [
    "import spacy\n",
    "from juxtorpus.corpus.processors import process\n",
    "\n",
    "nlp = spacy.load('en_core_web_sm', exclude=['ner'])\n",
    "scorpus = process(alexandrina, nlp=nlp)"
   ]
  },
  {
   "cell_type": "code",
   "execution_count": 22,
   "metadata": {},
   "outputs": [
    {
     "name": "stderr",
     "output_type": "stream",
     "text": [
      "\u001b[32m[INFO] Building document-term matrix. Please wait...\u001b[0m\n",
      "\u001b[32m[INFO] Done.\u001b[0m\n"
     ]
    },
    {
     "data": {
      "text/html": [
       "<div>\n",
       "<style scoped>\n",
       "    .dataframe tbody tr th:only-of-type {\n",
       "        vertical-align: middle;\n",
       "    }\n",
       "\n",
       "    .dataframe tbody tr th {\n",
       "        vertical-align: top;\n",
       "    }\n",
       "\n",
       "    .dataframe thead th {\n",
       "        text-align: right;\n",
       "    }\n",
       "</style>\n",
       "<table border=\"1\" class=\"dataframe\">\n",
       "  <thead>\n",
       "    <tr style=\"text-align: right;\">\n",
       "      <th></th>\n",
       "      <th>0</th>\n",
       "    </tr>\n",
       "  </thead>\n",
       "  <tbody>\n",
       "    <tr>\n",
       "      <th>lang</th>\n",
       "      <td>en</td>\n",
       "    </tr>\n",
       "    <tr>\n",
       "      <th>model</th>\n",
       "      <td>core_web_sm</td>\n",
       "    </tr>\n",
       "    <tr>\n",
       "      <th>pipeline</th>\n",
       "      <td>tok2vec, tagger, parser, attribute_ruler, lemm...</td>\n",
       "    </tr>\n",
       "  </tbody>\n",
       "</table>\n",
       "</div>"
      ],
      "text/plain": [
       "                                                          0\n",
       "lang                                                     en\n",
       "model                                           core_web_sm\n",
       "pipeline  tok2vec, tagger, parser, attribute_ruler, lemm..."
      ]
     },
     "execution_count": 22,
     "metadata": {},
     "output_type": "execute_result"
    }
   ],
   "source": [
    "summary, spacy_info = scorpus.summary(spacy=True)\n",
    "spacy_info"
   ]
  },
  {
   "cell_type": "markdown",
   "metadata": {},
   "source": [
    "You will notice some subtle differences in the statistics of the original Corpus v.s. SpacyCorpus.\n",
    "This is due to the difference in tokenisations methods used. SpacyCorpus uses spacy's tokenisation method. This is to be expected."
   ]
  },
  {
   "cell_type": "code",
   "execution_count": 23,
   "metadata": {},
   "outputs": [
    {
     "name": "stderr",
     "output_type": "stream",
     "text": [
      "\u001b[32m[INFO] Building document-term matrix. Please wait...\u001b[0m\n",
      "\u001b[32m[INFO] Done.\u001b[0m\n"
     ]
    },
    {
     "data": {
      "text/html": [
       "<div>\n",
       "<style scoped>\n",
       "    .dataframe tbody tr th:only-of-type {\n",
       "        vertical-align: middle;\n",
       "    }\n",
       "\n",
       "    .dataframe tbody tr th {\n",
       "        vertical-align: top;\n",
       "    }\n",
       "\n",
       "    .dataframe thead th {\n",
       "        text-align: right;\n",
       "    }\n",
       "</style>\n",
       "<table border=\"1\" class=\"dataframe\">\n",
       "  <thead>\n",
       "    <tr style=\"text-align: right;\">\n",
       "      <th></th>\n",
       "      <th>0</th>\n",
       "      <th>1</th>\n",
       "    </tr>\n",
       "  </thead>\n",
       "  <tbody>\n",
       "    <tr>\n",
       "      <th>Corpus Type</th>\n",
       "      <td>Corpus</td>\n",
       "      <td>SpacyCorpus</td>\n",
       "    </tr>\n",
       "    <tr>\n",
       "      <th>Number of documents</th>\n",
       "      <td>252</td>\n",
       "      <td>252</td>\n",
       "    </tr>\n",
       "    <tr>\n",
       "      <th>Number of terms</th>\n",
       "      <td>4630</td>\n",
       "      <td>4352</td>\n",
       "    </tr>\n",
       "    <tr>\n",
       "      <th>Vocabulary size</th>\n",
       "      <td>1045</td>\n",
       "      <td>957</td>\n",
       "    </tr>\n",
       "    <tr>\n",
       "      <th>Terms mean</th>\n",
       "      <td>18.373016</td>\n",
       "      <td>17.269841</td>\n",
       "    </tr>\n",
       "    <tr>\n",
       "      <th>Terms std</th>\n",
       "      <td>15.232976</td>\n",
       "      <td>14.599248</td>\n",
       "    </tr>\n",
       "    <tr>\n",
       "      <th>Terms min</th>\n",
       "      <td>0.0</td>\n",
       "      <td>0.0</td>\n",
       "    </tr>\n",
       "    <tr>\n",
       "      <th>Terms 25%</th>\n",
       "      <td>5.0</td>\n",
       "      <td>5.0</td>\n",
       "    </tr>\n",
       "    <tr>\n",
       "      <th>Terms 50%</th>\n",
       "      <td>12.0</td>\n",
       "      <td>11.0</td>\n",
       "    </tr>\n",
       "    <tr>\n",
       "      <th>Terms 75%</th>\n",
       "      <td>31.0</td>\n",
       "      <td>29.0</td>\n",
       "    </tr>\n",
       "    <tr>\n",
       "      <th>Terms max</th>\n",
       "      <td>55.0</td>\n",
       "      <td>52.0</td>\n",
       "    </tr>\n",
       "    <tr>\n",
       "      <th>metas</th>\n",
       "      <td>tweet_lga, screen_name, year_month_day, remote...</td>\n",
       "      <td>tweet_lga, screen_name, year_month_day, remote...</td>\n",
       "    </tr>\n",
       "  </tbody>\n",
       "</table>\n",
       "</div>"
      ],
      "text/plain": [
       "                                                                     0  \\\n",
       "Corpus Type                                                     Corpus   \n",
       "Number of documents                                                252   \n",
       "Number of terms                                                   4630   \n",
       "Vocabulary size                                                   1045   \n",
       "Terms mean                                                   18.373016   \n",
       "Terms std                                                    15.232976   \n",
       "Terms min                                                          0.0   \n",
       "Terms 25%                                                          5.0   \n",
       "Terms 50%                                                         12.0   \n",
       "Terms 75%                                                         31.0   \n",
       "Terms max                                                         55.0   \n",
       "metas                tweet_lga, screen_name, year_month_day, remote...   \n",
       "\n",
       "                                                                     1  \n",
       "Corpus Type                                                SpacyCorpus  \n",
       "Number of documents                                                252  \n",
       "Number of terms                                                   4352  \n",
       "Vocabulary size                                                    957  \n",
       "Terms mean                                                   17.269841  \n",
       "Terms std                                                    14.599248  \n",
       "Terms min                                                          0.0  \n",
       "Terms 25%                                                          5.0  \n",
       "Terms 50%                                                         11.0  \n",
       "Terms 75%                                                         29.0  \n",
       "Terms max                                                         52.0  \n",
       "metas                tweet_lga, screen_name, year_month_day, remote...  "
      ]
     },
     "execution_count": 23,
     "metadata": {},
     "output_type": "execute_result"
    }
   ],
   "source": [
    "import pandas as pd\n",
    "pd.concat([alexandrina.summary(), summary], axis=1)"
   ]
  },
  {
   "cell_type": "markdown",
   "metadata": {},
   "source": [
    "#### 4. Slicing a SpacyCorpus\n",
    "\n",
    "Slicing a spacy corpus is just like slicing a Corpus. However, you may also choose to use [spacy's Matchers](https://spacy.io/usage/rule-based-matching).\n"
   ]
  },
  {
   "cell_type": "code",
   "execution_count": 24,
   "metadata": {},
   "outputs": [
    {
     "data": {
      "text/plain": [
       "('HeatherHalstead', array(['HeatherHalstead'], dtype=object))"
      ]
     },
     "execution_count": 24,
     "metadata": {},
     "output_type": "execute_result"
    }
   ],
   "source": [
    "# demo: previous filter_by_item\n",
    "sliced = scorpus.slicer.filter_by_item('screen_name', screen_names[0])\n",
    "screen_names[0], sliced.meta.get('screen_name').series().unique()"
   ]
  },
  {
   "cell_type": "code",
   "execution_count": 25,
   "metadata": {},
   "outputs": [],
   "source": [
    "# demo: new filter_by_matcher\n",
    "from juxtorpus.matchers import hashtags\n",
    "matcher = hashtags(scorpus.nlp.vocab)            # predefined matcher\n",
    "ht = scorpus.slicer.filter_by_matcher(matcher)"
   ]
  },
  {
   "cell_type": "code",
   "execution_count": 26,
   "metadata": {},
   "outputs": [
    {
     "data": {
      "text/plain": [
       "Corpus Type                                                  SpacyCorpus\n",
       "Number of documents                                                   10\n",
       "Number of terms                                                      267\n",
       "Vocabulary size                                                      169\n",
       "Terms mean                                                          26.7\n",
       "Terms std                                                      13.106826\n",
       "Terms min                                                            1.0\n",
       "Terms 25%                                                          24.75\n",
       "Terms 50%                                                           28.0\n",
       "Terms 75%                                                           31.0\n",
       "Terms max                                                           44.0\n",
       "metas                  tweet_lga, screen_name, year_month_day, remote...\n",
       "dtype: object"
      ]
     },
     "execution_count": 26,
     "metadata": {},
     "output_type": "execute_result"
    }
   ],
   "source": [
    "ht.summary()"
   ]
  },
  {
   "cell_type": "code",
   "execution_count": 27,
   "metadata": {},
   "outputs": [
    {
     "name": "stdout",
     "output_type": "stream",
     "text": [
      "These are all the documents containing at least one hashtag.\n",
      "====================================================================================================\n",
      "----------------------------------------------------------------------------------------------------\n",
      "as soon as the questions from the media pack turned to action on the climate emergency, Morrison abruptly ends questions and walks off #fuckwit\n",
      "----------------------------------------------------------------------------------------------------\n",
      "Calling out all Liberal Staffers- if you think the PMs latest presser is a success please realise it's a fail. Arsonists National Parks Jenny Not addressing Climate Change Smirking- Big Fail #ScoMoResign #ScottMorrison #AustraliaBushfires\n",
      "----------------------------------------------------------------------------------------------------\n",
      "there is no point in relying just on 'adaptation' ffs..\n",
      "there is a limit to how much 'adaptation' there can be to the rapidly escalating human caused climate change emergency we are experiencing right now! adaptation on its own WILL NOT SAVE US  #qanda\n",
      "----------------------------------------------------------------------------------------------------\n",
      "#insiders\n",
      "----------------------------------------------------------------------------------------------------\n",
      "Climate change will cost more lives and money than #COVID19 if we don't take radical action. Not meeting climate targets could cost us trillions <https://t.co/dYYspiLYmF> #science via @CosmosMagazine #ClimateEmergency #RenewableEnergy\n",
      "----------------------------------------------------------------------------------------------------\n",
      "and very disappointing that #qanda have bought into this false dichotomy\n",
      "----------------------------------------------------------------------------------------------------\n",
      "Emissions dropped by 17% during the #pandemic - but it means nothing if we don't make changes moving forward. How a pandemic created a cleaner planet <https://t.co/IqD31qQxfg> #science via @CosmosMagazine @clequere #ClimateAction #emissions\n",
      "----------------------------------------------------------------------------------------------------\n",
      "so just so all youse #abc730 viewers know..\n",
      "Michael Penguilly is a climate change denier of the likes of Craig Kelly.. also.. Penguilly is a vile misogynist.. just google\n",
      "----------------------------------------------------------------------------------------------------\n",
      "seriously @abc730.. did you even bother to speak to anyone with differing views other than that bunch of climate change deniers you gave an exclusive platform to?\n",
      "#ThisIsNotJournalism #abc730 #kangarooisland\n",
      "----------------------------------------------------------------------------------------------------\n",
      "@deniseshrivell I'm crying Denise..\n",
      "👉🏼Today is The Day Democracy Wins For Everyone\n",
      "👉🏼Today is The Day The World Gets Back to Work on Tackling the Catastrophic Climate Change Emergency\n",
      "👉🏼Today is The Day the Whole World Wins\n",
      "\n",
      "and I could not be happier in this moment in time..\n",
      "#BidenHarris2020\n"
     ]
    }
   ],
   "source": [
    "print(\"These are all the documents containing at least one hashtag.\")\n",
    "print(\"=\"*100)\n",
    "for doc in ht:\n",
    "    print(\"-\"*100)\n",
    "    print(doc)"
   ]
  },
  {
   "cell_type": "code",
   "execution_count": 28,
   "metadata": {},
   "outputs": [
    {
     "data": {
      "text/plain": [
       "array(['HeatherHalstead', 'SophiaMcGrane', 'SullJack48', 'cidec35',\n",
       "       'Tigersroar44', 'alexczarn', 'clintondkaus', 'NatalieParletta',\n",
       "       'sbmcdonnell'], dtype=object)"
      ]
     },
     "execution_count": 28,
     "metadata": {},
     "output_type": "execute_result"
    }
   ],
   "source": [
    "scorpus.meta.summary().uniqs.screen_name"
   ]
  },
  {
   "cell_type": "code",
   "execution_count": 29,
   "metadata": {},
   "outputs": [
    {
     "name": "stdout",
     "output_type": "stream",
     "text": [
      "HeatherHalstead               \t4    documents\n",
      "NatalieParletta               \t2    documents\n",
      "SophiaMcGrane                 \t38   documents\n",
      "SullJack48                    \t198  documents\n",
      "Tigersroar44                  \t3    documents\n"
     ]
    }
   ],
   "source": [
    "groups = list(scorpus.slicer.group_by('screen_name'))\n",
    "for gid, group in groups[:5]:\n",
    "    print(f\"{gid.ljust(30)}\\t{str(len(group)).ljust(4)} documents\")"
   ]
  },
  {
   "cell_type": "markdown",
   "metadata": {},
   "source": [
    "# Bit of Jux"
   ]
  },
  {
   "cell_type": "code",
   "execution_count": 30,
   "metadata": {},
   "outputs": [],
   "source": [
    "from juxtorpus import Jux\n",
    "\n",
    "jux = Jux(scorpus.slicer.filter_by_item('screen_name', 'SullJack48'), scorpus.slicer.filter_by_item('screen_name', 'SophiaMcGrane'))"
   ]
  },
  {
   "cell_type": "code",
   "execution_count": 31,
   "metadata": {},
   "outputs": [
    {
     "data": {
      "text/html": [
       "<div>\n",
       "<style scoped>\n",
       "    .dataframe tbody tr th:only-of-type {\n",
       "        vertical-align: middle;\n",
       "    }\n",
       "\n",
       "    .dataframe tbody tr th {\n",
       "        vertical-align: top;\n",
       "    }\n",
       "\n",
       "    .dataframe thead th {\n",
       "        text-align: right;\n",
       "    }\n",
       "</style>\n",
       "<table border=\"1\" class=\"dataframe\">\n",
       "  <thead>\n",
       "    <tr style=\"text-align: right;\">\n",
       "      <th></th>\n",
       "      <th>corpus_0</th>\n",
       "      <th>corpus_1</th>\n",
       "    </tr>\n",
       "  </thead>\n",
       "  <tbody>\n",
       "    <tr>\n",
       "      <th>Corpus Type</th>\n",
       "      <td>SpacyCorpus</td>\n",
       "      <td>SpacyCorpus</td>\n",
       "    </tr>\n",
       "    <tr>\n",
       "      <th>Number of documents</th>\n",
       "      <td>198</td>\n",
       "      <td>38</td>\n",
       "    </tr>\n",
       "    <tr>\n",
       "      <th>Number of terms</th>\n",
       "      <td>3092</td>\n",
       "      <td>782</td>\n",
       "    </tr>\n",
       "    <tr>\n",
       "      <th>Vocabulary size</th>\n",
       "      <td>543</td>\n",
       "      <td>397</td>\n",
       "    </tr>\n",
       "    <tr>\n",
       "      <th>Terms mean</th>\n",
       "      <td>15.616162</td>\n",
       "      <td>20.578947</td>\n",
       "    </tr>\n",
       "    <tr>\n",
       "      <th>Terms std</th>\n",
       "      <td>13.864615</td>\n",
       "      <td>15.163312</td>\n",
       "    </tr>\n",
       "    <tr>\n",
       "      <th>Terms min</th>\n",
       "      <td>1.0</td>\n",
       "      <td>1.0</td>\n",
       "    </tr>\n",
       "    <tr>\n",
       "      <th>Terms 25%</th>\n",
       "      <td>4.25</td>\n",
       "      <td>8.5</td>\n",
       "    </tr>\n",
       "    <tr>\n",
       "      <th>Terms 50%</th>\n",
       "      <td>10.0</td>\n",
       "      <td>14.5</td>\n",
       "    </tr>\n",
       "    <tr>\n",
       "      <th>Terms 75%</th>\n",
       "      <td>27.0</td>\n",
       "      <td>33.5</td>\n",
       "    </tr>\n",
       "    <tr>\n",
       "      <th>Terms max</th>\n",
       "      <td>45.0</td>\n",
       "      <td>50.0</td>\n",
       "    </tr>\n",
       "    <tr>\n",
       "      <th>metas</th>\n",
       "      <td>tweet_lga, screen_name, year_month_day, remote...</td>\n",
       "      <td>tweet_lga, screen_name, year_month_day, remote...</td>\n",
       "    </tr>\n",
       "  </tbody>\n",
       "</table>\n",
       "</div>"
      ],
      "text/plain": [
       "                                                              corpus_0  \\\n",
       "Corpus Type                                                SpacyCorpus   \n",
       "Number of documents                                                198   \n",
       "Number of terms                                                   3092   \n",
       "Vocabulary size                                                    543   \n",
       "Terms mean                                                   15.616162   \n",
       "Terms std                                                    13.864615   \n",
       "Terms min                                                          1.0   \n",
       "Terms 25%                                                         4.25   \n",
       "Terms 50%                                                         10.0   \n",
       "Terms 75%                                                         27.0   \n",
       "Terms max                                                         45.0   \n",
       "metas                tweet_lga, screen_name, year_month_day, remote...   \n",
       "\n",
       "                                                              corpus_1  \n",
       "Corpus Type                                                SpacyCorpus  \n",
       "Number of documents                                                 38  \n",
       "Number of terms                                                    782  \n",
       "Vocabulary size                                                    397  \n",
       "Terms mean                                                   20.578947  \n",
       "Terms std                                                    15.163312  \n",
       "Terms min                                                          1.0  \n",
       "Terms 25%                                                          8.5  \n",
       "Terms 50%                                                         14.5  \n",
       "Terms 75%                                                         33.5  \n",
       "Terms max                                                         50.0  \n",
       "metas                tweet_lga, screen_name, year_month_day, remote...  "
      ]
     },
     "execution_count": 31,
     "metadata": {},
     "output_type": "execute_result"
    }
   ],
   "source": [
    "jux.summary()"
   ]
  },
  {
   "cell_type": "code",
   "execution_count": 32,
   "metadata": {},
   "outputs": [
    {
     "data": {
      "text/plain": [
       "{'corpus_0': 67.56610962379995, 'corpus_1': 59.59301357680207}"
      ]
     },
     "execution_count": 32,
     "metadata": {},
     "output_type": "execute_result"
    }
   ],
   "source": [
    "jux.lexical_diversity()"
   ]
  },
  {
   "cell_type": "code",
   "execution_count": 33,
   "metadata": {},
   "outputs": [
    {
     "data": {
      "text/plain": [
       "0.14774114774114774"
      ]
     },
     "execution_count": 33,
     "metadata": {},
     "output_type": "execute_result"
    }
   ],
   "source": [
    "jux.sim.jaccard()"
   ]
  },
  {
   "cell_type": "code",
   "execution_count": 34,
   "metadata": {},
   "outputs": [
    {
     "data": {
      "text/plain": [
       "0.5560542070632444"
      ]
     },
     "execution_count": 34,
     "metadata": {},
     "output_type": "execute_result"
    }
   ],
   "source": [
    "jux.sim.cosine_similarity('tf')"
   ]
  },
  {
   "cell_type": "code",
   "execution_count": 35,
   "metadata": {},
   "outputs": [
    {
     "data": {
      "text/plain": [
       "0.49034617171604333"
      ]
     },
     "execution_count": 35,
     "metadata": {},
     "output_type": "execute_result"
    }
   ],
   "source": [
    "jux.sim.cosine_similarity('tfidf')"
   ]
  },
  {
   "cell_type": "code",
   "execution_count": 36,
   "metadata": {},
   "outputs": [
    {
     "data": {
      "text/plain": [
       "0.5546529783869523"
      ]
     },
     "execution_count": 36,
     "metadata": {},
     "output_type": "execute_result"
    }
   ],
   "source": [
    "jux.sim.cosine_similarity('log_likelihood')"
   ]
  },
  {
   "cell_type": "code",
   "execution_count": 37,
   "metadata": {
    "scrolled": true
   },
   "outputs": [
    {
     "data": {
      "text/html": [
       "<div>\n",
       "<style scoped>\n",
       "    .dataframe tbody tr th:only-of-type {\n",
       "        vertical-align: middle;\n",
       "    }\n",
       "\n",
       "    .dataframe tbody tr th {\n",
       "        vertical-align: top;\n",
       "    }\n",
       "\n",
       "    .dataframe thead th {\n",
       "        text-align: right;\n",
       "    }\n",
       "</style>\n",
       "<table border=\"1\" class=\"dataframe\">\n",
       "  <thead>\n",
       "    <tr style=\"text-align: right;\">\n",
       "      <th></th>\n",
       "      <th>log_likelihood_llv</th>\n",
       "      <th>bayes_factor_bic</th>\n",
       "      <th>effect_size_ell</th>\n",
       "    </tr>\n",
       "  </thead>\n",
       "  <tbody>\n",
       "    <tr>\n",
       "      <th>a</th>\n",
       "      <td>14.938348</td>\n",
       "      <td>6.676305</td>\n",
       "      <td>0.002002</td>\n",
       "    </tr>\n",
       "    <tr>\n",
       "      <th>able</th>\n",
       "      <td>0.450939</td>\n",
       "      <td>-7.811104</td>\n",
       "      <td>-0.000073</td>\n",
       "    </tr>\n",
       "    <tr>\n",
       "      <th>about</th>\n",
       "      <td>0.000107</td>\n",
       "      <td>-8.261935</td>\n",
       "      <td>0.000003</td>\n",
       "    </tr>\n",
       "    <tr>\n",
       "      <th>above</th>\n",
       "      <td>0.450939</td>\n",
       "      <td>-7.811104</td>\n",
       "      <td>-0.000073</td>\n",
       "    </tr>\n",
       "    <tr>\n",
       "      <th>according</th>\n",
       "      <td>1.352817</td>\n",
       "      <td>-6.909226</td>\n",
       "      <td>-0.000696</td>\n",
       "    </tr>\n",
       "    <tr>\n",
       "      <th>...</th>\n",
       "      <td>...</td>\n",
       "      <td>...</td>\n",
       "      <td>...</td>\n",
       "    </tr>\n",
       "    <tr>\n",
       "      <th>yeah</th>\n",
       "      <td>6.400752</td>\n",
       "      <td>-1.861290</td>\n",
       "      <td>-0.001822</td>\n",
       "    </tr>\n",
       "    <tr>\n",
       "      <th>yep</th>\n",
       "      <td>3.200376</td>\n",
       "      <td>-5.061667</td>\n",
       "      <td>-0.000516</td>\n",
       "    </tr>\n",
       "    <tr>\n",
       "      <th>young</th>\n",
       "      <td>3.200376</td>\n",
       "      <td>-5.061667</td>\n",
       "      <td>-0.000516</td>\n",
       "    </tr>\n",
       "    <tr>\n",
       "      <th>yourself</th>\n",
       "      <td>3.200376</td>\n",
       "      <td>-5.061667</td>\n",
       "      <td>-0.000516</td>\n",
       "    </tr>\n",
       "    <tr>\n",
       "      <th>youse</th>\n",
       "      <td>3.200376</td>\n",
       "      <td>-5.061667</td>\n",
       "      <td>-0.000516</td>\n",
       "    </tr>\n",
       "  </tbody>\n",
       "</table>\n",
       "<p>819 rows × 3 columns</p>\n",
       "</div>"
      ],
      "text/plain": [
       "           log_likelihood_llv  bayes_factor_bic  effect_size_ell\n",
       "a                   14.938348          6.676305         0.002002\n",
       "able                 0.450939         -7.811104        -0.000073\n",
       "about                0.000107         -8.261935         0.000003\n",
       "above                0.450939         -7.811104        -0.000073\n",
       "according            1.352817         -6.909226        -0.000696\n",
       "...                       ...               ...              ...\n",
       "yeah                 6.400752         -1.861290        -0.001822\n",
       "yep                  3.200376         -5.061667        -0.000516\n",
       "young                3.200376         -5.061667        -0.000516\n",
       "yourself             3.200376         -5.061667        -0.000516\n",
       "youse                3.200376         -5.061667        -0.000516\n",
       "\n",
       "[819 rows x 3 columns]"
      ]
     },
     "execution_count": 37,
     "metadata": {},
     "output_type": "execute_result"
    }
   ],
   "source": [
    "jux.stats.log_likelihood_and_effect_size()"
   ]
  },
  {
   "cell_type": "code",
   "execution_count": 44,
   "metadata": {},
   "outputs": [],
   "source": [
    "from nltk.corpus import stopwords\n",
    "\n",
    "sw = stopwords.words('english')"
   ]
  },
  {
   "cell_type": "code",
   "execution_count": 47,
   "metadata": {},
   "outputs": [
    {
     "data": {
      "image/png": "[encoded data removed]",
      "text/plain": [
       "<Figure size 1152x1152 with 1 Axes>"
      ]
     },
     "metadata": {
      "needs_background": "light"
     },
     "output_type": "display_data"
    }
   ],
   "source": [
    "from juxtorpus.viz.polarity_wordcloud import PolarityWordCloud\n",
    "df = jux.polarity.log_likelihood()\n",
    "# tfidf_df = jux.polarity.tfidf()\n",
    "# df['size'] = tfidf_df.polarity.abs()\n",
    "tf_df = jux.polarity.tf()\n",
    "df['size'] = tf_df.freq_corpus_0 + tf_df.freq_corpus_1\n",
    "df = df[~df.index.isin(sw)]\n",
    "df_tmp = df.sort_values(by='size', ascending=False).iloc[:30]\n",
    "pwc = PolarityWordCloud(df_tmp, col_polarity='polarity', col_size='size')\n",
    "pwc.gradate('blue', 'red').render(16, 16)    # blue is SullJack, Red is SophiaMcGrane"
   ]
  },
  {
   "cell_type": "code",
   "execution_count": null,
   "metadata": {},
   "outputs": [],
   "source": []
  }
 ],
 "metadata": {
  "kernelspec": {
   "display_name": "Python 3 (ipykernel)",
   "language": "python",
   "name": "python3"
  },
  "language_info": {
   "codemirror_mode": {
    "name": "ipython",
    "version": 3
   },
   "file_extension": ".py",
   "mimetype": "text/x-python",
   "name": "python",
   "nbconvert_exporter": "python",
   "pygments_lexer": "ipython3",
   "version": "3.9.16"
  }
 },
 "nbformat": 4,
 "nbformat_minor": 1
}
