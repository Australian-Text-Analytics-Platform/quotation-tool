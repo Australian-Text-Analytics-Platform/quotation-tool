{
 "cells": [
  {
   "cell_type": "code",
   "execution_count": 1,
   "id": "92a5fe4c",
   "metadata": {},
   "outputs": [
    {
     "data": {
      "text/plain": [
       "'Working directory: /Users/sjuf9909/Documents/GitHub/juxtorpus'"
      ]
     },
     "execution_count": 1,
     "metadata": {},
     "output_type": "execute_result"
    }
   ],
   "source": [
    "import os\n",
    "if not 'juxtorpus' in os.listdir():\n",
    "    os.chdir('../../')\n",
    "assert 'juxtorpus' in os.listdir(), f\"Working directory should be at juxtorpus. But at {os.getcwd()}\"\n",
    "f\"Working directory: {os.getcwd()}\""
   ]
  },
  {
   "cell_type": "code",
   "execution_count": 2,
   "id": "b08eaf8f",
   "metadata": {},
   "outputs": [
    {
     "data": {
      "application/vnd.jupyter.widget-view+json": {
       "model_id": "b09cbb0700a74ad7813ad2dec962b55a",
       "version_major": 2,
       "version_minor": 0
      },
      "text/plain": [
       "VBox(children=(HBox(children=(VBox(children=(SelectMultiple(layout=Layout(height='100%', width='98%'), options…"
      ]
     },
     "metadata": {},
     "output_type": "display_data"
    }
   ],
   "source": [
    "from juxtorpus.corpus.app import App\n",
    "\n",
    "app = App()\n",
    "app.corpus_builder()"
   ]
  },
  {
   "cell_type": "code",
   "execution_count": 4,
   "id": "68df63d3",
   "metadata": {},
   "outputs": [
    {
     "data": {
      "application/vnd.jupyter.widget-view+json": {
       "model_id": "c1fafdcb2fa9445395d0cb47ab113769",
       "version_major": 2,
       "version_minor": 0
      },
      "text/plain": [
       "GridBox(children=(VBox(children=(HBox(children=(Label(value='Corpus ID', layout=Layout(display='flex', justify…"
      ]
     },
     "metadata": {},
     "output_type": "display_data"
    }
   ],
   "source": [
    "app.corpus_registry()"
   ]
  },
  {
   "cell_type": "code",
   "execution_count": 8,
   "id": "4b506690",
   "metadata": {},
   "outputs": [
    {
     "data": {
      "text/plain": [
       "729431"
      ]
     },
     "execution_count": 8,
     "metadata": {},
     "output_type": "execute_result"
    }
   ],
   "source": [
    "corpus = app.REGISTRY.get('q04')\n",
    "len(corpus)"
   ]
  },
  {
   "cell_type": "code",
   "execution_count": 10,
   "id": "ca176d44",
   "metadata": {},
   "outputs": [
    {
     "data": {
      "text/plain": [
       "10"
      ]
     },
     "execution_count": 10,
     "metadata": {},
     "output_type": "execute_result"
    }
   ],
   "source": [
    "len(corpus[:10])"
   ]
  },
  {
   "cell_type": "code",
   "execution_count": 11,
   "id": "a806dd42",
   "metadata": {},
   "outputs": [
    {
     "name": "stderr",
     "output_type": "stream",
     "text": [
      "\u001b[32m[INFO] Processing corpus of 50 documents...\u001b[0m\n",
      "\u001b[32m[INFO] Done.\u001b[0m\n"
     ]
    },
    {
     "data": {
      "text/plain": [
       "<juxtorpus.corpus.corpus.SpacyCorpus at 0x2c8df5430>"
      ]
     },
     "execution_count": 11,
     "metadata": {},
     "output_type": "execute_result"
    }
   ],
   "source": [
    "from juxtorpus.corpus.processors import process\n",
    "import spacy\n",
    "\n",
    "nlp = spacy.load('en_core_web_sm')\n",
    "spacy_corpus = process(corpus[:50], nlp=nlp)\n",
    "spacy_corpus"
   ]
  },
  {
   "cell_type": "code",
   "execution_count": 15,
   "id": "2790e200",
   "metadata": {},
   "outputs": [
    {
     "data": {
      "text/plain": [
       "(<TWEET> Taking ambitious action on climate change could be the key to economic recovery as we all grapple with Covid-19 #auspol #springst <https://t.co/xTTYit1bLP> </TWEET>,\n",
       " spacy.tokens.doc.Doc)"
      ]
     },
     "execution_count": 15,
     "metadata": {},
     "output_type": "execute_result"
    }
   ],
   "source": [
    "spacy_corpus.docs().iloc[0], type(spacy_corpus.docs().iloc[0])"
   ]
  },
  {
   "cell_type": "code",
   "execution_count": 16,
   "id": "b3955dd1",
   "metadata": {},
   "outputs": [
    {
     "data": {
      "text/plain": [
       "{'quintile': <SeriesMeta [Id: quintile]>,\n",
       " 'date': <SeriesMeta [Id: date]>,\n",
       " 'ner': <DocMeta [Id: ner, Attribute: ents]}"
      ]
     },
     "execution_count": 16,
     "metadata": {},
     "output_type": "execute_result"
    }
   ],
   "source": [
    "spacy_corpus.meta['date'].series()"
   ]
  },
  {
   "cell_type": "code",
   "execution_count": null,
   "id": "119ac008",
   "metadata": {},
   "outputs": [],
   "source": []
  }
 ],
 "metadata": {
  "kernelspec": {
   "display_name": "Python 3 (ipykernel)",
   "language": "python",
   "name": "python3"
  },
  "language_info": {
   "codemirror_mode": {
    "name": "ipython",
    "version": 3
   },
   "file_extension": ".py",
   "mimetype": "text/x-python",
   "name": "python",
   "nbconvert_exporter": "python",
   "pygments_lexer": "ipython3",
   "version": "3.9.16"
  }
 },
 "nbformat": 4,
 "nbformat_minor": 5
}
