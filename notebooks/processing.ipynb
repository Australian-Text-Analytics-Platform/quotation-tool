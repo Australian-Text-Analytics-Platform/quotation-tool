{
 "cells": [
  {
   "cell_type": "code",
   "execution_count": 1,
   "metadata": {},
   "outputs": [
    {
     "data": {
      "text/plain": [
       "'Working directory: /Users/hcha9747/workspace/juxtorpus'"
      ]
     },
     "execution_count": 1,
     "metadata": {},
     "output_type": "execute_result"
    }
   ],
   "source": [
    "import os\n",
    "if  not 'juxtorpus' in os.listdir():\n",
    "    os.chdir('../')\n",
    "assert 'juxtorpus' in os.listdir(), f\"Working directory should be at juxtorpus. But at {os.getcwd()}\"\n",
    "f\"Working directory: {os.getcwd()}\" "
   ]
  },
  {
   "cell_type": "markdown",
   "metadata": {},
   "source": [
    "# Processing\n",
    "\n",
    "This demos processing of the Corpus class using Processors."
   ]
  },
  {
   "cell_type": "code",
   "execution_count": 2,
   "metadata": {
    "collapsed": false,
    "jupyter": {
     "outputs_hidden": false
    }
   },
   "outputs": [
    {
     "data": {
      "text/html": [
       "<div>\n",
       "<style scoped>\n",
       "    .dataframe tbody tr th:only-of-type {\n",
       "        vertical-align: middle;\n",
       "    }\n",
       "\n",
       "    .dataframe tbody tr th {\n",
       "        vertical-align: top;\n",
       "    }\n",
       "\n",
       "    .dataframe thead th {\n",
       "        text-align: right;\n",
       "    }\n",
       "</style>\n",
       "<table border=\"1\" class=\"dataframe\">\n",
       "  <thead>\n",
       "    <tr style=\"text-align: right;\">\n",
       "      <th></th>\n",
       "      <th>Unnamed: 0</th>\n",
       "      <th>id</th>\n",
       "      <th>created_at</th>\n",
       "      <th>doc</th>\n",
       "    </tr>\n",
       "  </thead>\n",
       "  <tbody>\n",
       "    <tr>\n",
       "      <th>0</th>\n",
       "      <td>0</td>\n",
       "      <td>849636868052275200</td>\n",
       "      <td>2017-04-05 14:56:29</td>\n",
       "      <td>And so the robots spared humanity ... https://...</td>\n",
       "    </tr>\n",
       "    <tr>\n",
       "      <th>1</th>\n",
       "      <td>1</td>\n",
       "      <td>848988730585096192</td>\n",
       "      <td>2017-04-03 20:01:01</td>\n",
       "      <td>@ForIn2020 @waltmossberg @mims @defcon_5 Exact...</td>\n",
       "    </tr>\n",
       "    <tr>\n",
       "      <th>2</th>\n",
       "      <td>2</td>\n",
       "      <td>848943072423497728</td>\n",
       "      <td>2017-04-03 16:59:35</td>\n",
       "      <td>@waltmossberg @mims @defcon_5 Et tu, Walt?</td>\n",
       "    </tr>\n",
       "    <tr>\n",
       "      <th>3</th>\n",
       "      <td>3</td>\n",
       "      <td>848935705057280001</td>\n",
       "      <td>2017-04-03 16:30:19</td>\n",
       "      <td>Stormy weather in Shortville ...</td>\n",
       "    </tr>\n",
       "    <tr>\n",
       "      <th>4</th>\n",
       "      <td>4</td>\n",
       "      <td>848416049573658624</td>\n",
       "      <td>2017-04-02 06:05:23</td>\n",
       "      <td>@DaveLeeBBC @verge Coal is dying due to nat ga...</td>\n",
       "    </tr>\n",
       "  </tbody>\n",
       "</table>\n",
       "</div>"
      ],
      "text/plain": [
       "   Unnamed: 0                  id           created_at  \\\n",
       "0           0  849636868052275200  2017-04-05 14:56:29   \n",
       "1           1  848988730585096192  2017-04-03 20:01:01   \n",
       "2           2  848943072423497728  2017-04-03 16:59:35   \n",
       "3           3  848935705057280001  2017-04-03 16:30:19   \n",
       "4           4  848416049573658624  2017-04-02 06:05:23   \n",
       "\n",
       "                                                 doc  \n",
       "0  And so the robots spared humanity ... https://...  \n",
       "1  @ForIn2020 @waltmossberg @mims @defcon_5 Exact...  \n",
       "2         @waltmossberg @mims @defcon_5 Et tu, Walt?  \n",
       "3                   Stormy weather in Shortville ...  \n",
       "4  @DaveLeeBBC @verge Coal is dying due to nat ga...  "
      ]
     },
     "execution_count": 2,
     "metadata": {},
     "output_type": "execute_result"
    }
   ],
   "source": [
    "from juxtorpus.corpus import CorpusBuilder\n",
    "from pathlib import Path\n",
    "\n",
    "builder = CorpusBuilder(Path(\"./assets/samples/elonmusk_tweets.csv\"))\n",
    "builder.head(5)"
   ]
  },
  {
   "cell_type": "code",
   "execution_count": 3,
   "metadata": {},
   "outputs": [
    {
     "data": {
      "text/html": [
       "<div>\n",
       "<style scoped>\n",
       "    .dataframe tbody tr th:only-of-type {\n",
       "        vertical-align: middle;\n",
       "    }\n",
       "\n",
       "    .dataframe tbody tr th {\n",
       "        vertical-align: top;\n",
       "    }\n",
       "\n",
       "    .dataframe thead th {\n",
       "        text-align: right;\n",
       "    }\n",
       "</style>\n",
       "<table border=\"1\" class=\"dataframe\">\n",
       "  <thead>\n",
       "    <tr style=\"text-align: right;\">\n",
       "      <th></th>\n",
       "      <th>0</th>\n",
       "      <th>1</th>\n",
       "      <th>2</th>\n",
       "      <th>3</th>\n",
       "    </tr>\n",
       "  </thead>\n",
       "  <tbody>\n",
       "    <tr>\n",
       "      <th>All Columns</th>\n",
       "      <td>Unnamed: 0</td>\n",
       "      <td>id</td>\n",
       "      <td>created_at</td>\n",
       "      <td>doc</td>\n",
       "    </tr>\n",
       "    <tr>\n",
       "      <th>Added</th>\n",
       "      <td></td>\n",
       "      <td></td>\n",
       "      <td></td>\n",
       "      <td></td>\n",
       "    </tr>\n",
       "  </tbody>\n",
       "</table>\n",
       "</div>"
      ],
      "text/plain": [
       "                      0   1           2    3\n",
       "All Columns  Unnamed: 0  id  created_at  doc\n",
       "Added                                       "
      ]
     },
     "execution_count": 3,
     "metadata": {},
     "output_type": "execute_result"
    }
   ],
   "source": [
    "builder.show_columns()"
   ]
  },
  {
   "cell_type": "code",
   "execution_count": 4,
   "metadata": {},
   "outputs": [
    {
     "data": {
      "text/plain": [
       "Number of words           1386\n",
       "Number of unique words     752\n",
       "Number of documents        100\n",
       "Name: frequency, dtype: uint64"
      ]
     },
     "execution_count": 4,
     "metadata": {},
     "output_type": "execute_result"
    }
   ],
   "source": [
    "builder.set_text_column('doc')\n",
    "builder.set_nrows(100)\n",
    "builder.add_meta('created_at', dtype='datetime')\n",
    "corpus = builder.build()\n",
    "\n",
    "corpus.summary()"
   ]
  },
  {
   "cell_type": "markdown",
   "metadata": {},
   "source": [
    "### Process corpus with spaCy"
   ]
  },
  {
   "cell_type": "code",
   "execution_count": 5,
   "metadata": {
    "collapsed": false,
    "jupyter": {
     "outputs_hidden": false
    }
   },
   "outputs": [],
   "source": [
    "import spacy, pathlib\n",
    "\n",
    "nlp = spacy.load('en_core_web_sm', exclude=['ner'])    # can be a data directory you specify. (but make sure you have the required components in the global registry)"
   ]
  },
  {
   "cell_type": "code",
   "execution_count": 6,
   "metadata": {
    "tags": []
   },
   "outputs": [
    {
     "data": {
      "text/plain": [
       "\"Corpus type is now <class 'juxtorpus.corpus.SpacyCorpus'>.\""
      ]
     },
     "execution_count": 6,
     "metadata": {},
     "output_type": "execute_result"
    }
   ],
   "source": [
    "from juxtorpus.corpus.processors import SpacyProcessor\n",
    "\n",
    "nlp.add_pipe('extract_hashtags')    # see  juxtorpus.corpus.processors\n",
    "\n",
    "spacy_processor = SpacyProcessor(nlp)\n",
    "corpus = spacy_processor.run(corpus)\n",
    "\n",
    "f\"Corpus type is now {type(corpus)}.\""
   ]
  },
  {
   "cell_type": "code",
   "execution_count": 7,
   "metadata": {},
   "outputs": [
    {
     "data": {
      "text/plain": [
       "frozendict.frozendict({'created_at': <SeriesMeta [Id: created_at]>, 'extract_hashtags': <DocMeta [Id: extract_hashtags, Attribute: hashtags]})"
      ]
     },
     "execution_count": 7,
     "metadata": {},
     "output_type": "execute_result"
    }
   ],
   "source": [
    "corpus.metas()"
   ]
  },
  {
   "cell_type": "code",
   "execution_count": 8,
   "metadata": {
    "collapsed": false,
    "jupyter": {
     "outputs_hidden": false
    }
   },
   "outputs": [
    {
     "data": {
      "text/html": [
       "<div>\n",
       "<style scoped>\n",
       "    .dataframe tbody tr th:only-of-type {\n",
       "        vertical-align: middle;\n",
       "    }\n",
       "\n",
       "    .dataframe tbody tr th {\n",
       "        vertical-align: top;\n",
       "    }\n",
       "\n",
       "    .dataframe thead th {\n",
       "        text-align: right;\n",
       "    }\n",
       "</style>\n",
       "<table border=\"1\" class=\"dataframe\">\n",
       "  <thead>\n",
       "    <tr style=\"text-align: right;\">\n",
       "      <th></th>\n",
       "      <th>text</th>\n",
       "      <th>extract_hashtags</th>\n",
       "    </tr>\n",
       "  </thead>\n",
       "  <tbody>\n",
       "    <tr>\n",
       "      <th>0</th>\n",
       "      <td>And so the robots spared humanity ... https://...</td>\n",
       "      <td>[]</td>\n",
       "    </tr>\n",
       "    <tr>\n",
       "      <th>1</th>\n",
       "      <td>@ForIn2020 @waltmossberg @mims @defcon_5 Exact...</td>\n",
       "      <td>[]</td>\n",
       "    </tr>\n",
       "    <tr>\n",
       "      <th>2</th>\n",
       "      <td>@waltmossberg @mims @defcon_5 Et tu, Walt?</td>\n",
       "      <td>[]</td>\n",
       "    </tr>\n",
       "    <tr>\n",
       "      <th>3</th>\n",
       "      <td>Stormy weather in Shortville ...</td>\n",
       "      <td>[]</td>\n",
       "    </tr>\n",
       "    <tr>\n",
       "      <th>4</th>\n",
       "      <td>@DaveLeeBBC @verge Coal is dying due to nat ga...</td>\n",
       "      <td>[]</td>\n",
       "    </tr>\n",
       "  </tbody>\n",
       "</table>\n",
       "</div>"
      ],
      "text/plain": [
       "                                                text extract_hashtags\n",
       "0  And so the robots spared humanity ... https://...               []\n",
       "1  @ForIn2020 @waltmossberg @mims @defcon_5 Exact...               []\n",
       "2         @waltmossberg @mims @defcon_5 Et tu, Walt?               []\n",
       "3                   Stormy weather in Shortville ...               []\n",
       "4  @DaveLeeBBC @verge Coal is dying due to nat ga...               []"
      ]
     },
     "execution_count": 8,
     "metadata": {},
     "output_type": "execute_result"
    }
   ],
   "source": [
    "corpus.metas().get('extract_hashtags').head(5)"
   ]
  },
  {
   "cell_type": "code",
   "execution_count": 9,
   "metadata": {
    "collapsed": false,
    "jupyter": {
     "outputs_hidden": false
    }
   },
   "outputs": [
    {
     "name": "stdout",
     "output_type": "stream",
     "text": [
      "There are 3 documents with hashtags...\n",
      "@jDaz Because I was a dumb idiot and didn't realize at the time that it would cause confusion #elonmusk\n",
      "@varunfatehpuria Oh Model Y is coming too in a few years. Kinda have to. #elonmusk\n",
      "Where are the #%*&gt; aliens? https://t.co/FDuJIdwgrN\n"
     ]
    }
   ],
   "source": [
    "from juxtorpus.corpus import CorpusSlicer\n",
    "\n",
    "slicer = CorpusSlicer(corpus)\n",
    "sliced = slicer.filter_by_condition('extract_hashtags', lambda hashtags: len(hashtags) > 0)\n",
    "\n",
    "_newline = '\\n'\n",
    "print(f\"There are {len(sliced)} documents with hashtags...\\n{_newline.join([d.text for d in sliced])}\")"
   ]
  },
  {
   "cell_type": "code",
   "execution_count": 10,
   "metadata": {},
   "outputs": [
    {
     "name": "stdout",
     "output_type": "stream",
     "text": [
      "@jDaz Because I was a dumb idiot and didn't realize at the time that it would cause confusion #elonmusk\n",
      "@varunfatehpuria Oh Model Y is coming too in a few years. Kinda have to. #elonmusk\n"
     ]
    }
   ],
   "source": [
    "# filter by for #elonmusk only...\n",
    "sliced = CorpusSlicer(sliced).filter_by_item('extract_hashtags', '#elonmusk')\n",
    "\n",
    "for doc in sliced:\n",
    "    print(doc)"
   ]
  },
  {
   "cell_type": "code",
   "execution_count": 11,
   "metadata": {
    "collapsed": false,
    "jupyter": {
     "outputs_hidden": false
    }
   },
   "outputs": [
    {
     "data": {
      "text/plain": [
       "[<ProcessEpisode> Spacy Processor processed on 2022-09-30 11:10:30.473728 with pipeline components tok2vec, tagger, parser, attribute_ruler, lemmatizer, extract_hashtags.]"
      ]
     },
     "execution_count": 11,
     "metadata": {},
     "output_type": "execute_result"
    }
   ],
   "source": [
    "# processing history\n",
    "sliced.history()"
   ]
  },
  {
   "cell_type": "code",
   "execution_count": 12,
   "metadata": {
    "collapsed": false,
    "jupyter": {
     "outputs_hidden": false
    }
   },
   "outputs": [
    {
     "data": {
      "text/plain": [
       "76    (@jDaz, Because, I, was, a, dumb, idiot, and, ...\n",
       "83    (@varunfatehpuria, Oh, Model, Y, is, coming, t...\n",
       "Name: text, dtype: object"
      ]
     },
     "execution_count": 12,
     "metadata": {},
     "output_type": "execute_result"
    }
   ],
   "source": [
    "# .texts() now returns documents\n",
    "sliced.texts()"
   ]
  },
  {
   "cell_type": "code",
   "execution_count": null,
   "metadata": {},
   "outputs": [],
   "source": []
  }
 ],
 "metadata": {
  "kernelspec": {
   "display_name": "Python 3 (ipykernel)",
   "language": "python",
   "name": "python3"
  },
  "language_info": {
   "codemirror_mode": {
    "name": "ipython",
    "version": 3
   },
   "file_extension": ".py",
   "mimetype": "text/x-python",
   "name": "python",
   "nbconvert_exporter": "python",
   "pygments_lexer": "ipython3",
   "version": "3.9.13"
  }
 },
 "nbformat": 4,
 "nbformat_minor": 4
}
