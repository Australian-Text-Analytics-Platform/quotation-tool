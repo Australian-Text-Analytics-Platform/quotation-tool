{
 "cells": [
  {
   "cell_type": "markdown",
   "metadata": {
    "pycharm": {
     "name": "#%% md\n"
    }
   },
   "source": [
    "# Concordance Integration\n",
    "\n",
    "This notebook demonstrates integration with the concordance tool from atap_widget."
   ]
  },
  {
   "cell_type": "code",
   "execution_count": 1,
   "metadata": {
    "pycharm": {
     "name": "#%%\n"
    }
   },
   "outputs": [],
   "source": [
    "from juxtorpus.corpus import Corpus\n",
    "\n",
    "corpus = Corpus.from_disk(\"../assets/samples/tweetsA.csv\")"
   ]
  },
  {
   "cell_type": "code",
   "execution_count": 2,
   "metadata": {
    "pycharm": {
     "name": "#%%\n"
    }
   },
   "outputs": [
    {
     "data": {
      "text/plain": "   text_id                                       left_context   match  \\\n0       12     '@BadAstronomer We can def bring it back like   Dragon   \n1       16  liest thing we can imagine! Secret payload of ...  Dragon   \n\n                                       right_context  \n0  . Just a question of how much weight we need t...  \n1   flight was a giant wheel of cheese. Inspired ...  ",
      "text/html": "<div>\n<style scoped>\n    .dataframe tbody tr th:only-of-type {\n        vertical-align: middle;\n    }\n\n    .dataframe tbody tr th {\n        vertical-align: top;\n    }\n\n    .dataframe thead th {\n        text-align: right;\n    }\n</style>\n<table border=\"1\" class=\"dataframe\">\n  <thead>\n    <tr style=\"text-align: right;\">\n      <th></th>\n      <th>text_id</th>\n      <th>left_context</th>\n      <th>match</th>\n      <th>right_context</th>\n    </tr>\n  </thead>\n  <tbody>\n    <tr>\n      <th>0</th>\n      <td>12</td>\n      <td>'@BadAstronomer We can def bring it back like</td>\n      <td>Dragon</td>\n      <td>. Just a question of how much weight we need t...</td>\n    </tr>\n    <tr>\n      <th>1</th>\n      <td>16</td>\n      <td>liest thing we can imagine! Secret payload of ...</td>\n      <td>Dragon</td>\n      <td>flight was a giant wheel of cheese. Inspired ...</td>\n    </tr>\n  </tbody>\n</table>\n</div>"
     },
     "execution_count": 2,
     "metadata": {},
     "output_type": "execute_result"
    }
   ],
   "source": [
    "from juxtorpus.features.concordance import ATAPConcordance\n",
    "\n",
    "concordance = ATAPConcordance(corpus=corpus.preprocess())\n",
    "\n",
    "concordance.set_keyword(\"dragon\").find()"
   ]
  },
  {
   "cell_type": "code",
   "execution_count": 3,
   "outputs": [
    {
     "data": {
      "text/plain": "VBox(children=(Text(value='', description='Keyword(s):'), HBox(children=(Checkbox(value=False, description='En…",
      "application/vnd.jupyter.widget-view+json": {
       "version_major": 2,
       "version_minor": 0,
       "model_id": "9c8e17fc83cd4896bbd6e71ed2a604c1"
      }
     },
     "metadata": {},
     "output_type": "display_data"
    }
   ],
   "source": [
    "concordance.show_widget()"
   ],
   "metadata": {
    "collapsed": false,
    "pycharm": {
     "name": "#%%\n"
    }
   }
  }
 ],
 "metadata": {
  "kernelspec": {
   "display_name": "Python 3 (ipykernel)",
   "language": "python",
   "name": "python3"
  },
  "language_info": {
   "codemirror_mode": {
    "name": "ipython",
    "version": 3
   },
   "file_extension": ".py",
   "mimetype": "text/x-python",
   "name": "python",
   "nbconvert_exporter": "python",
   "pygments_lexer": "ipython3",
   "version": "3.9.13"
  }
 },
 "nbformat": 4,
 "nbformat_minor": 1
}